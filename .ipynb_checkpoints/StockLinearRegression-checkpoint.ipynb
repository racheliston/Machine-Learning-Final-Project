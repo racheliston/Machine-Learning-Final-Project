{
 "cells": [
  {
   "cell_type": "markdown",
   "id": "6176dba4",
   "metadata": {},
   "source": [
    "# Machine Learning Final Project \n",
    "## Prediciting Stock Prices with Linear Regression\n",
    "### Rachel Liston and Sam Pitonyak"
   ]
  },
  {
   "cell_type": "code",
   "execution_count": 152,
   "id": "fd96949e",
   "metadata": {},
   "outputs": [],
   "source": [
    "# Importing Modules\n",
    "\n",
    "import os\n",
    "import numpy as np\n",
    "import pandas as pd\n",
    "import math\n",
    "import matplotlib.pyplot as plt\n",
    "\n",
    "from sklearn.model_selection import train_test_split\n",
    "from sklearn.linear_model import LinearRegression\n",
    "from sklearn.tree import DecisionTreeRegressor\n",
    "from sklearn.model_selection import KFold\n",
    "from sklearn import metrics"
   ]
  },
  {
   "cell_type": "markdown",
   "id": "a66e86c3",
   "metadata": {},
   "source": [
    "#### Reading in Data"
   ]
  },
  {
   "cell_type": "code",
   "execution_count": 92,
   "id": "c22159cb",
   "metadata": {},
   "outputs": [
    {
     "data": {
      "text/html": [
       "<div>\n",
       "<style scoped>\n",
       "    .dataframe tbody tr th:only-of-type {\n",
       "        vertical-align: middle;\n",
       "    }\n",
       "\n",
       "    .dataframe tbody tr th {\n",
       "        vertical-align: top;\n",
       "    }\n",
       "\n",
       "    .dataframe thead th {\n",
       "        text-align: right;\n",
       "    }\n",
       "</style>\n",
       "<table border=\"1\" class=\"dataframe\">\n",
       "  <thead>\n",
       "    <tr style=\"text-align: right;\">\n",
       "      <th></th>\n",
       "      <th>Date</th>\n",
       "      <th>Open</th>\n",
       "      <th>High</th>\n",
       "      <th>Low</th>\n",
       "      <th>Close</th>\n",
       "      <th>Adj Close</th>\n",
       "      <th>Volume</th>\n",
       "    </tr>\n",
       "  </thead>\n",
       "  <tbody>\n",
       "    <tr>\n",
       "      <th>1</th>\n",
       "      <td>2010-07-20</td>\n",
       "      <td>4.370000</td>\n",
       "      <td>4.370000</td>\n",
       "      <td>4.010000</td>\n",
       "      <td>4.060000</td>\n",
       "      <td>4.060000</td>\n",
       "      <td>9126500</td>\n",
       "    </tr>\n",
       "    <tr>\n",
       "      <th>2</th>\n",
       "      <td>2010-07-21</td>\n",
       "      <td>4.132000</td>\n",
       "      <td>4.180000</td>\n",
       "      <td>3.900000</td>\n",
       "      <td>4.044000</td>\n",
       "      <td>4.044000</td>\n",
       "      <td>6262500</td>\n",
       "    </tr>\n",
       "    <tr>\n",
       "      <th>3</th>\n",
       "      <td>2010-07-22</td>\n",
       "      <td>4.100000</td>\n",
       "      <td>4.250000</td>\n",
       "      <td>4.074000</td>\n",
       "      <td>4.200000</td>\n",
       "      <td>4.200000</td>\n",
       "      <td>4789000</td>\n",
       "    </tr>\n",
       "    <tr>\n",
       "      <th>4</th>\n",
       "      <td>2010-07-23</td>\n",
       "      <td>4.238000</td>\n",
       "      <td>4.312000</td>\n",
       "      <td>4.212000</td>\n",
       "      <td>4.258000</td>\n",
       "      <td>4.258000</td>\n",
       "      <td>3268000</td>\n",
       "    </tr>\n",
       "    <tr>\n",
       "      <th>5</th>\n",
       "      <td>2010-07-26</td>\n",
       "      <td>4.300000</td>\n",
       "      <td>4.300000</td>\n",
       "      <td>4.060000</td>\n",
       "      <td>4.190000</td>\n",
       "      <td>4.190000</td>\n",
       "      <td>4611000</td>\n",
       "    </tr>\n",
       "  </tbody>\n",
       "</table>\n",
       "</div>"
      ],
      "text/plain": [
       "         Date      Open      High       Low     Close Adj Close   Volume\n",
       "1  2010-07-20  4.370000  4.370000  4.010000  4.060000  4.060000  9126500\n",
       "2  2010-07-21  4.132000  4.180000  3.900000  4.044000  4.044000  6262500\n",
       "3  2010-07-22  4.100000  4.250000  4.074000  4.200000  4.200000  4789000\n",
       "4  2010-07-23  4.238000  4.312000  4.212000  4.258000  4.258000  3268000\n",
       "5  2010-07-26  4.300000  4.300000  4.060000  4.190000  4.190000  4611000"
      ]
     },
     "execution_count": 92,
     "metadata": {},
     "output_type": "execute_result"
    }
   ],
   "source": [
    "# Read in the apple data\n",
    "path = os.getcwd() + '/Data/AAPL.csv'\n",
    "\n",
    "apple = pd.read_csv(path, header = None, names = ['Date', 'Open', 'High', 'Low', 'Close', 'Adj Close', 'Volume'])\n",
    "\n",
    "apple = apple.iloc[1: , :]\n",
    "\n",
    "\n",
    "# Read in the netflix data\n",
    "path = os.getcwd() + '/Data/NFLX.csv'\n",
    "\n",
    "netflix = pd.read_csv(path, header = None, names = ['Date', 'Open', 'High', 'Low', 'Close', 'Adj Close', 'Volume'])\n",
    "\n",
    "netflix = netflix.iloc[1: , :]\n",
    "\n",
    "# Read in the tesla data\n",
    "path = os.getcwd() + '/Data/TSLA.csv'\n",
    "\n",
    "tesla = pd.read_csv(path, header = None, names = ['Date', 'Open', 'High', 'Low', 'Close', 'Adj Close', 'Volume'])\n",
    "\n",
    "tesla = tesla.iloc[1: , :]\n",
    "\n",
    "tesla.head()\n"
   ]
  },
  {
   "cell_type": "markdown",
   "id": "b05d5c72",
   "metadata": {},
   "source": [
    "## Apple Data"
   ]
  },
  {
   "cell_type": "code",
   "execution_count": 93,
   "id": "07b1b6c9",
   "metadata": {},
   "outputs": [],
   "source": [
    "# Split the apple data up into open, high, low and close\n",
    "x = apple[['Open', 'High', 'Low']].values\n",
    "y = apple[['Close']].values"
   ]
  },
  {
   "cell_type": "code",
   "execution_count": 94,
   "id": "1785913e",
   "metadata": {},
   "outputs": [],
   "source": [
    "# Train the apple data\n",
    "apple_x_train, apple_x_test, apple_y_train, apple_y_test = train_test_split(x, y, test_size = 0.3, random_state = 1)"
   ]
  },
  {
   "cell_type": "code",
   "execution_count": 95,
   "id": "efbee030",
   "metadata": {},
   "outputs": [],
   "source": [
    "# Create a model for apple data \n",
    "apple_model = LinearRegression(fit_intercept=False)"
   ]
  },
  {
   "cell_type": "code",
   "execution_count": 96,
   "id": "0c9fccd3",
   "metadata": {},
   "outputs": [
    {
     "data": {
      "text/plain": [
       "LinearRegression(fit_intercept=False)"
      ]
     },
     "execution_count": 96,
     "metadata": {},
     "output_type": "execute_result"
    }
   ],
   "source": [
    "# Fit the model for apple data\n",
    "apple_model.fit(apple_x_train, apple_y_train)"
   ]
  },
  {
   "cell_type": "code",
   "execution_count": 97,
   "id": "60f52877",
   "metadata": {},
   "outputs": [],
   "source": [
    "# Get the predicted values for apple data\n",
    "predicted_apple_close = apple_model.predict(apple_x_test)"
   ]
  },
  {
   "cell_type": "code",
   "execution_count": 98,
   "id": "0291fda5",
   "metadata": {},
   "outputs": [
    {
     "data": {
      "text/html": [
       "<div>\n",
       "<style scoped>\n",
       "    .dataframe tbody tr th:only-of-type {\n",
       "        vertical-align: middle;\n",
       "    }\n",
       "\n",
       "    .dataframe tbody tr th {\n",
       "        vertical-align: top;\n",
       "    }\n",
       "\n",
       "    .dataframe thead th {\n",
       "        text-align: right;\n",
       "    }\n",
       "</style>\n",
       "<table border=\"1\" class=\"dataframe\">\n",
       "  <thead>\n",
       "    <tr style=\"text-align: right;\">\n",
       "      <th></th>\n",
       "      <th>Actual</th>\n",
       "      <th>Predicted</th>\n",
       "    </tr>\n",
       "  </thead>\n",
       "  <tbody>\n",
       "    <tr>\n",
       "      <th>0</th>\n",
       "      <td>26.684999</td>\n",
       "      <td>26.610878</td>\n",
       "    </tr>\n",
       "    <tr>\n",
       "      <th>1</th>\n",
       "      <td>40.580002</td>\n",
       "      <td>40.414822</td>\n",
       "    </tr>\n",
       "    <tr>\n",
       "      <th>2</th>\n",
       "      <td>11.872857</td>\n",
       "      <td>11.860119</td>\n",
       "    </tr>\n",
       "    <tr>\n",
       "      <th>3</th>\n",
       "      <td>46.577499</td>\n",
       "      <td>46.714093</td>\n",
       "    </tr>\n",
       "    <tr>\n",
       "      <th>4</th>\n",
       "      <td>58.967499</td>\n",
       "      <td>59.333543</td>\n",
       "    </tr>\n",
       "    <tr>\n",
       "      <th>5</th>\n",
       "      <td>25.780001</td>\n",
       "      <td>26.015766</td>\n",
       "    </tr>\n",
       "    <tr>\n",
       "      <th>6</th>\n",
       "      <td>25.280001</td>\n",
       "      <td>25.179458</td>\n",
       "    </tr>\n",
       "    <tr>\n",
       "      <th>7</th>\n",
       "      <td>30.469999</td>\n",
       "      <td>30.417673</td>\n",
       "    </tr>\n",
       "    <tr>\n",
       "      <th>8</th>\n",
       "      <td>40.727501</td>\n",
       "      <td>40.618267</td>\n",
       "    </tr>\n",
       "    <tr>\n",
       "      <th>9</th>\n",
       "      <td>12.505357</td>\n",
       "      <td>12.440447</td>\n",
       "    </tr>\n",
       "    <tr>\n",
       "      <th>10</th>\n",
       "      <td>11.507500</td>\n",
       "      <td>11.439894</td>\n",
       "    </tr>\n",
       "    <tr>\n",
       "      <th>11</th>\n",
       "      <td>22.727501</td>\n",
       "      <td>22.920133</td>\n",
       "    </tr>\n",
       "    <tr>\n",
       "      <th>12</th>\n",
       "      <td>22.791786</td>\n",
       "      <td>22.824082</td>\n",
       "    </tr>\n",
       "    <tr>\n",
       "      <th>13</th>\n",
       "      <td>43.285000</td>\n",
       "      <td>43.286581</td>\n",
       "    </tr>\n",
       "    <tr>\n",
       "      <th>14</th>\n",
       "      <td>34.750000</td>\n",
       "      <td>34.881442</td>\n",
       "    </tr>\n",
       "    <tr>\n",
       "      <th>15</th>\n",
       "      <td>24.392143</td>\n",
       "      <td>24.354742</td>\n",
       "    </tr>\n",
       "    <tr>\n",
       "      <th>16</th>\n",
       "      <td>65.660004</td>\n",
       "      <td>65.842469</td>\n",
       "    </tr>\n",
       "    <tr>\n",
       "      <th>17</th>\n",
       "      <td>39.247501</td>\n",
       "      <td>39.227889</td>\n",
       "    </tr>\n",
       "    <tr>\n",
       "      <th>18</th>\n",
       "      <td>18.442499</td>\n",
       "      <td>18.320463</td>\n",
       "    </tr>\n",
       "    <tr>\n",
       "      <th>19</th>\n",
       "      <td>25.532499</td>\n",
       "      <td>25.507236</td>\n",
       "    </tr>\n",
       "    <tr>\n",
       "      <th>20</th>\n",
       "      <td>32.147499</td>\n",
       "      <td>32.360644</td>\n",
       "    </tr>\n",
       "    <tr>\n",
       "      <th>21</th>\n",
       "      <td>19.714287</td>\n",
       "      <td>19.637579</td>\n",
       "    </tr>\n",
       "    <tr>\n",
       "      <th>22</th>\n",
       "      <td>82.875000</td>\n",
       "      <td>82.522539</td>\n",
       "    </tr>\n",
       "    <tr>\n",
       "      <th>23</th>\n",
       "      <td>26.500000</td>\n",
       "      <td>26.531837</td>\n",
       "    </tr>\n",
       "    <tr>\n",
       "      <th>24</th>\n",
       "      <td>23.045000</td>\n",
       "      <td>22.891627</td>\n",
       "    </tr>\n",
       "  </tbody>\n",
       "</table>\n",
       "</div>"
      ],
      "text/plain": [
       "       Actual  Predicted\n",
       "0   26.684999  26.610878\n",
       "1   40.580002  40.414822\n",
       "2   11.872857  11.860119\n",
       "3   46.577499  46.714093\n",
       "4   58.967499  59.333543\n",
       "5   25.780001  26.015766\n",
       "6   25.280001  25.179458\n",
       "7   30.469999  30.417673\n",
       "8   40.727501  40.618267\n",
       "9   12.505357  12.440447\n",
       "10  11.507500  11.439894\n",
       "11  22.727501  22.920133\n",
       "12  22.791786  22.824082\n",
       "13  43.285000  43.286581\n",
       "14  34.750000  34.881442\n",
       "15  24.392143  24.354742\n",
       "16  65.660004  65.842469\n",
       "17  39.247501  39.227889\n",
       "18  18.442499  18.320463\n",
       "19  25.532499  25.507236\n",
       "20  32.147499  32.360644\n",
       "21  19.714287  19.637579\n",
       "22  82.875000  82.522539\n",
       "23  26.500000  26.531837\n",
       "24  23.045000  22.891627"
      ]
     },
     "execution_count": 98,
     "metadata": {},
     "output_type": "execute_result"
    }
   ],
   "source": [
    "# Create a data frame for apple data to store the predicted values and actual values of test data\n",
    "apple_actual_predicted = pd.DataFrame({'Actual': apple_y_test.flatten(), 'Predicted': predicted_apple_close.flatten()})\n",
    "apple_actual_predicted.head(25)"
   ]
  },
  {
   "cell_type": "code",
   "execution_count": 99,
   "id": "c9e63d07",
   "metadata": {},
   "outputs": [
    {
     "name": "stdout",
     "output_type": "stream",
     "text": [
      "Mean Absolute Error:  0.13594400392225686\n"
     ]
    }
   ],
   "source": [
    "# Calculate the mean absolute error for apple data\n",
    "print('Mean Absolute Error: ', metrics.mean_absolute_error(apple_y_test, predicted_apple_close))\n",
    "      "
   ]
  },
  {
   "cell_type": "code",
   "execution_count": 100,
   "id": "7ad3f371",
   "metadata": {},
   "outputs": [
    {
     "data": {
      "text/plain": [
       "<AxesSubplot:>"
      ]
     },
     "execution_count": 100,
     "metadata": {},
     "output_type": "execute_result"
    },
    {
     "data": {
      "image/png": "[encoded data removed]",
      "text/plain": [
       "<Figure size 432x288 with 1 Axes>"
      ]
     },
     "metadata": {
      "needs_background": "light"
     },
     "output_type": "display_data"
    }
   ],
   "source": [
    "# Graph in bar graph form to compare actual versus predicted data\n",
    "# Graph in increments (graphing all 755 points does not supply a helpful visual)\n",
    "\n",
    "# Change type of Actual column from an object to a float64 for graphing purposes\n",
    "apple_actual_predicted['Actual'] = pd.to_numeric(apple_actual_predicted['Actual'])\n",
    "graph = apple_actual_predicted.iloc[300:310]\n",
    "graph.plot(kind = 'bar')"
   ]
  },
  {
   "cell_type": "code",
   "execution_count": 101,
   "id": "b049db49",
   "metadata": {},
   "outputs": [
    {
     "data": {
      "text/plain": [
       "<AxesSubplot:>"
      ]
     },
     "execution_count": 101,
     "metadata": {},
     "output_type": "execute_result"
    },
    {
     "data": {
      "image/png": "[encoded data removed]",
      "text/plain": [
       "<Figure size 432x288 with 1 Axes>"
      ]
     },
     "metadata": {
      "needs_background": "light"
     },
     "output_type": "display_data"
    }
   ],
   "source": [
    "# Graph data values 200 - 220\n",
    "graph = apple_actual_predicted.iloc[200:220]\n",
    "graph.plot(kind = 'bar')"
   ]
  },
  {
   "cell_type": "code",
   "execution_count": 102,
   "id": "0cea0d2a",
   "metadata": {},
   "outputs": [
    {
     "data": {
      "text/plain": [
       "<AxesSubplot:>"
      ]
     },
     "execution_count": 102,
     "metadata": {},
     "output_type": "execute_result"
    },
    {
     "data": {
      "image/png": "[encoded data removed]",
      "text/plain": [
       "<Figure size 432x288 with 1 Axes>"
      ]
     },
     "metadata": {
      "needs_background": "light"
     },
     "output_type": "display_data"
    }
   ],
   "source": [
    "# Graph data values 600 - 620\n",
    "graph = apple_actual_predicted.iloc[600:620]\n",
    "graph.plot(kind = 'bar')"
   ]
  },
  {
   "cell_type": "markdown",
   "id": "78dd5d4c",
   "metadata": {},
   "source": [
    "### Apple Data with Volume"
   ]
  },
  {
   "cell_type": "code",
   "execution_count": 103,
   "id": "8a214c0a",
   "metadata": {},
   "outputs": [],
   "source": [
    "# Split the apple data up into open, high, low, volume and close\n",
    "x = apple[['Open', 'High', 'Low', 'Volume']].values\n",
    "y = apple[['Close']].values"
   ]
  },
  {
   "cell_type": "code",
   "execution_count": 104,
   "id": "62b00404",
   "metadata": {},
   "outputs": [],
   "source": [
    "# Train the apple data\n",
    "apple_x_train, apple_x_test, apple_y_train, apple_y_test = train_test_split(x, y, test_size = 0.3, random_state = 1)"
   ]
  },
  {
   "cell_type": "code",
   "execution_count": 105,
   "id": "fac41c89",
   "metadata": {},
   "outputs": [],
   "source": [
    "# Create a model for apple data \n",
    "apple_model_volume = LinearRegression(fit_intercept=False)"
   ]
  },
  {
   "cell_type": "code",
   "execution_count": 106,
   "id": "1eef3932",
   "metadata": {},
   "outputs": [
    {
     "data": {
      "text/plain": [
       "LinearRegression(fit_intercept=False)"
      ]
     },
     "execution_count": 106,
     "metadata": {},
     "output_type": "execute_result"
    }
   ],
   "source": [
    "# Fit the model for apple data\n",
    "apple_model_volume.fit(apple_x_train, apple_y_train)"
   ]
  },
  {
   "cell_type": "code",
   "execution_count": 107,
   "id": "b1b0ce79",
   "metadata": {},
   "outputs": [],
   "source": [
    "# Get the predicted values for apple data\n",
    "predicted_apple_close = apple_model_volume.predict(apple_x_test)"
   ]
  },
  {
   "cell_type": "code",
   "execution_count": 108,
   "id": "d5f7d377",
   "metadata": {},
   "outputs": [
    {
     "data": {
      "text/html": [
       "<div>\n",
       "<style scoped>\n",
       "    .dataframe tbody tr th:only-of-type {\n",
       "        vertical-align: middle;\n",
       "    }\n",
       "\n",
       "    .dataframe tbody tr th {\n",
       "        vertical-align: top;\n",
       "    }\n",
       "\n",
       "    .dataframe thead th {\n",
       "        text-align: right;\n",
       "    }\n",
       "</style>\n",
       "<table border=\"1\" class=\"dataframe\">\n",
       "  <thead>\n",
       "    <tr style=\"text-align: right;\">\n",
       "      <th></th>\n",
       "      <th>Actual</th>\n",
       "      <th>Predicted</th>\n",
       "    </tr>\n",
       "  </thead>\n",
       "  <tbody>\n",
       "    <tr>\n",
       "      <th>0</th>\n",
       "      <td>26.684999</td>\n",
       "      <td>26.611088</td>\n",
       "    </tr>\n",
       "    <tr>\n",
       "      <th>1</th>\n",
       "      <td>40.580002</td>\n",
       "      <td>40.414547</td>\n",
       "    </tr>\n",
       "    <tr>\n",
       "      <th>2</th>\n",
       "      <td>11.872857</td>\n",
       "      <td>11.860824</td>\n",
       "    </tr>\n",
       "    <tr>\n",
       "      <th>3</th>\n",
       "      <td>46.577499</td>\n",
       "      <td>46.713772</td>\n",
       "    </tr>\n",
       "    <tr>\n",
       "      <th>4</th>\n",
       "      <td>58.967499</td>\n",
       "      <td>59.333175</td>\n",
       "    </tr>\n",
       "    <tr>\n",
       "      <th>5</th>\n",
       "      <td>25.780001</td>\n",
       "      <td>26.016579</td>\n",
       "    </tr>\n",
       "    <tr>\n",
       "      <th>6</th>\n",
       "      <td>25.280001</td>\n",
       "      <td>25.179420</td>\n",
       "    </tr>\n",
       "    <tr>\n",
       "      <th>7</th>\n",
       "      <td>30.469999</td>\n",
       "      <td>30.417680</td>\n",
       "    </tr>\n",
       "    <tr>\n",
       "      <th>8</th>\n",
       "      <td>40.727501</td>\n",
       "      <td>40.618129</td>\n",
       "    </tr>\n",
       "    <tr>\n",
       "      <th>9</th>\n",
       "      <td>12.505357</td>\n",
       "      <td>12.441161</td>\n",
       "    </tr>\n",
       "    <tr>\n",
       "      <th>10</th>\n",
       "      <td>11.507500</td>\n",
       "      <td>11.440704</td>\n",
       "    </tr>\n",
       "    <tr>\n",
       "      <th>11</th>\n",
       "      <td>22.727501</td>\n",
       "      <td>22.920840</td>\n",
       "    </tr>\n",
       "    <tr>\n",
       "      <th>12</th>\n",
       "      <td>22.791786</td>\n",
       "      <td>22.825336</td>\n",
       "    </tr>\n",
       "    <tr>\n",
       "      <th>13</th>\n",
       "      <td>43.285000</td>\n",
       "      <td>43.286387</td>\n",
       "    </tr>\n",
       "    <tr>\n",
       "      <th>14</th>\n",
       "      <td>34.750000</td>\n",
       "      <td>34.881297</td>\n",
       "    </tr>\n",
       "    <tr>\n",
       "      <th>15</th>\n",
       "      <td>24.392143</td>\n",
       "      <td>24.355953</td>\n",
       "    </tr>\n",
       "    <tr>\n",
       "      <th>16</th>\n",
       "      <td>65.660004</td>\n",
       "      <td>65.841963</td>\n",
       "    </tr>\n",
       "    <tr>\n",
       "      <th>17</th>\n",
       "      <td>39.247501</td>\n",
       "      <td>39.227675</td>\n",
       "    </tr>\n",
       "    <tr>\n",
       "      <th>18</th>\n",
       "      <td>18.442499</td>\n",
       "      <td>18.321635</td>\n",
       "    </tr>\n",
       "    <tr>\n",
       "      <th>19</th>\n",
       "      <td>25.532499</td>\n",
       "      <td>25.507471</td>\n",
       "    </tr>\n",
       "    <tr>\n",
       "      <th>20</th>\n",
       "      <td>32.147499</td>\n",
       "      <td>32.360636</td>\n",
       "    </tr>\n",
       "    <tr>\n",
       "      <th>21</th>\n",
       "      <td>19.714287</td>\n",
       "      <td>19.638383</td>\n",
       "    </tr>\n",
       "    <tr>\n",
       "      <th>22</th>\n",
       "      <td>82.875000</td>\n",
       "      <td>82.521957</td>\n",
       "    </tr>\n",
       "    <tr>\n",
       "      <th>23</th>\n",
       "      <td>26.500000</td>\n",
       "      <td>26.531814</td>\n",
       "    </tr>\n",
       "    <tr>\n",
       "      <th>24</th>\n",
       "      <td>23.045000</td>\n",
       "      <td>22.891687</td>\n",
       "    </tr>\n",
       "  </tbody>\n",
       "</table>\n",
       "</div>"
      ],
      "text/plain": [
       "       Actual  Predicted\n",
       "0   26.684999  26.611088\n",
       "1   40.580002  40.414547\n",
       "2   11.872857  11.860824\n",
       "3   46.577499  46.713772\n",
       "4   58.967499  59.333175\n",
       "5   25.780001  26.016579\n",
       "6   25.280001  25.179420\n",
       "7   30.469999  30.417680\n",
       "8   40.727501  40.618129\n",
       "9   12.505357  12.441161\n",
       "10  11.507500  11.440704\n",
       "11  22.727501  22.920840\n",
       "12  22.791786  22.825336\n",
       "13  43.285000  43.286387\n",
       "14  34.750000  34.881297\n",
       "15  24.392143  24.355953\n",
       "16  65.660004  65.841963\n",
       "17  39.247501  39.227675\n",
       "18  18.442499  18.321635\n",
       "19  25.532499  25.507471\n",
       "20  32.147499  32.360636\n",
       "21  19.714287  19.638383\n",
       "22  82.875000  82.521957\n",
       "23  26.500000  26.531814\n",
       "24  23.045000  22.891687"
      ]
     },
     "execution_count": 108,
     "metadata": {},
     "output_type": "execute_result"
    }
   ],
   "source": [
    "# Create a data frame for apple data to store the predicted values and actual values of test data\n",
    "apple_actual_predicted = pd.DataFrame({'Actual': apple_y_test.flatten(), 'Predicted': predicted_apple_close.flatten()})\n",
    "apple_actual_predicted.head(25)"
   ]
  },
  {
   "cell_type": "code",
   "execution_count": 109,
   "id": "678cc0d0",
   "metadata": {},
   "outputs": [
    {
     "name": "stdout",
     "output_type": "stream",
     "text": [
      "Mean Absolute Error:  0.1359578942560756\n"
     ]
    }
   ],
   "source": [
    "# Calculate the mean absolute error for apple data\n",
    "print('Mean Absolute Error: ', metrics.mean_absolute_error(apple_y_test, predicted_apple_close))\n",
    "      "
   ]
  },
  {
   "cell_type": "markdown",
   "id": "ab8ee7a4",
   "metadata": {},
   "source": [
    "## Netflix Data"
   ]
  },
  {
   "cell_type": "code",
   "execution_count": 110,
   "id": "c6e97943",
   "metadata": {},
   "outputs": [],
   "source": [
    "# Split the netflix data up into open, high, low and close\n",
    "x = netflix[['Open', 'High', 'Low']].values\n",
    "y = netflix[['Close']].values"
   ]
  },
  {
   "cell_type": "code",
   "execution_count": 111,
   "id": "9229fb31",
   "metadata": {},
   "outputs": [],
   "source": [
    "# Train the netflix data\n",
    "netflix_x_train, netflix_x_test, netflix_y_train, netflix_y_test = train_test_split(x, y, test_size = 0.3, random_state = 1)"
   ]
  },
  {
   "cell_type": "code",
   "execution_count": 112,
   "id": "6fa0b7d3",
   "metadata": {},
   "outputs": [],
   "source": [
    "# Create a model for netflix data \n",
    "netflix_model = LinearRegression(fit_intercept=False)"
   ]
  },
  {
   "cell_type": "code",
   "execution_count": 113,
   "id": "9a18c131",
   "metadata": {},
   "outputs": [
    {
     "data": {
      "text/plain": [
       "LinearRegression(fit_intercept=False)"
      ]
     },
     "execution_count": 113,
     "metadata": {},
     "output_type": "execute_result"
    }
   ],
   "source": [
    "# Fit the model for netflix data\n",
    "netflix_model.fit(netflix_x_train, netflix_y_train)"
   ]
  },
  {
   "cell_type": "code",
   "execution_count": 114,
   "id": "815f571d",
   "metadata": {},
   "outputs": [],
   "source": [
    "# Get the predicted values for netflix data\n",
    "predicted_netflix_close = netflix_model.predict(netflix_x_test)"
   ]
  },
  {
   "cell_type": "code",
   "execution_count": 115,
   "id": "e53cdcdc",
   "metadata": {},
   "outputs": [
    {
     "data": {
      "text/html": [
       "<div>\n",
       "<style scoped>\n",
       "    .dataframe tbody tr th:only-of-type {\n",
       "        vertical-align: middle;\n",
       "    }\n",
       "\n",
       "    .dataframe tbody tr th {\n",
       "        vertical-align: top;\n",
       "    }\n",
       "\n",
       "    .dataframe thead th {\n",
       "        text-align: right;\n",
       "    }\n",
       "</style>\n",
       "<table border=\"1\" class=\"dataframe\">\n",
       "  <thead>\n",
       "    <tr style=\"text-align: right;\">\n",
       "      <th></th>\n",
       "      <th>Actual</th>\n",
       "      <th>Predicted</th>\n",
       "    </tr>\n",
       "  </thead>\n",
       "  <tbody>\n",
       "    <tr>\n",
       "      <th>0</th>\n",
       "      <td>55.174286</td>\n",
       "      <td>54.928235</td>\n",
       "    </tr>\n",
       "    <tr>\n",
       "      <th>1</th>\n",
       "      <td>311.760010</td>\n",
       "      <td>309.933117</td>\n",
       "    </tr>\n",
       "    <tr>\n",
       "      <th>2</th>\n",
       "      <td>37.304287</td>\n",
       "      <td>36.911283</td>\n",
       "    </tr>\n",
       "    <tr>\n",
       "      <th>3</th>\n",
       "      <td>324.179993</td>\n",
       "      <td>324.570245</td>\n",
       "    </tr>\n",
       "    <tr>\n",
       "      <th>4</th>\n",
       "      <td>285.529999</td>\n",
       "      <td>284.929753</td>\n",
       "    </tr>\n",
       "    <tr>\n",
       "      <th>5</th>\n",
       "      <td>96.879997</td>\n",
       "      <td>103.292276</td>\n",
       "    </tr>\n",
       "    <tr>\n",
       "      <th>6</th>\n",
       "      <td>98.000000</td>\n",
       "      <td>96.719537</td>\n",
       "    </tr>\n",
       "    <tr>\n",
       "      <th>7</th>\n",
       "      <td>139.520004</td>\n",
       "      <td>139.972457</td>\n",
       "    </tr>\n",
       "    <tr>\n",
       "      <th>8</th>\n",
       "      <td>168.809998</td>\n",
       "      <td>168.605655</td>\n",
       "    </tr>\n",
       "    <tr>\n",
       "      <th>9</th>\n",
       "      <td>33.708572</td>\n",
       "      <td>33.213441</td>\n",
       "    </tr>\n",
       "    <tr>\n",
       "      <th>10</th>\n",
       "      <td>25.435715</td>\n",
       "      <td>25.402556</td>\n",
       "    </tr>\n",
       "    <tr>\n",
       "      <th>11</th>\n",
       "      <td>62.882858</td>\n",
       "      <td>62.559776</td>\n",
       "    </tr>\n",
       "    <tr>\n",
       "      <th>12</th>\n",
       "      <td>10.502857</td>\n",
       "      <td>10.392770</td>\n",
       "    </tr>\n",
       "    <tr>\n",
       "      <th>13</th>\n",
       "      <td>196.229996</td>\n",
       "      <td>197.007625</td>\n",
       "    </tr>\n",
       "    <tr>\n",
       "      <th>14</th>\n",
       "      <td>140.320007</td>\n",
       "      <td>140.679902</td>\n",
       "    </tr>\n",
       "    <tr>\n",
       "      <th>15</th>\n",
       "      <td>8.285714</td>\n",
       "      <td>8.193166</td>\n",
       "    </tr>\n",
       "    <tr>\n",
       "      <th>16</th>\n",
       "      <td>289.619995</td>\n",
       "      <td>289.232609</td>\n",
       "    </tr>\n",
       "    <tr>\n",
       "      <th>17</th>\n",
       "      <td>199.490005</td>\n",
       "      <td>198.735579</td>\n",
       "    </tr>\n",
       "    <tr>\n",
       "      <th>18</th>\n",
       "      <td>16.141430</td>\n",
       "      <td>16.196270</td>\n",
       "    </tr>\n",
       "    <tr>\n",
       "      <th>19</th>\n",
       "      <td>67.814285</td>\n",
       "      <td>67.968768</td>\n",
       "    </tr>\n",
       "    <tr>\n",
       "      <th>20</th>\n",
       "      <td>95.094284</td>\n",
       "      <td>94.816992</td>\n",
       "    </tr>\n",
       "    <tr>\n",
       "      <th>21</th>\n",
       "      <td>15.171429</td>\n",
       "      <td>15.506286</td>\n",
       "    </tr>\n",
       "    <tr>\n",
       "      <th>22</th>\n",
       "      <td>419.600006</td>\n",
       "      <td>415.549717</td>\n",
       "    </tr>\n",
       "    <tr>\n",
       "      <th>23</th>\n",
       "      <td>97.449997</td>\n",
       "      <td>98.139025</td>\n",
       "    </tr>\n",
       "    <tr>\n",
       "      <th>24</th>\n",
       "      <td>64.097145</td>\n",
       "      <td>63.847309</td>\n",
       "    </tr>\n",
       "  </tbody>\n",
       "</table>\n",
       "</div>"
      ],
      "text/plain": [
       "        Actual   Predicted\n",
       "0    55.174286   54.928235\n",
       "1   311.760010  309.933117\n",
       "2    37.304287   36.911283\n",
       "3   324.179993  324.570245\n",
       "4   285.529999  284.929753\n",
       "5    96.879997  103.292276\n",
       "6    98.000000   96.719537\n",
       "7   139.520004  139.972457\n",
       "8   168.809998  168.605655\n",
       "9    33.708572   33.213441\n",
       "10   25.435715   25.402556\n",
       "11   62.882858   62.559776\n",
       "12   10.502857   10.392770\n",
       "13  196.229996  197.007625\n",
       "14  140.320007  140.679902\n",
       "15    8.285714    8.193166\n",
       "16  289.619995  289.232609\n",
       "17  199.490005  198.735579\n",
       "18   16.141430   16.196270\n",
       "19   67.814285   67.968768\n",
       "20   95.094284   94.816992\n",
       "21   15.171429   15.506286\n",
       "22  419.600006  415.549717\n",
       "23   97.449997   98.139025\n",
       "24   64.097145   63.847309"
      ]
     },
     "execution_count": 115,
     "metadata": {},
     "output_type": "execute_result"
    }
   ],
   "source": [
    "# Create a data frame for netflix data to store the predicted values and actual values of test data\n",
    "netflix_actual_predicted = pd.DataFrame({'Actual': netflix_y_test.flatten(), 'Predicted': predicted_netflix_close.flatten()})\n",
    "netflix_actual_predicted.head(25)"
   ]
  },
  {
   "cell_type": "code",
   "execution_count": 116,
   "id": "2935ad45",
   "metadata": {},
   "outputs": [
    {
     "name": "stdout",
     "output_type": "stream",
     "text": [
      "Mean Absolute Error:  0.9776020153946228\n"
     ]
    }
   ],
   "source": [
    "# Calculate the mean absolute error for netflix data\n",
    "print('Mean Absolute Error: ', metrics.mean_absolute_error(netflix_y_test, predicted_netflix_close))"
   ]
  },
  {
   "cell_type": "code",
   "execution_count": 117,
   "id": "bd4eb3c2",
   "metadata": {},
   "outputs": [
    {
     "data": {
      "text/plain": [
       "<AxesSubplot:>"
      ]
     },
     "execution_count": 117,
     "metadata": {},
     "output_type": "execute_result"
    },
    {
     "data": {
      "image/png": "[encoded data removed]",
      "text/plain": [
       "<Figure size 432x288 with 1 Axes>"
      ]
     },
     "metadata": {
      "needs_background": "light"
     },
     "output_type": "display_data"
    }
   ],
   "source": [
    "# Graph in bar graph form to compare actual versus predicted data\n",
    "# Graph in increments (graphing all 755 points does not supply a helpful visual)\n",
    "\n",
    "# Change type of Actual column from an object to a float64 for graphing purposes\n",
    "netflix_actual_predicted['Actual'] = pd.to_numeric(netflix_actual_predicted['Actual'])\n",
    "graph = netflix_actual_predicted.iloc[300:310]\n",
    "graph.plot(kind = 'bar')"
   ]
  },
  {
   "cell_type": "code",
   "execution_count": 118,
   "id": "c198a010",
   "metadata": {},
   "outputs": [
    {
     "data": {
      "text/plain": [
       "<AxesSubplot:>"
      ]
     },
     "execution_count": 118,
     "metadata": {},
     "output_type": "execute_result"
    },
    {
     "data": {
      "image/png": "[encoded data removed]",
      "text/plain": [
       "<Figure size 432x288 with 1 Axes>"
      ]
     },
     "metadata": {
      "needs_background": "light"
     },
     "output_type": "display_data"
    }
   ],
   "source": [
    "graph = netflix_actual_predicted.iloc[200:220]\n",
    "graph.plot(kind = 'bar')"
   ]
  },
  {
   "cell_type": "code",
   "execution_count": 119,
   "id": "ea53d76e",
   "metadata": {},
   "outputs": [
    {
     "data": {
      "text/plain": [
       "<AxesSubplot:>"
      ]
     },
     "execution_count": 119,
     "metadata": {},
     "output_type": "execute_result"
    },
    {
     "data": {
      "image/png": "[encoded data removed]",
      "text/plain": [
       "<Figure size 432x288 with 1 Axes>"
      ]
     },
     "metadata": {
      "needs_background": "light"
     },
     "output_type": "display_data"
    }
   ],
   "source": [
    "graph = netflix_actual_predicted.iloc[600:620]\n",
    "graph.plot(kind = 'bar')"
   ]
  },
  {
   "cell_type": "markdown",
   "id": "e32832d7",
   "metadata": {},
   "source": [
    "### Netflix Data with Volume"
   ]
  },
  {
   "cell_type": "code",
   "execution_count": 120,
   "id": "5b226c43",
   "metadata": {},
   "outputs": [],
   "source": [
    "# Split the netflix data up into open, high, low, volume, and close\n",
    "x = netflix[['Open', 'High', 'Low', 'Volume']].values\n",
    "y = netflix[['Close']].values"
   ]
  },
  {
   "cell_type": "code",
   "execution_count": 121,
   "id": "17fdbeab",
   "metadata": {},
   "outputs": [],
   "source": [
    "# Train the netflix data with volume\n",
    "netflix_x_train, netflix_x_test, netflix_y_train, netflix_y_test = train_test_split(x, y, test_size = 0.3, random_state = 1)"
   ]
  },
  {
   "cell_type": "code",
   "execution_count": 122,
   "id": "aed70efc",
   "metadata": {},
   "outputs": [],
   "source": [
    "# Create a model for netflix data with volume\n",
    "netflix_model = LinearRegression(fit_intercept=False)"
   ]
  },
  {
   "cell_type": "code",
   "execution_count": 123,
   "id": "1ec20b76",
   "metadata": {},
   "outputs": [
    {
     "data": {
      "text/plain": [
       "LinearRegression(fit_intercept=False)"
      ]
     },
     "execution_count": 123,
     "metadata": {},
     "output_type": "execute_result"
    }
   ],
   "source": [
    "# Fit the model for netflix data with volume\n",
    "netflix_model.fit(netflix_x_train, netflix_y_train)"
   ]
  },
  {
   "cell_type": "code",
   "execution_count": 124,
   "id": "32afc2d8",
   "metadata": {},
   "outputs": [],
   "source": [
    "# Get the predicted values for netflix data with volume\n",
    "predicted_netflix_close = netflix_model.predict(netflix_x_test)"
   ]
  },
  {
   "cell_type": "code",
   "execution_count": 125,
   "id": "9fec0610",
   "metadata": {},
   "outputs": [
    {
     "data": {
      "text/html": [
       "<div>\n",
       "<style scoped>\n",
       "    .dataframe tbody tr th:only-of-type {\n",
       "        vertical-align: middle;\n",
       "    }\n",
       "\n",
       "    .dataframe tbody tr th {\n",
       "        vertical-align: top;\n",
       "    }\n",
       "\n",
       "    .dataframe thead th {\n",
       "        text-align: right;\n",
       "    }\n",
       "</style>\n",
       "<table border=\"1\" class=\"dataframe\">\n",
       "  <thead>\n",
       "    <tr style=\"text-align: right;\">\n",
       "      <th></th>\n",
       "      <th>Actual</th>\n",
       "      <th>Predicted</th>\n",
       "    </tr>\n",
       "  </thead>\n",
       "  <tbody>\n",
       "    <tr>\n",
       "      <th>0</th>\n",
       "      <td>55.174286</td>\n",
       "      <td>54.931258</td>\n",
       "    </tr>\n",
       "    <tr>\n",
       "      <th>1</th>\n",
       "      <td>311.760010</td>\n",
       "      <td>309.930713</td>\n",
       "    </tr>\n",
       "    <tr>\n",
       "      <th>2</th>\n",
       "      <td>37.304287</td>\n",
       "      <td>36.917407</td>\n",
       "    </tr>\n",
       "    <tr>\n",
       "      <th>3</th>\n",
       "      <td>324.179993</td>\n",
       "      <td>324.569317</td>\n",
       "    </tr>\n",
       "    <tr>\n",
       "      <th>4</th>\n",
       "      <td>285.529999</td>\n",
       "      <td>284.929052</td>\n",
       "    </tr>\n",
       "    <tr>\n",
       "      <th>5</th>\n",
       "      <td>96.879997</td>\n",
       "      <td>103.301896</td>\n",
       "    </tr>\n",
       "    <tr>\n",
       "      <th>6</th>\n",
       "      <td>98.000000</td>\n",
       "      <td>96.721881</td>\n",
       "    </tr>\n",
       "    <tr>\n",
       "      <th>7</th>\n",
       "      <td>139.520004</td>\n",
       "      <td>139.973517</td>\n",
       "    </tr>\n",
       "    <tr>\n",
       "      <th>8</th>\n",
       "      <td>168.809998</td>\n",
       "      <td>168.604951</td>\n",
       "    </tr>\n",
       "    <tr>\n",
       "      <th>9</th>\n",
       "      <td>33.708572</td>\n",
       "      <td>33.229996</td>\n",
       "    </tr>\n",
       "    <tr>\n",
       "      <th>10</th>\n",
       "      <td>25.435715</td>\n",
       "      <td>25.412319</td>\n",
       "    </tr>\n",
       "    <tr>\n",
       "      <th>11</th>\n",
       "      <td>62.882858</td>\n",
       "      <td>62.563262</td>\n",
       "    </tr>\n",
       "    <tr>\n",
       "      <th>12</th>\n",
       "      <td>10.502857</td>\n",
       "      <td>10.420642</td>\n",
       "    </tr>\n",
       "    <tr>\n",
       "      <th>13</th>\n",
       "      <td>196.229996</td>\n",
       "      <td>197.007741</td>\n",
       "    </tr>\n",
       "    <tr>\n",
       "      <th>14</th>\n",
       "      <td>140.320007</td>\n",
       "      <td>140.680018</td>\n",
       "    </tr>\n",
       "    <tr>\n",
       "      <th>15</th>\n",
       "      <td>8.285714</td>\n",
       "      <td>8.200501</td>\n",
       "    </tr>\n",
       "    <tr>\n",
       "      <th>16</th>\n",
       "      <td>289.619995</td>\n",
       "      <td>289.231353</td>\n",
       "    </tr>\n",
       "    <tr>\n",
       "      <th>17</th>\n",
       "      <td>199.490005</td>\n",
       "      <td>198.737527</td>\n",
       "    </tr>\n",
       "    <tr>\n",
       "      <th>18</th>\n",
       "      <td>16.141430</td>\n",
       "      <td>16.208192</td>\n",
       "    </tr>\n",
       "    <tr>\n",
       "      <th>19</th>\n",
       "      <td>67.814285</td>\n",
       "      <td>67.971444</td>\n",
       "    </tr>\n",
       "    <tr>\n",
       "      <th>20</th>\n",
       "      <td>95.094284</td>\n",
       "      <td>94.823885</td>\n",
       "    </tr>\n",
       "    <tr>\n",
       "      <th>21</th>\n",
       "      <td>15.171429</td>\n",
       "      <td>15.516514</td>\n",
       "    </tr>\n",
       "    <tr>\n",
       "      <th>22</th>\n",
       "      <td>419.600006</td>\n",
       "      <td>415.544741</td>\n",
       "    </tr>\n",
       "    <tr>\n",
       "      <th>23</th>\n",
       "      <td>97.449997</td>\n",
       "      <td>98.140057</td>\n",
       "    </tr>\n",
       "    <tr>\n",
       "      <th>24</th>\n",
       "      <td>64.097145</td>\n",
       "      <td>63.852355</td>\n",
       "    </tr>\n",
       "  </tbody>\n",
       "</table>\n",
       "</div>"
      ],
      "text/plain": [
       "        Actual   Predicted\n",
       "0    55.174286   54.931258\n",
       "1   311.760010  309.930713\n",
       "2    37.304287   36.917407\n",
       "3   324.179993  324.569317\n",
       "4   285.529999  284.929052\n",
       "5    96.879997  103.301896\n",
       "6    98.000000   96.721881\n",
       "7   139.520004  139.973517\n",
       "8   168.809998  168.604951\n",
       "9    33.708572   33.229996\n",
       "10   25.435715   25.412319\n",
       "11   62.882858   62.563262\n",
       "12   10.502857   10.420642\n",
       "13  196.229996  197.007741\n",
       "14  140.320007  140.680018\n",
       "15    8.285714    8.200501\n",
       "16  289.619995  289.231353\n",
       "17  199.490005  198.737527\n",
       "18   16.141430   16.208192\n",
       "19   67.814285   67.971444\n",
       "20   95.094284   94.823885\n",
       "21   15.171429   15.516514\n",
       "22  419.600006  415.544741\n",
       "23   97.449997   98.140057\n",
       "24   64.097145   63.852355"
      ]
     },
     "execution_count": 125,
     "metadata": {},
     "output_type": "execute_result"
    }
   ],
   "source": [
    "# Create a data frame for netflix data with volume to store the predicted values and actual values of test data\n",
    "netflix_actual_predicted = pd.DataFrame({'Actual': netflix_y_test.flatten(), 'Predicted': predicted_netflix_close.flatten()})\n",
    "netflix_actual_predicted.head(25)"
   ]
  },
  {
   "cell_type": "code",
   "execution_count": 126,
   "id": "b897e090",
   "metadata": {},
   "outputs": [
    {
     "name": "stdout",
     "output_type": "stream",
     "text": [
      "Mean Absolute Error:  0.9780315628464454\n"
     ]
    }
   ],
   "source": [
    "# Calculate the mean absolute error for netflix data\n",
    "print('Mean Absolute Error: ', metrics.mean_absolute_error(netflix_y_test, predicted_netflix_close))"
   ]
  },
  {
   "cell_type": "markdown",
   "id": "3e80703b",
   "metadata": {},
   "source": [
    "## Tesla Data"
   ]
  },
  {
   "cell_type": "code",
   "execution_count": 127,
   "id": "43d81f41",
   "metadata": {},
   "outputs": [],
   "source": [
    "# Split the tesla data up into open, high, low and close\n",
    "x = tesla[['Open', 'High', 'Low']].values\n",
    "y = tesla[['Close']].values"
   ]
  },
  {
   "cell_type": "code",
   "execution_count": 128,
   "id": "215819af",
   "metadata": {},
   "outputs": [],
   "source": [
    "# Train the tesla data\n",
    "tesla_x_train, tesla_x_test, tesla_y_train, tesla_y_test = train_test_split(x, y, test_size = 0.3, random_state = 1)"
   ]
  },
  {
   "cell_type": "code",
   "execution_count": 129,
   "id": "7da66e5d",
   "metadata": {},
   "outputs": [],
   "source": [
    "# Create a model for tesla data \n",
    "tesla_model = LinearRegression(fit_intercept=False)"
   ]
  },
  {
   "cell_type": "code",
   "execution_count": 130,
   "id": "583d6e7a",
   "metadata": {},
   "outputs": [
    {
     "data": {
      "text/plain": [
       "LinearRegression(fit_intercept=False)"
      ]
     },
     "execution_count": 130,
     "metadata": {},
     "output_type": "execute_result"
    }
   ],
   "source": [
    "# Fit the model for tesla data\n",
    "tesla_model.fit(tesla_x_train, tesla_y_train)"
   ]
  },
  {
   "cell_type": "code",
   "execution_count": 131,
   "id": "5df62831",
   "metadata": {},
   "outputs": [],
   "source": [
    "# Get the predicted values for apple data\n",
    "predicted_tesla_close = tesla_model.predict(tesla_x_test)"
   ]
  },
  {
   "cell_type": "code",
   "execution_count": 132,
   "id": "ae6fa96e",
   "metadata": {},
   "outputs": [
    {
     "data": {
      "text/html": [
       "<div>\n",
       "<style scoped>\n",
       "    .dataframe tbody tr th:only-of-type {\n",
       "        vertical-align: middle;\n",
       "    }\n",
       "\n",
       "    .dataframe tbody tr th {\n",
       "        vertical-align: top;\n",
       "    }\n",
       "\n",
       "    .dataframe thead th {\n",
       "        text-align: right;\n",
       "    }\n",
       "</style>\n",
       "<table border=\"1\" class=\"dataframe\">\n",
       "  <thead>\n",
       "    <tr style=\"text-align: right;\">\n",
       "      <th></th>\n",
       "      <th>Actual</th>\n",
       "      <th>Predicted</th>\n",
       "    </tr>\n",
       "  </thead>\n",
       "  <tbody>\n",
       "    <tr>\n",
       "      <th>0</th>\n",
       "      <td>48.554001</td>\n",
       "      <td>48.295570</td>\n",
       "    </tr>\n",
       "    <tr>\n",
       "      <th>1</th>\n",
       "      <td>58.816002</td>\n",
       "      <td>58.354585</td>\n",
       "    </tr>\n",
       "    <tr>\n",
       "      <th>2</th>\n",
       "      <td>5.720000</td>\n",
       "      <td>5.899743</td>\n",
       "    </tr>\n",
       "    <tr>\n",
       "      <th>3</th>\n",
       "      <td>55.363998</td>\n",
       "      <td>55.281119</td>\n",
       "    </tr>\n",
       "    <tr>\n",
       "      <th>4</th>\n",
       "      <td>51.391998</td>\n",
       "      <td>51.261114</td>\n",
       "    </tr>\n",
       "    <tr>\n",
       "      <th>5</th>\n",
       "      <td>43.773998</td>\n",
       "      <td>44.426191</td>\n",
       "    </tr>\n",
       "    <tr>\n",
       "      <th>6</th>\n",
       "      <td>41.743999</td>\n",
       "      <td>41.434879</td>\n",
       "    </tr>\n",
       "    <tr>\n",
       "      <th>7</th>\n",
       "      <td>50.894001</td>\n",
       "      <td>50.770308</td>\n",
       "    </tr>\n",
       "    <tr>\n",
       "      <th>8</th>\n",
       "      <td>69.472000</td>\n",
       "      <td>69.356061</td>\n",
       "    </tr>\n",
       "    <tr>\n",
       "      <th>9</th>\n",
       "      <td>5.416000</td>\n",
       "      <td>5.408484</td>\n",
       "    </tr>\n",
       "    <tr>\n",
       "      <th>10</th>\n",
       "      <td>6.340000</td>\n",
       "      <td>6.358379</td>\n",
       "    </tr>\n",
       "    <tr>\n",
       "      <th>11</th>\n",
       "      <td>45.917999</td>\n",
       "      <td>45.771598</td>\n",
       "    </tr>\n",
       "    <tr>\n",
       "      <th>12</th>\n",
       "      <td>5.850000</td>\n",
       "      <td>5.820465</td>\n",
       "    </tr>\n",
       "    <tr>\n",
       "      <th>13</th>\n",
       "      <td>63.562000</td>\n",
       "      <td>63.047889</td>\n",
       "    </tr>\n",
       "    <tr>\n",
       "      <th>14</th>\n",
       "      <td>49.374001</td>\n",
       "      <td>49.606128</td>\n",
       "    </tr>\n",
       "    <tr>\n",
       "      <th>15</th>\n",
       "      <td>5.896000</td>\n",
       "      <td>5.854840</td>\n",
       "    </tr>\n",
       "    <tr>\n",
       "      <th>16</th>\n",
       "      <td>69.870003</td>\n",
       "      <td>69.996371</td>\n",
       "    </tr>\n",
       "    <tr>\n",
       "      <th>17</th>\n",
       "      <td>71.113998</td>\n",
       "      <td>71.048995</td>\n",
       "    </tr>\n",
       "    <tr>\n",
       "      <th>18</th>\n",
       "      <td>6.906000</td>\n",
       "      <td>6.896480</td>\n",
       "    </tr>\n",
       "    <tr>\n",
       "      <th>19</th>\n",
       "      <td>52.650002</td>\n",
       "      <td>52.265588</td>\n",
       "    </tr>\n",
       "    <tr>\n",
       "      <th>20</th>\n",
       "      <td>50.282001</td>\n",
       "      <td>50.342051</td>\n",
       "    </tr>\n",
       "    <tr>\n",
       "      <th>21</th>\n",
       "      <td>7.202000</td>\n",
       "      <td>7.195259</td>\n",
       "    </tr>\n",
       "    <tr>\n",
       "      <th>22</th>\n",
       "      <td>177.132004</td>\n",
       "      <td>175.085872</td>\n",
       "    </tr>\n",
       "    <tr>\n",
       "      <th>23</th>\n",
       "      <td>42.268002</td>\n",
       "      <td>42.330776</td>\n",
       "    </tr>\n",
       "    <tr>\n",
       "      <th>24</th>\n",
       "      <td>45.424000</td>\n",
       "      <td>45.470408</td>\n",
       "    </tr>\n",
       "  </tbody>\n",
       "</table>\n",
       "</div>"
      ],
      "text/plain": [
       "        Actual   Predicted\n",
       "0    48.554001   48.295570\n",
       "1    58.816002   58.354585\n",
       "2     5.720000    5.899743\n",
       "3    55.363998   55.281119\n",
       "4    51.391998   51.261114\n",
       "5    43.773998   44.426191\n",
       "6    41.743999   41.434879\n",
       "7    50.894001   50.770308\n",
       "8    69.472000   69.356061\n",
       "9     5.416000    5.408484\n",
       "10    6.340000    6.358379\n",
       "11   45.917999   45.771598\n",
       "12    5.850000    5.820465\n",
       "13   63.562000   63.047889\n",
       "14   49.374001   49.606128\n",
       "15    5.896000    5.854840\n",
       "16   69.870003   69.996371\n",
       "17   71.113998   71.048995\n",
       "18    6.906000    6.896480\n",
       "19   52.650002   52.265588\n",
       "20   50.282001   50.342051\n",
       "21    7.202000    7.195259\n",
       "22  177.132004  175.085872\n",
       "23   42.268002   42.330776\n",
       "24   45.424000   45.470408"
      ]
     },
     "execution_count": 132,
     "metadata": {},
     "output_type": "execute_result"
    }
   ],
   "source": [
    "# Create a data frame for tesla data to store the predicted values and actual values of test data\n",
    "tesla_actual_predicted = pd.DataFrame({'Actual': tesla_y_test.flatten(), 'Predicted': predicted_tesla_close.flatten()})\n",
    "tesla_actual_predicted.head(25)"
   ]
  },
  {
   "cell_type": "code",
   "execution_count": 133,
   "id": "247a6348",
   "metadata": {},
   "outputs": [
    {
     "name": "stdout",
     "output_type": "stream",
     "text": [
      "Mean Absolute Error:  0.38918070579513253\n"
     ]
    }
   ],
   "source": [
    "# Calculate the mean absolute error for tesla data\n",
    "print('Mean Absolute Error: ', metrics.mean_absolute_error(tesla_y_test, predicted_tesla_close))"
   ]
  },
  {
   "cell_type": "code",
   "execution_count": 134,
   "id": "967a444c",
   "metadata": {},
   "outputs": [
    {
     "data": {
      "text/plain": [
       "<AxesSubplot:>"
      ]
     },
     "execution_count": 134,
     "metadata": {},
     "output_type": "execute_result"
    },
    {
     "data": {
      "image/png": "[encoded data removed]",
      "text/plain": [
       "<Figure size 432x288 with 1 Axes>"
      ]
     },
     "metadata": {
      "needs_background": "light"
     },
     "output_type": "display_data"
    }
   ],
   "source": [
    "# Graph in bar graph form to compare actual versus predicted data\n",
    "# Graph in increments (graphing all 755 points does not supply a helpful visual)\n",
    "\n",
    "# Change type of Actual column from an object to a float64 for graphing purposes\n",
    "tesla_actual_predicted['Actual'] = pd.to_numeric(tesla_actual_predicted['Actual'])\n",
    "graph = tesla_actual_predicted.iloc[300:310]\n",
    "graph.plot(kind = 'bar')"
   ]
  },
  {
   "cell_type": "code",
   "execution_count": 135,
   "id": "4ce84973",
   "metadata": {},
   "outputs": [
    {
     "data": {
      "text/plain": [
       "<AxesSubplot:>"
      ]
     },
     "execution_count": 135,
     "metadata": {},
     "output_type": "execute_result"
    },
    {
     "data": {
      "image/png": "[encoded data removed]",
      "text/plain": [
       "<Figure size 432x288 with 1 Axes>"
      ]
     },
     "metadata": {
      "needs_background": "light"
     },
     "output_type": "display_data"
    }
   ],
   "source": [
    "graph = tesla_actual_predicted.iloc[200:220]\n",
    "graph.plot(kind = 'bar')"
   ]
  },
  {
   "cell_type": "code",
   "execution_count": 136,
   "id": "380eb0aa",
   "metadata": {
    "scrolled": true
   },
   "outputs": [
    {
     "data": {
      "text/plain": [
       "<AxesSubplot:>"
      ]
     },
     "execution_count": 136,
     "metadata": {},
     "output_type": "execute_result"
    },
    {
     "data": {
      "image/png": "[encoded data removed]",
      "text/plain": [
       "<Figure size 432x288 with 1 Axes>"
      ]
     },
     "metadata": {
      "needs_background": "light"
     },
     "output_type": "display_data"
    }
   ],
   "source": [
    "graph = tesla_actual_predicted.iloc[600:620]\n",
    "graph.plot(kind = 'bar')"
   ]
  },
  {
   "cell_type": "markdown",
   "id": "ab3a8d48",
   "metadata": {},
   "source": [
    "### Tesla Data with Volume"
   ]
  },
  {
   "cell_type": "code",
   "execution_count": 47,
   "id": "8afd37d0",
   "metadata": {},
   "outputs": [],
   "source": [
    "# Split the tesla data up into open, high, low, volume, and close\n",
    "x = tesla[['Open', 'High', 'Low', 'Volume']].values\n",
    "y = tesla[['Close']].values"
   ]
  },
  {
   "cell_type": "code",
   "execution_count": 48,
   "id": "359f48d7",
   "metadata": {},
   "outputs": [],
   "source": [
    "# Train the tesla data with volume\n",
    "tesla_x_train, tesla_x_test, tesla_y_train, tesla_y_test = train_test_split(x, y, test_size = 0.3, random_state = 1)"
   ]
  },
  {
   "cell_type": "code",
   "execution_count": 49,
   "id": "6ba5962a",
   "metadata": {},
   "outputs": [],
   "source": [
    "# Create a model for tesla data with volume\n",
    "tesla_model = LinearRegression(fit_intercept=False)"
   ]
  },
  {
   "cell_type": "code",
   "execution_count": 50,
   "id": "2892bbed",
   "metadata": {},
   "outputs": [
    {
     "data": {
      "text/plain": [
       "LinearRegression(fit_intercept=False)"
      ]
     },
     "execution_count": 50,
     "metadata": {},
     "output_type": "execute_result"
    }
   ],
   "source": [
    "# Fit the model for tesla data with volume\n",
    "tesla_model.fit(tesla_x_train, tesla_y_train)"
   ]
  },
  {
   "cell_type": "code",
   "execution_count": 51,
   "id": "2e9c508d",
   "metadata": {},
   "outputs": [],
   "source": [
    "# Get the predicted values for netflix data with volume\n",
    "predicted_tesla_close = tesla_model.predict(tesla_x_test)"
   ]
  },
  {
   "cell_type": "code",
   "execution_count": 52,
   "id": "76ec84a5",
   "metadata": {},
   "outputs": [
    {
     "data": {
      "text/html": [
       "<div>\n",
       "<style scoped>\n",
       "    .dataframe tbody tr th:only-of-type {\n",
       "        vertical-align: middle;\n",
       "    }\n",
       "\n",
       "    .dataframe tbody tr th {\n",
       "        vertical-align: top;\n",
       "    }\n",
       "\n",
       "    .dataframe thead th {\n",
       "        text-align: right;\n",
       "    }\n",
       "</style>\n",
       "<table border=\"1\" class=\"dataframe\">\n",
       "  <thead>\n",
       "    <tr style=\"text-align: right;\">\n",
       "      <th></th>\n",
       "      <th>Actual</th>\n",
       "      <th>Predicted</th>\n",
       "    </tr>\n",
       "  </thead>\n",
       "  <tbody>\n",
       "    <tr>\n",
       "      <th>0</th>\n",
       "      <td>48.554001</td>\n",
       "      <td>48.210040</td>\n",
       "    </tr>\n",
       "    <tr>\n",
       "      <th>1</th>\n",
       "      <td>58.816002</td>\n",
       "      <td>58.390849</td>\n",
       "    </tr>\n",
       "    <tr>\n",
       "      <th>2</th>\n",
       "      <td>5.720000</td>\n",
       "      <td>5.879134</td>\n",
       "    </tr>\n",
       "    <tr>\n",
       "      <th>3</th>\n",
       "      <td>55.363998</td>\n",
       "      <td>55.262522</td>\n",
       "    </tr>\n",
       "    <tr>\n",
       "      <th>4</th>\n",
       "      <td>51.391998</td>\n",
       "      <td>51.163339</td>\n",
       "    </tr>\n",
       "    <tr>\n",
       "      <th>5</th>\n",
       "      <td>43.773998</td>\n",
       "      <td>44.454933</td>\n",
       "    </tr>\n",
       "    <tr>\n",
       "      <th>6</th>\n",
       "      <td>41.743999</td>\n",
       "      <td>41.454673</td>\n",
       "    </tr>\n",
       "    <tr>\n",
       "      <th>7</th>\n",
       "      <td>50.894001</td>\n",
       "      <td>50.766391</td>\n",
       "    </tr>\n",
       "    <tr>\n",
       "      <th>8</th>\n",
       "      <td>69.472000</td>\n",
       "      <td>69.411251</td>\n",
       "    </tr>\n",
       "    <tr>\n",
       "      <th>9</th>\n",
       "      <td>5.416000</td>\n",
       "      <td>5.398036</td>\n",
       "    </tr>\n",
       "    <tr>\n",
       "      <th>10</th>\n",
       "      <td>6.340000</td>\n",
       "      <td>6.360533</td>\n",
       "    </tr>\n",
       "    <tr>\n",
       "      <th>11</th>\n",
       "      <td>45.917999</td>\n",
       "      <td>45.754627</td>\n",
       "    </tr>\n",
       "    <tr>\n",
       "      <th>12</th>\n",
       "      <td>5.850000</td>\n",
       "      <td>5.813120</td>\n",
       "    </tr>\n",
       "    <tr>\n",
       "      <th>13</th>\n",
       "      <td>63.562000</td>\n",
       "      <td>63.023513</td>\n",
       "    </tr>\n",
       "    <tr>\n",
       "      <th>14</th>\n",
       "      <td>49.374001</td>\n",
       "      <td>49.617658</td>\n",
       "    </tr>\n",
       "    <tr>\n",
       "      <th>15</th>\n",
       "      <td>5.896000</td>\n",
       "      <td>5.835461</td>\n",
       "    </tr>\n",
       "    <tr>\n",
       "      <th>16</th>\n",
       "      <td>69.870003</td>\n",
       "      <td>70.006664</td>\n",
       "    </tr>\n",
       "    <tr>\n",
       "      <th>17</th>\n",
       "      <td>71.113998</td>\n",
       "      <td>71.096607</td>\n",
       "    </tr>\n",
       "    <tr>\n",
       "      <th>18</th>\n",
       "      <td>6.906000</td>\n",
       "      <td>6.895174</td>\n",
       "    </tr>\n",
       "    <tr>\n",
       "      <th>19</th>\n",
       "      <td>52.650002</td>\n",
       "      <td>52.295249</td>\n",
       "    </tr>\n",
       "    <tr>\n",
       "      <th>20</th>\n",
       "      <td>50.282001</td>\n",
       "      <td>50.388926</td>\n",
       "    </tr>\n",
       "    <tr>\n",
       "      <th>21</th>\n",
       "      <td>7.202000</td>\n",
       "      <td>7.170385</td>\n",
       "    </tr>\n",
       "    <tr>\n",
       "      <th>22</th>\n",
       "      <td>177.132004</td>\n",
       "      <td>175.266004</td>\n",
       "    </tr>\n",
       "    <tr>\n",
       "      <th>23</th>\n",
       "      <td>42.268002</td>\n",
       "      <td>42.353271</td>\n",
       "    </tr>\n",
       "    <tr>\n",
       "      <th>24</th>\n",
       "      <td>45.424000</td>\n",
       "      <td>45.415128</td>\n",
       "    </tr>\n",
       "  </tbody>\n",
       "</table>\n",
       "</div>"
      ],
      "text/plain": [
       "        Actual   Predicted\n",
       "0    48.554001   48.210040\n",
       "1    58.816002   58.390849\n",
       "2     5.720000    5.879134\n",
       "3    55.363998   55.262522\n",
       "4    51.391998   51.163339\n",
       "5    43.773998   44.454933\n",
       "6    41.743999   41.454673\n",
       "7    50.894001   50.766391\n",
       "8    69.472000   69.411251\n",
       "9     5.416000    5.398036\n",
       "10    6.340000    6.360533\n",
       "11   45.917999   45.754627\n",
       "12    5.850000    5.813120\n",
       "13   63.562000   63.023513\n",
       "14   49.374001   49.617658\n",
       "15    5.896000    5.835461\n",
       "16   69.870003   70.006664\n",
       "17   71.113998   71.096607\n",
       "18    6.906000    6.895174\n",
       "19   52.650002   52.295249\n",
       "20   50.282001   50.388926\n",
       "21    7.202000    7.170385\n",
       "22  177.132004  175.266004\n",
       "23   42.268002   42.353271\n",
       "24   45.424000   45.415128"
      ]
     },
     "execution_count": 52,
     "metadata": {},
     "output_type": "execute_result"
    }
   ],
   "source": [
    "# Create a data frame for netflix data with volume to store the predicted values and actual values of test data\n",
    "tesla_actual_predicted = pd.DataFrame({'Actual': tesla_y_test.flatten(), 'Predicted': predicted_tesla_close.flatten()})\n",
    "tesla_actual_predicted.head(25)"
   ]
  },
  {
   "cell_type": "code",
   "execution_count": 53,
   "id": "b5cbfdea",
   "metadata": {},
   "outputs": [
    {
     "name": "stdout",
     "output_type": "stream",
     "text": [
      "Mean Absolute Error:  0.390635814847097\n"
     ]
    }
   ],
   "source": [
    "# Calculate the mean absolute error for netflix data\n",
    "print('Mean Absolute Error: ', metrics.mean_absolute_error(tesla_y_test, predicted_tesla_close))"
   ]
  },
  {
   "cell_type": "markdown",
   "id": "f5696e0f",
   "metadata": {},
   "source": [
    "#### Reading in Data with Randomization, 80/20 Split, 5-Fold Cross Validation"
   ]
  },
  {
   "cell_type": "code",
   "execution_count": 87,
   "id": "973f4def",
   "metadata": {},
   "outputs": [],
   "source": [
    "# Read in the data again\n",
    "# Read in the apple data\n",
    "path = os.getcwd() + '/Data/AAPL.csv'\n",
    "\n",
    "apple = pd.read_csv(path, header = None, names = ['Date', 'Open', 'High', 'Low', 'Close', 'Adj Close', 'Volume'])\n",
    "\n",
    "apple = apple.iloc[1: , :]\n",
    "\n",
    "# Read in the netflix data\n",
    "path = os.getcwd() + '/Data/NFLX.csv'\n",
    "\n",
    "netflix = pd.read_csv(path, header = None, names = ['Date', 'Open', 'High', 'Low', 'Close', 'Adj Close', 'Volume'])\n",
    "\n",
    "netflix = netflix.iloc[1: , :]\n",
    "\n",
    "# Read in the tesla data\n",
    "path = os.getcwd() + '/Data/TSLA.csv'\n",
    "\n",
    "tesla = pd.read_csv(path, header = None, names = ['Date', 'Open', 'High', 'Low', 'Close', 'Adj Close', 'Volume'])\n",
    "\n",
    "tesla = tesla.iloc[1: , :]\n"
   ]
  },
  {
   "cell_type": "code",
   "execution_count": 88,
   "id": "cd6f2cd2",
   "metadata": {},
   "outputs": [],
   "source": [
    "# Split the data randomly for training and test data\n",
    "apple = apple.sample(frac = 1)\n",
    "\n",
    "x = apple[['Open', 'High', 'Low']]\n",
    "y = apple[['Close']]\n"
   ]
  },
  {
   "cell_type": "code",
   "execution_count": 89,
   "id": "c68c8124",
   "metadata": {},
   "outputs": [
    {
     "name": "stdout",
     "output_type": "stream",
     "text": [
      "MAE for Each Fold: - [0.14266868465439742, 0.12767448233801043, 0.13540777871471577, 0.13382540517471164, 0.15699241933880956]\n",
      "Average MAE : 0.13931375404412896\n"
     ]
    }
   ],
   "source": [
    "# Use 5-Fold Validation\n",
    "fiveFold = KFold(n_splits=5, random_state = None)\n",
    "\n",
    "# Create a list to hold the accuracy scores\n",
    "MAE = []\n",
    "\n",
    "# Create a model for apple data \n",
    "apple_model = LinearRegression(fit_intercept=False)\n",
    "\n",
    "# Perform training and predicting for each 5-fold\n",
    "for apple_train_index, apple_test_index in fiveFold.split(x):\n",
    "    apple_x_train, apple_x_test = x.iloc[apple_train_index,:], x.iloc[apple_test_index, :]\n",
    "    apple_y_train, apple_y_test = y.iloc[apple_train_index,:], y.iloc[apple_test_index,:]\n",
    "    \n",
    "    # Fit the model\n",
    "    apple_model.fit(apple_x_train, apple_y_train)\n",
    "    \n",
    "    # Get the predicted values for apple data\n",
    "    predicted_apple_close = apple_model.predict(apple_x_test)\n",
    "    \n",
    "    score = metrics.mean_absolute_error(apple_y_test, predicted_apple_close)\n",
    "    MAE.append(score)\n",
    "    \n",
    "avgMAE = sum(MAE) / 5\n",
    "\n",
    "print(\"MAE for Each Fold: - {}\".format(MAE))\n",
    "print(\"Average MAE : {}\".format(avgMAE))\n",
    "    "
   ]
  },
  {
   "cell_type": "code",
   "execution_count": 138,
   "id": "3357ebf6",
   "metadata": {},
   "outputs": [],
   "source": [
    "# Split the data randomly for training and test data\n",
    "netflix = netflix.sample(frac = 1)\n",
    "\n",
    "x = netflix[['Open', 'High', 'Low']]\n",
    "y = netflix[['Close']]"
   ]
  },
  {
   "cell_type": "code",
   "execution_count": 139,
   "id": "53b70b9b",
   "metadata": {},
   "outputs": [
    {
     "name": "stdout",
     "output_type": "stream",
     "text": [
      "MAE for Each Fold: - [1.0137773772333456, 0.9810090237586474, 0.9863307088304726, 0.8877612864029497, 1.0050436597172827]\n",
      "Average MAE : 0.9747844111885395\n"
     ]
    }
   ],
   "source": [
    "# Use 5-Fold Validation\n",
    "fiveFold = KFold(n_splits=5, random_state = None)\n",
    "\n",
    "# Create a list to hold the accuracy scores\n",
    "MAE = []\n",
    "\n",
    "# Create a model for apple data \n",
    "netflix_model = LinearRegression(fit_intercept=False)\n",
    "\n",
    "# Perform training and predicting for each 5-fold\n",
    "for netflix_train_index, netflix_test_index in fiveFold.split(x):\n",
    "    netflix_x_train, netflix_x_test = x.iloc[netflix_train_index,:], x.iloc[netflix_test_index, :]\n",
    "    netflix_y_train, netflix_y_test = y.iloc[netflix_train_index,:], y.iloc[netflix_test_index,:]\n",
    "    \n",
    "    # Fit the model\n",
    "    netflix_model.fit(netflix_x_train, netflix_y_train)\n",
    "    \n",
    "    # Get the predicted values for netflix data\n",
    "    predicted_netflix_close = tesla_model.predict(netflix_x_test)\n",
    "    \n",
    "    score = metrics.mean_absolute_error(netflix_y_test, predicted_netflix_close)\n",
    "    MAE.append(score)\n",
    "    \n",
    "avgMAE = sum(MAE) / 5\n",
    "\n",
    "print(\"MAE for Each Fold: - {}\".format(MAE))\n",
    "print(\"Average MAE : {}\".format(avgMAE))"
   ]
  },
  {
   "cell_type": "code",
   "execution_count": 142,
   "id": "631c7e12",
   "metadata": {},
   "outputs": [],
   "source": [
    "# Split the data randomly for training and test data\n",
    "tesla = tesla.sample(frac = 1)\n",
    "\n",
    "x = tesla[['Open', 'High', 'Low']]\n",
    "y = tesla[['Close']]"
   ]
  },
  {
   "cell_type": "code",
   "execution_count": 143,
   "id": "a8704e3b",
   "metadata": {},
   "outputs": [
    {
     "name": "stdout",
     "output_type": "stream",
     "text": [
      "MAE for Each Fold: - [0.3774244451774896, 0.39824300610685676, 0.3860649607930247, 0.37116636430081507, 0.44358780755793176]\n",
      "Average MAE : 0.3952973167872236\n"
     ]
    }
   ],
   "source": [
    "# Use 5-Fold Validation\n",
    "fiveFold = KFold(n_splits=5, random_state = None)\n",
    "\n",
    "# Create a list to hold the accuracy scores\n",
    "MAE = []\n",
    "\n",
    "# Create a model for apple data \n",
    "tesla_model = LinearRegression(fit_intercept=False)\n",
    "\n",
    "# Perform training and predicting for each 5-fold\n",
    "for tesla_train_index, tesla_test_index in fiveFold.split(x):\n",
    "    tesla_x_train, tesla_x_test = x.iloc[tesla_train_index,:], x.iloc[tesla_test_index, :]\n",
    "    tesla_y_train, tesla_y_test = y.iloc[tesla_train_index,:], y.iloc[tesla_test_index,:]\n",
    "    \n",
    "    # Fit the model\n",
    "    tesla_model.fit(tesla_x_train, tesla_y_train)\n",
    "    \n",
    "    # Get the predicted values for netflix data\n",
    "    predicted_tesla_close = tesla_model.predict(tesla_x_test)\n",
    "    \n",
    "    score = metrics.mean_absolute_error(tesla_y_test, predicted_tesla_close)\n",
    "    MAE.append(score)\n",
    "    \n",
    "avgMAE = sum(MAE) / 5\n",
    "\n",
    "print(\"MAE for Each Fold: - {}\".format(MAE))\n",
    "print(\"Average MAE : {}\".format(avgMAE))"
   ]
  },
  {
   "cell_type": "markdown",
   "id": "cfbddc6a",
   "metadata": {},
   "source": [
    "### Decision Trees"
   ]
  },
  {
   "cell_type": "code",
   "execution_count": 194,
   "id": "e161c55a",
   "metadata": {},
   "outputs": [],
   "source": [
    "# Read in the data again\n",
    "# Read in the apple data\n",
    "path = os.getcwd() + '/Data/AAPL.csv'\n",
    "\n",
    "apple = pd.read_csv(path, header = None, names = ['Date', 'Open', 'High', 'Low', 'Close', 'Adj Close', 'Volume'])\n",
    "\n",
    "apple = apple.iloc[1: , :]\n",
    "\n",
    "# Read in the netflix data\n",
    "path = os.getcwd() + '/Data/NFLX.csv'\n",
    "\n",
    "netflix = pd.read_csv(path, header = None, names = ['Date', 'Open', 'High', 'Low', 'Close', 'Adj Close', 'Volume'])\n",
    "\n",
    "netflix = netflix.iloc[1: , :]\n",
    "\n",
    "# Read in the tesla data\n",
    "path = os.getcwd() + '/Data/TSLA.csv'\n",
    "\n",
    "tesla = pd.read_csv(path, header = None, names = ['Date', 'Open', 'High', 'Low', 'Close', 'Adj Close', 'Volume'])\n",
    "\n",
    "tesla = tesla.iloc[1: , :]"
   ]
  },
  {
   "cell_type": "code",
   "execution_count": 198,
   "id": "3e2a8645",
   "metadata": {},
   "outputs": [],
   "source": [
    "# Using decision trees, predict the close price for 50 days into the future\n",
    "future = 50\n",
    "\n",
    "apple = apple[['Open', 'High', 'Low', 'Close', 'Adj Close', 'Volume']]\n",
    "\n",
    "actual_apple_close = np.array(apple[['Close']].tail(50))\n",
    "\n",
    "\n",
    "# Create a prediction column\n",
    "apple[\"Prediction\"] = apple[[\"Close\"]].shift(-future)\n",
    "\n",
    "\n",
    "# Remove the last 50 rows from the apple dataset\n",
    "apple_x = np.array(apple.drop([\"Prediction\"], 1))[:-future]\n",
    "\n",
    "\n",
    "# Create the target dataset\n",
    "apple_y = np.array(apple[\"Prediction\"])[:-future]\n",
    "\n"
   ]
  },
  {
   "cell_type": "code",
   "execution_count": 199,
   "id": "673240af",
   "metadata": {},
   "outputs": [
    {
     "name": "stdout",
     "output_type": "stream",
     "text": [
      "Mean Absolute Error:  2.08475002\n"
     ]
    }
   ],
   "source": [
    "# Split the data 70/30\n",
    "apple_x_train, apple_x_test, apple_y_train, apple_y_test = train_test_split(apple_x, apple_y, test_size = .3)\n",
    "\n",
    "# Create the tree\n",
    "apple_tree = DecisionTreeRegressor().fit(apple_x_train, apple_y_train)\n",
    "\n",
    "# Get the future days to predict\n",
    "future_prices = apple.drop([\"Prediction\"], 1)[:-future]\n",
    "future_prices = future_prices.tail(future)\n",
    "future_prices = np.array(future_prices)\n",
    "\n",
    "# Get the prediction\n",
    "apple_tree_pred = apple_tree.predict(future_prices)\n",
    "\n",
    "# Get the MAE\n",
    "# Calculate the mean absolute error for netflix data\n",
    "print('Mean Absolute Error: ', metrics.mean_absolute_error(actual_apple_close, apple_tree_pred))\n",
    "\n"
   ]
  },
  {
   "cell_type": "code",
   "execution_count": 200,
   "id": "10f67ddc",
   "metadata": {},
   "outputs": [],
   "source": [
    "# Using decision trees, predict the close price for 50 days into the future\n",
    "future = 50\n",
    "\n",
    "netflix = netflix[['Open', 'High', 'Low', 'Close', 'Adj Close', 'Volume']]\n",
    "\n",
    "actual_netflix_close = np.array(netflix[['Close']].tail(50))\n",
    "\n",
    "# Create a prediction column\n",
    "netflix[\"Prediction\"] = netflix[[\"Close\"]].shift(-future)\n",
    "\n",
    "\n",
    "# Remove the last 50 rows from the netflix dataset\n",
    "netflix_x = np.array(netflix.drop([\"Prediction\"], 1))[:-future]\n",
    "\n",
    "\n",
    "# Create the target dataset\n",
    "netflix_y = np.array(netflix[\"Prediction\"])[:-future]\n"
   ]
  },
  {
   "cell_type": "code",
   "execution_count": 201,
   "id": "3cd6553f",
   "metadata": {},
   "outputs": [
    {
     "name": "stdout",
     "output_type": "stream",
     "text": [
      "Mean Absolute Error:  17.000599979999997\n"
     ]
    }
   ],
   "source": [
    "# Split the data 70/30\n",
    "netflix_x_train, netflix_x_test, netflix_y_train, netflix_y_test = train_test_split(netflix_x, netflix_y, test_size = .3)\n",
    "\n",
    "# Create the tree\n",
    "netflix_tree = DecisionTreeRegressor().fit(netflix_x_train, netflix_y_train)\n",
    "\n",
    "# Get the future days to predict\n",
    "future_prices = netflix.drop([\"Prediction\"], 1)[:-future]\n",
    "future_prices = future_prices.tail(future)\n",
    "future_prices = np.array(future_prices)\n",
    "\n",
    "# Get the prediction\n",
    "netflix_tree_pred = netflix_tree.predict(future_prices)\n",
    "\n",
    "# Get the MAE\n",
    "# Calculate the mean absolute error for netflix data\n",
    "print('Mean Absolute Error: ', metrics.mean_absolute_error(actual_netflix_close, netflix_tree_pred))\n",
    "\n"
   ]
  },
  {
   "cell_type": "code",
   "execution_count": 202,
   "id": "81a04e65",
   "metadata": {},
   "outputs": [],
   "source": [
    "# Using decision trees, predict the close price for 50 days into the future\n",
    "future = 50\n",
    "\n",
    "tesla = tesla[['Open', 'High', 'Low', 'Close', 'Adj Close', 'Volume']]\n",
    "\n",
    "actual_tesla_close = np.array(tesla[['Close']].tail(50))\n",
    "\n",
    "# Create a prediction column\n",
    "tesla[\"Prediction\"] = tesla[[\"Close\"]].shift(-future)\n",
    "\n",
    "\n",
    "# Remove the last 50 rows from the netflix dataset\n",
    "tesla_x = np.array(tesla.drop([\"Prediction\"], 1))[:-future]\n",
    "\n",
    "\n",
    "# Create the target dataset\n",
    "tesla_y = np.array(tesla[\"Prediction\"])[:-future]"
   ]
  },
  {
   "cell_type": "code",
   "execution_count": 203,
   "id": "7fdb93f0",
   "metadata": {},
   "outputs": [
    {
     "name": "stdout",
     "output_type": "stream",
     "text": [
      "Mean Absolute Error:  16.9785196\n"
     ]
    }
   ],
   "source": [
    "# Split the data 70/30\n",
    "tesla_x_train, tesla_x_test, tesla_y_train, tesla_y_test = train_test_split(tesla_x, tesla_y, test_size = .3)\n",
    "\n",
    "# Create the tree\n",
    "tesla_tree = DecisionTreeRegressor().fit(tesla_x_train, tesla_y_train)\n",
    "\n",
    "# Get the future days to predict\n",
    "future_prices = tesla.drop([\"Prediction\"], 1)[:-future]\n",
    "future_prices = future_prices.tail(future)\n",
    "future_prices = np.array(future_prices)\n",
    "\n",
    "# Get the prediction\n",
    "tesla_tree_pred = tesla_tree.predict(future_prices)\n",
    "\n",
    "# Get the MAE\n",
    "# Calculate the mean absolute error for netflix data\n",
    "print('Mean Absolute Error: ', metrics.mean_absolute_error(actual_tesla_close, tesla_tree_pred))"
   ]
  },
  {
   "cell_type": "code",
   "execution_count": null,
   "id": "bf500925",
   "metadata": {},
   "outputs": [],
   "source": []
  }
 ],
 "metadata": {
  "kernelspec": {
   "display_name": "Python 3 (ipykernel)",
   "language": "python",
   "name": "python3"
  },
  "language_info": {
   "codemirror_mode": {
    "name": "ipython",
    "version": 3
   },
   "file_extension": ".py",
   "mimetype": "text/x-python",
   "name": "python",
   "nbconvert_exporter": "python",
   "pygments_lexer": "ipython3",
   "version": "3.7.2"
  }
 },
 "nbformat": 4,
 "nbformat_minor": 5
}
