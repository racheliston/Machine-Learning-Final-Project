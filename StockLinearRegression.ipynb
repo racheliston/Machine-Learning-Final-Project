{
 "cells": [
  {
   "cell_type": "markdown",
   "id": "6176dba4",
   "metadata": {},
   "source": [
    "# Machine Learning Final Project \n",
    "## Prediciting Stock Prices with Linear Regression\n",
    "### Rachel Liston and Sam Pitonyak"
   ]
  },
  {
   "cell_type": "code",
   "execution_count": 1,
   "id": "fd96949e",
   "metadata": {},
   "outputs": [],
   "source": [
    "# Importing Modules\n",
    "\n",
    "import os\n",
    "import numpy as np\n",
    "import pandas as pd\n",
    "import math\n",
    "import matplotlib.pyplot as plt\n",
    "\n",
    "from sklearn.model_selection import train_test_split\n",
    "from sklearn.linear_model import LinearRegression\n",
    "from sklearn.tree import DecisionTreeRegressor\n",
    "from sklearn.model_selection import KFold\n",
    "from sklearn import metrics\n",
    "from sklearn.metrics import classification_report, accuracy_score\n",
    "from sklearn.metrics import mean_squared_error\n",
    "from sklearn.preprocessing import MinMaxScaler\n",
    "from keras.models import Sequential, load_model\n",
    "from keras.layers import LSTM, Dense, Dropout"
   ]
  },
  {
   "cell_type": "markdown",
   "id": "a66e86c3",
   "metadata": {},
   "source": [
    "#### Reading in Data"
   ]
  },
  {
   "cell_type": "code",
   "execution_count": 3,
   "id": "c22159cb",
   "metadata": {},
   "outputs": [
    {
     "data": {
      "text/html": [
       "<div>\n",
       "<style scoped>\n",
       "    .dataframe tbody tr th:only-of-type {\n",
       "        vertical-align: middle;\n",
       "    }\n",
       "\n",
       "    .dataframe tbody tr th {\n",
       "        vertical-align: top;\n",
       "    }\n",
       "\n",
       "    .dataframe thead th {\n",
       "        text-align: right;\n",
       "    }\n",
       "</style>\n",
       "<table border=\"1\" class=\"dataframe\">\n",
       "  <thead>\n",
       "    <tr style=\"text-align: right;\">\n",
       "      <th></th>\n",
       "      <th>Date</th>\n",
       "      <th>Open</th>\n",
       "      <th>High</th>\n",
       "      <th>Low</th>\n",
       "      <th>Close</th>\n",
       "      <th>Adj Close</th>\n",
       "      <th>Volume</th>\n",
       "    </tr>\n",
       "  </thead>\n",
       "  <tbody>\n",
       "    <tr>\n",
       "      <th>1</th>\n",
       "      <td>2010-07-20</td>\n",
       "      <td>4.370000</td>\n",
       "      <td>4.370000</td>\n",
       "      <td>4.010000</td>\n",
       "      <td>4.060000</td>\n",
       "      <td>4.060000</td>\n",
       "      <td>9126500</td>\n",
       "    </tr>\n",
       "    <tr>\n",
       "      <th>2</th>\n",
       "      <td>2010-07-21</td>\n",
       "      <td>4.132000</td>\n",
       "      <td>4.180000</td>\n",
       "      <td>3.900000</td>\n",
       "      <td>4.044000</td>\n",
       "      <td>4.044000</td>\n",
       "      <td>6262500</td>\n",
       "    </tr>\n",
       "    <tr>\n",
       "      <th>3</th>\n",
       "      <td>2010-07-22</td>\n",
       "      <td>4.100000</td>\n",
       "      <td>4.250000</td>\n",
       "      <td>4.074000</td>\n",
       "      <td>4.200000</td>\n",
       "      <td>4.200000</td>\n",
       "      <td>4789000</td>\n",
       "    </tr>\n",
       "    <tr>\n",
       "      <th>4</th>\n",
       "      <td>2010-07-23</td>\n",
       "      <td>4.238000</td>\n",
       "      <td>4.312000</td>\n",
       "      <td>4.212000</td>\n",
       "      <td>4.258000</td>\n",
       "      <td>4.258000</td>\n",
       "      <td>3268000</td>\n",
       "    </tr>\n",
       "    <tr>\n",
       "      <th>5</th>\n",
       "      <td>2010-07-26</td>\n",
       "      <td>4.300000</td>\n",
       "      <td>4.300000</td>\n",
       "      <td>4.060000</td>\n",
       "      <td>4.190000</td>\n",
       "      <td>4.190000</td>\n",
       "      <td>4611000</td>\n",
       "    </tr>\n",
       "  </tbody>\n",
       "</table>\n",
       "</div>"
      ],
      "text/plain": [
       "         Date      Open      High       Low     Close Adj Close   Volume\n",
       "1  2010-07-20  4.370000  4.370000  4.010000  4.060000  4.060000  9126500\n",
       "2  2010-07-21  4.132000  4.180000  3.900000  4.044000  4.044000  6262500\n",
       "3  2010-07-22  4.100000  4.250000  4.074000  4.200000  4.200000  4789000\n",
       "4  2010-07-23  4.238000  4.312000  4.212000  4.258000  4.258000  3268000\n",
       "5  2010-07-26  4.300000  4.300000  4.060000  4.190000  4.190000  4611000"
      ]
     },
     "execution_count": 3,
     "metadata": {},
     "output_type": "execute_result"
    }
   ],
   "source": [
    "# Read in the apple data\n",
    "path = os.getcwd() + '/Data/AAPL.csv'\n",
    "\n",
    "apple = pd.read_csv(path, header = None, names = ['Date', 'Open', 'High', 'Low', 'Close', 'Adj Close', 'Volume'])\n",
    "\n",
    "apple = apple.iloc[1: , :]\n",
    "\n",
    "\n",
    "# Read in the netflix data\n",
    "path = os.getcwd() + '/Data/NFLX.csv'\n",
    "\n",
    "netflix = pd.read_csv(path, header = None, names = ['Date', 'Open', 'High', 'Low', 'Close', 'Adj Close', 'Volume'])\n",
    "\n",
    "netflix = netflix.iloc[1: , :]\n",
    "\n",
    "# Read in the tesla data\n",
    "path = os.getcwd() + '/Data/TSLA.csv'\n",
    "\n",
    "tesla = pd.read_csv(path, header = None, names = ['Date', 'Open', 'High', 'Low', 'Close', 'Adj Close', 'Volume'])\n",
    "\n",
    "tesla = tesla.iloc[1: , :]\n",
    "\n",
    "tesla.head()\n"
   ]
  },
  {
   "cell_type": "markdown",
   "id": "b05d5c72",
   "metadata": {},
   "source": [
    "## Apple Data"
   ]
  },
  {
   "cell_type": "code",
   "execution_count": 4,
   "id": "07b1b6c9",
   "metadata": {},
   "outputs": [],
   "source": [
    "# Split the apple data up into open, high, low and close\n",
    "x = apple[['Open', 'High', 'Low']].values\n",
    "y = apple[['Close']].values"
   ]
  },
  {
   "cell_type": "code",
   "execution_count": 5,
   "id": "1785913e",
   "metadata": {},
   "outputs": [],
   "source": [
    "# Train the apple data\n",
    "apple_x_train, apple_x_test, apple_y_train, apple_y_test = train_test_split(x, y, test_size = 0.3, random_state = 1)"
   ]
  },
  {
   "cell_type": "code",
   "execution_count": 6,
   "id": "efbee030",
   "metadata": {},
   "outputs": [],
   "source": [
    "# Create a model for apple data \n",
    "apple_model = LinearRegression(fit_intercept=False)"
   ]
  },
  {
   "cell_type": "code",
   "execution_count": 7,
   "id": "0c9fccd3",
   "metadata": {},
   "outputs": [
    {
     "data": {
      "text/plain": [
       "LinearRegression(fit_intercept=False)"
      ]
     },
     "execution_count": 7,
     "metadata": {},
     "output_type": "execute_result"
    }
   ],
   "source": [
    "# Fit the model for apple data\n",
    "apple_model.fit(apple_x_train, apple_y_train)"
   ]
  },
  {
   "cell_type": "code",
   "execution_count": 8,
   "id": "60f52877",
   "metadata": {},
   "outputs": [],
   "source": [
    "# Get the predicted values for apple data\n",
    "predicted_apple_close = apple_model.predict(apple_x_test)"
   ]
  },
  {
   "cell_type": "code",
   "execution_count": 9,
   "id": "0291fda5",
   "metadata": {},
   "outputs": [
    {
     "data": {
      "text/html": [
       "<div>\n",
       "<style scoped>\n",
       "    .dataframe tbody tr th:only-of-type {\n",
       "        vertical-align: middle;\n",
       "    }\n",
       "\n",
       "    .dataframe tbody tr th {\n",
       "        vertical-align: top;\n",
       "    }\n",
       "\n",
       "    .dataframe thead th {\n",
       "        text-align: right;\n",
       "    }\n",
       "</style>\n",
       "<table border=\"1\" class=\"dataframe\">\n",
       "  <thead>\n",
       "    <tr style=\"text-align: right;\">\n",
       "      <th></th>\n",
       "      <th>Actual</th>\n",
       "      <th>Predicted</th>\n",
       "    </tr>\n",
       "  </thead>\n",
       "  <tbody>\n",
       "    <tr>\n",
       "      <th>0</th>\n",
       "      <td>26.684999</td>\n",
       "      <td>26.610878</td>\n",
       "    </tr>\n",
       "    <tr>\n",
       "      <th>1</th>\n",
       "      <td>40.580002</td>\n",
       "      <td>40.414822</td>\n",
       "    </tr>\n",
       "    <tr>\n",
       "      <th>2</th>\n",
       "      <td>11.872857</td>\n",
       "      <td>11.860119</td>\n",
       "    </tr>\n",
       "    <tr>\n",
       "      <th>3</th>\n",
       "      <td>46.577499</td>\n",
       "      <td>46.714093</td>\n",
       "    </tr>\n",
       "    <tr>\n",
       "      <th>4</th>\n",
       "      <td>58.967499</td>\n",
       "      <td>59.333543</td>\n",
       "    </tr>\n",
       "    <tr>\n",
       "      <th>5</th>\n",
       "      <td>25.780001</td>\n",
       "      <td>26.015766</td>\n",
       "    </tr>\n",
       "    <tr>\n",
       "      <th>6</th>\n",
       "      <td>25.280001</td>\n",
       "      <td>25.179458</td>\n",
       "    </tr>\n",
       "    <tr>\n",
       "      <th>7</th>\n",
       "      <td>30.469999</td>\n",
       "      <td>30.417673</td>\n",
       "    </tr>\n",
       "    <tr>\n",
       "      <th>8</th>\n",
       "      <td>40.727501</td>\n",
       "      <td>40.618267</td>\n",
       "    </tr>\n",
       "    <tr>\n",
       "      <th>9</th>\n",
       "      <td>12.505357</td>\n",
       "      <td>12.440447</td>\n",
       "    </tr>\n",
       "    <tr>\n",
       "      <th>10</th>\n",
       "      <td>11.507500</td>\n",
       "      <td>11.439894</td>\n",
       "    </tr>\n",
       "    <tr>\n",
       "      <th>11</th>\n",
       "      <td>22.727501</td>\n",
       "      <td>22.920133</td>\n",
       "    </tr>\n",
       "    <tr>\n",
       "      <th>12</th>\n",
       "      <td>22.791786</td>\n",
       "      <td>22.824082</td>\n",
       "    </tr>\n",
       "    <tr>\n",
       "      <th>13</th>\n",
       "      <td>43.285000</td>\n",
       "      <td>43.286581</td>\n",
       "    </tr>\n",
       "    <tr>\n",
       "      <th>14</th>\n",
       "      <td>34.750000</td>\n",
       "      <td>34.881442</td>\n",
       "    </tr>\n",
       "    <tr>\n",
       "      <th>15</th>\n",
       "      <td>24.392143</td>\n",
       "      <td>24.354742</td>\n",
       "    </tr>\n",
       "    <tr>\n",
       "      <th>16</th>\n",
       "      <td>65.660004</td>\n",
       "      <td>65.842469</td>\n",
       "    </tr>\n",
       "    <tr>\n",
       "      <th>17</th>\n",
       "      <td>39.247501</td>\n",
       "      <td>39.227889</td>\n",
       "    </tr>\n",
       "    <tr>\n",
       "      <th>18</th>\n",
       "      <td>18.442499</td>\n",
       "      <td>18.320463</td>\n",
       "    </tr>\n",
       "    <tr>\n",
       "      <th>19</th>\n",
       "      <td>25.532499</td>\n",
       "      <td>25.507236</td>\n",
       "    </tr>\n",
       "    <tr>\n",
       "      <th>20</th>\n",
       "      <td>32.147499</td>\n",
       "      <td>32.360644</td>\n",
       "    </tr>\n",
       "    <tr>\n",
       "      <th>21</th>\n",
       "      <td>19.714287</td>\n",
       "      <td>19.637579</td>\n",
       "    </tr>\n",
       "    <tr>\n",
       "      <th>22</th>\n",
       "      <td>82.875000</td>\n",
       "      <td>82.522539</td>\n",
       "    </tr>\n",
       "    <tr>\n",
       "      <th>23</th>\n",
       "      <td>26.500000</td>\n",
       "      <td>26.531837</td>\n",
       "    </tr>\n",
       "    <tr>\n",
       "      <th>24</th>\n",
       "      <td>23.045000</td>\n",
       "      <td>22.891627</td>\n",
       "    </tr>\n",
       "  </tbody>\n",
       "</table>\n",
       "</div>"
      ],
      "text/plain": [
       "       Actual  Predicted\n",
       "0   26.684999  26.610878\n",
       "1   40.580002  40.414822\n",
       "2   11.872857  11.860119\n",
       "3   46.577499  46.714093\n",
       "4   58.967499  59.333543\n",
       "5   25.780001  26.015766\n",
       "6   25.280001  25.179458\n",
       "7   30.469999  30.417673\n",
       "8   40.727501  40.618267\n",
       "9   12.505357  12.440447\n",
       "10  11.507500  11.439894\n",
       "11  22.727501  22.920133\n",
       "12  22.791786  22.824082\n",
       "13  43.285000  43.286581\n",
       "14  34.750000  34.881442\n",
       "15  24.392143  24.354742\n",
       "16  65.660004  65.842469\n",
       "17  39.247501  39.227889\n",
       "18  18.442499  18.320463\n",
       "19  25.532499  25.507236\n",
       "20  32.147499  32.360644\n",
       "21  19.714287  19.637579\n",
       "22  82.875000  82.522539\n",
       "23  26.500000  26.531837\n",
       "24  23.045000  22.891627"
      ]
     },
     "execution_count": 9,
     "metadata": {},
     "output_type": "execute_result"
    }
   ],
   "source": [
    "# Create a data frame for apple data to store the predicted values and actual values of test data\n",
    "apple_actual_predicted = pd.DataFrame({'Actual': apple_y_test.flatten(), 'Predicted': predicted_apple_close.flatten()})\n",
    "apple_actual_predicted.head(25)"
   ]
  },
  {
   "cell_type": "code",
   "execution_count": 10,
   "id": "c9e63d07",
   "metadata": {},
   "outputs": [
    {
     "name": "stdout",
     "output_type": "stream",
     "text": [
      "Mean Absolute Error:  0.1359440039222572\n",
      "Mean Squared Error:  0.06424004749458799\n"
     ]
    }
   ],
   "source": [
    "# Calculate the mean absolute error for apple data\n",
    "print('Mean Absolute Error: ', metrics.mean_absolute_error(apple_y_test, predicted_apple_close))\n",
    "\n",
    "# Calculate the mean squared error for apple data\n",
    "print('Mean Squared Error: ', mean_squared_error(apple_y_test, predicted_apple_close))"
   ]
  },
  {
   "cell_type": "code",
   "execution_count": 11,
   "id": "7ad3f371",
   "metadata": {},
   "outputs": [
    {
     "data": {
      "text/plain": [
       "<AxesSubplot:>"
      ]
     },
     "execution_count": 11,
     "metadata": {},
     "output_type": "execute_result"
    },
    {
     "data": {
      "image/png": "[encoded data removed]",
      "text/plain": [
       "<Figure size 432x288 with 1 Axes>"
      ]
     },
     "metadata": {
      "needs_background": "light"
     },
     "output_type": "display_data"
    }
   ],
   "source": [
    "# Graph in bar graph form to compare actual versus predicted data\n",
    "# Graph in increments (graphing all 755 points does not supply a helpful visual)\n",
    "\n",
    "# Change type of Actual column from an object to a float64 for graphing purposes\n",
    "apple_actual_predicted['Actual'] = pd.to_numeric(apple_actual_predicted['Actual'])\n",
    "graph = apple_actual_predicted.iloc[300:310]\n",
    "graph.plot(kind = 'bar')"
   ]
  },
  {
   "cell_type": "code",
   "execution_count": 12,
   "id": "b049db49",
   "metadata": {},
   "outputs": [
    {
     "data": {
      "text/plain": [
       "<AxesSubplot:>"
      ]
     },
     "execution_count": 12,
     "metadata": {},
     "output_type": "execute_result"
    },
    {
     "data": {
      "image/png": "[encoded data removed]",
      "text/plain": [
       "<Figure size 432x288 with 1 Axes>"
      ]
     },
     "metadata": {
      "needs_background": "light"
     },
     "output_type": "display_data"
    }
   ],
   "source": [
    "# Graph data values 200 - 220\n",
    "graph = apple_actual_predicted.iloc[200:220]\n",
    "graph.plot(kind = 'bar')"
   ]
  },
  {
   "cell_type": "code",
   "execution_count": 13,
   "id": "0cea0d2a",
   "metadata": {},
   "outputs": [
    {
     "data": {
      "text/plain": [
       "<AxesSubplot:>"
      ]
     },
     "execution_count": 13,
     "metadata": {},
     "output_type": "execute_result"
    },
    {
     "data": {
      "image/png": "[encoded data removed]",
      "text/plain": [
       "<Figure size 432x288 with 1 Axes>"
      ]
     },
     "metadata": {
      "needs_background": "light"
     },
     "output_type": "display_data"
    }
   ],
   "source": [
    "# Graph data values 600 - 620\n",
    "graph = apple_actual_predicted.iloc[600:620]\n",
    "graph.plot(kind = 'bar')"
   ]
  },
  {
   "cell_type": "markdown",
   "id": "78dd5d4c",
   "metadata": {},
   "source": [
    "### Apple Data with Volume"
   ]
  },
  {
   "cell_type": "code",
   "execution_count": 14,
   "id": "8a214c0a",
   "metadata": {},
   "outputs": [],
   "source": [
    "# Split the apple data up into open, high, low, volume and close\n",
    "x = apple[['Open', 'High', 'Low', 'Volume']].values\n",
    "y = apple[['Close']].values"
   ]
  },
  {
   "cell_type": "code",
   "execution_count": 15,
   "id": "62b00404",
   "metadata": {},
   "outputs": [],
   "source": [
    "# Train the apple data\n",
    "apple_x_train, apple_x_test, apple_y_train, apple_y_test = train_test_split(x, y, test_size = 0.3, random_state = 1)"
   ]
  },
  {
   "cell_type": "code",
   "execution_count": 16,
   "id": "fac41c89",
   "metadata": {},
   "outputs": [],
   "source": [
    "# Create a model for apple data \n",
    "apple_model_volume = LinearRegression(fit_intercept=False)"
   ]
  },
  {
   "cell_type": "code",
   "execution_count": 17,
   "id": "1eef3932",
   "metadata": {},
   "outputs": [
    {
     "data": {
      "text/plain": [
       "LinearRegression(fit_intercept=False)"
      ]
     },
     "execution_count": 17,
     "metadata": {},
     "output_type": "execute_result"
    }
   ],
   "source": [
    "# Fit the model for apple data\n",
    "apple_model_volume.fit(apple_x_train, apple_y_train)"
   ]
  },
  {
   "cell_type": "code",
   "execution_count": 18,
   "id": "b1b0ce79",
   "metadata": {},
   "outputs": [],
   "source": [
    "# Get the predicted values for apple data\n",
    "predicted_apple_close = apple_model_volume.predict(apple_x_test)"
   ]
  },
  {
   "cell_type": "code",
   "execution_count": 19,
   "id": "d5f7d377",
   "metadata": {},
   "outputs": [
    {
     "data": {
      "text/html": [
       "<div>\n",
       "<style scoped>\n",
       "    .dataframe tbody tr th:only-of-type {\n",
       "        vertical-align: middle;\n",
       "    }\n",
       "\n",
       "    .dataframe tbody tr th {\n",
       "        vertical-align: top;\n",
       "    }\n",
       "\n",
       "    .dataframe thead th {\n",
       "        text-align: right;\n",
       "    }\n",
       "</style>\n",
       "<table border=\"1\" class=\"dataframe\">\n",
       "  <thead>\n",
       "    <tr style=\"text-align: right;\">\n",
       "      <th></th>\n",
       "      <th>Actual</th>\n",
       "      <th>Predicted</th>\n",
       "    </tr>\n",
       "  </thead>\n",
       "  <tbody>\n",
       "    <tr>\n",
       "      <th>0</th>\n",
       "      <td>26.684999</td>\n",
       "      <td>26.611088</td>\n",
       "    </tr>\n",
       "    <tr>\n",
       "      <th>1</th>\n",
       "      <td>40.580002</td>\n",
       "      <td>40.414547</td>\n",
       "    </tr>\n",
       "    <tr>\n",
       "      <th>2</th>\n",
       "      <td>11.872857</td>\n",
       "      <td>11.860824</td>\n",
       "    </tr>\n",
       "    <tr>\n",
       "      <th>3</th>\n",
       "      <td>46.577499</td>\n",
       "      <td>46.713772</td>\n",
       "    </tr>\n",
       "    <tr>\n",
       "      <th>4</th>\n",
       "      <td>58.967499</td>\n",
       "      <td>59.333175</td>\n",
       "    </tr>\n",
       "    <tr>\n",
       "      <th>5</th>\n",
       "      <td>25.780001</td>\n",
       "      <td>26.016579</td>\n",
       "    </tr>\n",
       "    <tr>\n",
       "      <th>6</th>\n",
       "      <td>25.280001</td>\n",
       "      <td>25.179420</td>\n",
       "    </tr>\n",
       "    <tr>\n",
       "      <th>7</th>\n",
       "      <td>30.469999</td>\n",
       "      <td>30.417680</td>\n",
       "    </tr>\n",
       "    <tr>\n",
       "      <th>8</th>\n",
       "      <td>40.727501</td>\n",
       "      <td>40.618129</td>\n",
       "    </tr>\n",
       "    <tr>\n",
       "      <th>9</th>\n",
       "      <td>12.505357</td>\n",
       "      <td>12.441161</td>\n",
       "    </tr>\n",
       "    <tr>\n",
       "      <th>10</th>\n",
       "      <td>11.507500</td>\n",
       "      <td>11.440704</td>\n",
       "    </tr>\n",
       "    <tr>\n",
       "      <th>11</th>\n",
       "      <td>22.727501</td>\n",
       "      <td>22.920840</td>\n",
       "    </tr>\n",
       "    <tr>\n",
       "      <th>12</th>\n",
       "      <td>22.791786</td>\n",
       "      <td>22.825336</td>\n",
       "    </tr>\n",
       "    <tr>\n",
       "      <th>13</th>\n",
       "      <td>43.285000</td>\n",
       "      <td>43.286387</td>\n",
       "    </tr>\n",
       "    <tr>\n",
       "      <th>14</th>\n",
       "      <td>34.750000</td>\n",
       "      <td>34.881297</td>\n",
       "    </tr>\n",
       "    <tr>\n",
       "      <th>15</th>\n",
       "      <td>24.392143</td>\n",
       "      <td>24.355953</td>\n",
       "    </tr>\n",
       "    <tr>\n",
       "      <th>16</th>\n",
       "      <td>65.660004</td>\n",
       "      <td>65.841963</td>\n",
       "    </tr>\n",
       "    <tr>\n",
       "      <th>17</th>\n",
       "      <td>39.247501</td>\n",
       "      <td>39.227675</td>\n",
       "    </tr>\n",
       "    <tr>\n",
       "      <th>18</th>\n",
       "      <td>18.442499</td>\n",
       "      <td>18.321635</td>\n",
       "    </tr>\n",
       "    <tr>\n",
       "      <th>19</th>\n",
       "      <td>25.532499</td>\n",
       "      <td>25.507471</td>\n",
       "    </tr>\n",
       "    <tr>\n",
       "      <th>20</th>\n",
       "      <td>32.147499</td>\n",
       "      <td>32.360636</td>\n",
       "    </tr>\n",
       "    <tr>\n",
       "      <th>21</th>\n",
       "      <td>19.714287</td>\n",
       "      <td>19.638383</td>\n",
       "    </tr>\n",
       "    <tr>\n",
       "      <th>22</th>\n",
       "      <td>82.875000</td>\n",
       "      <td>82.521957</td>\n",
       "    </tr>\n",
       "    <tr>\n",
       "      <th>23</th>\n",
       "      <td>26.500000</td>\n",
       "      <td>26.531814</td>\n",
       "    </tr>\n",
       "    <tr>\n",
       "      <th>24</th>\n",
       "      <td>23.045000</td>\n",
       "      <td>22.891687</td>\n",
       "    </tr>\n",
       "  </tbody>\n",
       "</table>\n",
       "</div>"
      ],
      "text/plain": [
       "       Actual  Predicted\n",
       "0   26.684999  26.611088\n",
       "1   40.580002  40.414547\n",
       "2   11.872857  11.860824\n",
       "3   46.577499  46.713772\n",
       "4   58.967499  59.333175\n",
       "5   25.780001  26.016579\n",
       "6   25.280001  25.179420\n",
       "7   30.469999  30.417680\n",
       "8   40.727501  40.618129\n",
       "9   12.505357  12.441161\n",
       "10  11.507500  11.440704\n",
       "11  22.727501  22.920840\n",
       "12  22.791786  22.825336\n",
       "13  43.285000  43.286387\n",
       "14  34.750000  34.881297\n",
       "15  24.392143  24.355953\n",
       "16  65.660004  65.841963\n",
       "17  39.247501  39.227675\n",
       "18  18.442499  18.321635\n",
       "19  25.532499  25.507471\n",
       "20  32.147499  32.360636\n",
       "21  19.714287  19.638383\n",
       "22  82.875000  82.521957\n",
       "23  26.500000  26.531814\n",
       "24  23.045000  22.891687"
      ]
     },
     "execution_count": 19,
     "metadata": {},
     "output_type": "execute_result"
    }
   ],
   "source": [
    "# Create a data frame for apple data to store the predicted values and actual values of test data\n",
    "apple_actual_predicted = pd.DataFrame({'Actual': apple_y_test.flatten(), 'Predicted': predicted_apple_close.flatten()})\n",
    "apple_actual_predicted.head(25)"
   ]
  },
  {
   "cell_type": "code",
   "execution_count": 20,
   "id": "678cc0d0",
   "metadata": {},
   "outputs": [
    {
     "name": "stdout",
     "output_type": "stream",
     "text": [
      "Mean Absolute Error:  0.13595789475545234\n",
      "Mean Squared Error:  0.06423187669287542\n"
     ]
    }
   ],
   "source": [
    "# Calculate the mean absolute error for apple data\n",
    "print('Mean Absolute Error: ', metrics.mean_absolute_error(apple_y_test, predicted_apple_close))\n",
    "\n",
    "# Calculate the mean squared error for apple data\n",
    "print('Mean Squared Error: ', mean_squared_error(apple_y_test, predicted_apple_close))"
   ]
  },
  {
   "cell_type": "markdown",
   "id": "ab8ee7a4",
   "metadata": {},
   "source": [
    "## Netflix Data"
   ]
  },
  {
   "cell_type": "code",
   "execution_count": 22,
   "id": "c6e97943",
   "metadata": {},
   "outputs": [],
   "source": [
    "# Split the netflix data up into open, high, low and close\n",
    "x = netflix[['Open', 'High', 'Low']].values\n",
    "y = netflix[['Close']].values"
   ]
  },
  {
   "cell_type": "code",
   "execution_count": 23,
   "id": "9229fb31",
   "metadata": {},
   "outputs": [],
   "source": [
    "# Train the netflix data\n",
    "netflix_x_train, netflix_x_test, netflix_y_train, netflix_y_test = train_test_split(x, y, test_size = 0.3, random_state = 1)"
   ]
  },
  {
   "cell_type": "code",
   "execution_count": 24,
   "id": "6fa0b7d3",
   "metadata": {},
   "outputs": [],
   "source": [
    "# Create a model for netflix data \n",
    "netflix_model = LinearRegression(fit_intercept=False)"
   ]
  },
  {
   "cell_type": "code",
   "execution_count": 25,
   "id": "9a18c131",
   "metadata": {},
   "outputs": [
    {
     "data": {
      "text/plain": [
       "LinearRegression(fit_intercept=False)"
      ]
     },
     "execution_count": 25,
     "metadata": {},
     "output_type": "execute_result"
    }
   ],
   "source": [
    "# Fit the model for netflix data\n",
    "netflix_model.fit(netflix_x_train, netflix_y_train)"
   ]
  },
  {
   "cell_type": "code",
   "execution_count": 26,
   "id": "815f571d",
   "metadata": {},
   "outputs": [],
   "source": [
    "# Get the predicted values for netflix data\n",
    "predicted_netflix_close = netflix_model.predict(netflix_x_test)"
   ]
  },
  {
   "cell_type": "code",
   "execution_count": 27,
   "id": "e53cdcdc",
   "metadata": {},
   "outputs": [
    {
     "data": {
      "text/html": [
       "<div>\n",
       "<style scoped>\n",
       "    .dataframe tbody tr th:only-of-type {\n",
       "        vertical-align: middle;\n",
       "    }\n",
       "\n",
       "    .dataframe tbody tr th {\n",
       "        vertical-align: top;\n",
       "    }\n",
       "\n",
       "    .dataframe thead th {\n",
       "        text-align: right;\n",
       "    }\n",
       "</style>\n",
       "<table border=\"1\" class=\"dataframe\">\n",
       "  <thead>\n",
       "    <tr style=\"text-align: right;\">\n",
       "      <th></th>\n",
       "      <th>Actual</th>\n",
       "      <th>Predicted</th>\n",
       "    </tr>\n",
       "  </thead>\n",
       "  <tbody>\n",
       "    <tr>\n",
       "      <th>0</th>\n",
       "      <td>55.174286</td>\n",
       "      <td>54.928235</td>\n",
       "    </tr>\n",
       "    <tr>\n",
       "      <th>1</th>\n",
       "      <td>311.760010</td>\n",
       "      <td>309.933117</td>\n",
       "    </tr>\n",
       "    <tr>\n",
       "      <th>2</th>\n",
       "      <td>37.304287</td>\n",
       "      <td>36.911283</td>\n",
       "    </tr>\n",
       "    <tr>\n",
       "      <th>3</th>\n",
       "      <td>324.179993</td>\n",
       "      <td>324.570245</td>\n",
       "    </tr>\n",
       "    <tr>\n",
       "      <th>4</th>\n",
       "      <td>285.529999</td>\n",
       "      <td>284.929753</td>\n",
       "    </tr>\n",
       "    <tr>\n",
       "      <th>5</th>\n",
       "      <td>96.879997</td>\n",
       "      <td>103.292276</td>\n",
       "    </tr>\n",
       "    <tr>\n",
       "      <th>6</th>\n",
       "      <td>98.000000</td>\n",
       "      <td>96.719537</td>\n",
       "    </tr>\n",
       "    <tr>\n",
       "      <th>7</th>\n",
       "      <td>139.520004</td>\n",
       "      <td>139.972457</td>\n",
       "    </tr>\n",
       "    <tr>\n",
       "      <th>8</th>\n",
       "      <td>168.809998</td>\n",
       "      <td>168.605655</td>\n",
       "    </tr>\n",
       "    <tr>\n",
       "      <th>9</th>\n",
       "      <td>33.708572</td>\n",
       "      <td>33.213441</td>\n",
       "    </tr>\n",
       "    <tr>\n",
       "      <th>10</th>\n",
       "      <td>25.435715</td>\n",
       "      <td>25.402556</td>\n",
       "    </tr>\n",
       "    <tr>\n",
       "      <th>11</th>\n",
       "      <td>62.882858</td>\n",
       "      <td>62.559776</td>\n",
       "    </tr>\n",
       "    <tr>\n",
       "      <th>12</th>\n",
       "      <td>10.502857</td>\n",
       "      <td>10.392770</td>\n",
       "    </tr>\n",
       "    <tr>\n",
       "      <th>13</th>\n",
       "      <td>196.229996</td>\n",
       "      <td>197.007625</td>\n",
       "    </tr>\n",
       "    <tr>\n",
       "      <th>14</th>\n",
       "      <td>140.320007</td>\n",
       "      <td>140.679902</td>\n",
       "    </tr>\n",
       "    <tr>\n",
       "      <th>15</th>\n",
       "      <td>8.285714</td>\n",
       "      <td>8.193166</td>\n",
       "    </tr>\n",
       "    <tr>\n",
       "      <th>16</th>\n",
       "      <td>289.619995</td>\n",
       "      <td>289.232609</td>\n",
       "    </tr>\n",
       "    <tr>\n",
       "      <th>17</th>\n",
       "      <td>199.490005</td>\n",
       "      <td>198.735579</td>\n",
       "    </tr>\n",
       "    <tr>\n",
       "      <th>18</th>\n",
       "      <td>16.141430</td>\n",
       "      <td>16.196270</td>\n",
       "    </tr>\n",
       "    <tr>\n",
       "      <th>19</th>\n",
       "      <td>67.814285</td>\n",
       "      <td>67.968768</td>\n",
       "    </tr>\n",
       "    <tr>\n",
       "      <th>20</th>\n",
       "      <td>95.094284</td>\n",
       "      <td>94.816992</td>\n",
       "    </tr>\n",
       "    <tr>\n",
       "      <th>21</th>\n",
       "      <td>15.171429</td>\n",
       "      <td>15.506286</td>\n",
       "    </tr>\n",
       "    <tr>\n",
       "      <th>22</th>\n",
       "      <td>419.600006</td>\n",
       "      <td>415.549717</td>\n",
       "    </tr>\n",
       "    <tr>\n",
       "      <th>23</th>\n",
       "      <td>97.449997</td>\n",
       "      <td>98.139025</td>\n",
       "    </tr>\n",
       "    <tr>\n",
       "      <th>24</th>\n",
       "      <td>64.097145</td>\n",
       "      <td>63.847309</td>\n",
       "    </tr>\n",
       "  </tbody>\n",
       "</table>\n",
       "</div>"
      ],
      "text/plain": [
       "        Actual   Predicted\n",
       "0    55.174286   54.928235\n",
       "1   311.760010  309.933117\n",
       "2    37.304287   36.911283\n",
       "3   324.179993  324.570245\n",
       "4   285.529999  284.929753\n",
       "5    96.879997  103.292276\n",
       "6    98.000000   96.719537\n",
       "7   139.520004  139.972457\n",
       "8   168.809998  168.605655\n",
       "9    33.708572   33.213441\n",
       "10   25.435715   25.402556\n",
       "11   62.882858   62.559776\n",
       "12   10.502857   10.392770\n",
       "13  196.229996  197.007625\n",
       "14  140.320007  140.679902\n",
       "15    8.285714    8.193166\n",
       "16  289.619995  289.232609\n",
       "17  199.490005  198.735579\n",
       "18   16.141430   16.196270\n",
       "19   67.814285   67.968768\n",
       "20   95.094284   94.816992\n",
       "21   15.171429   15.506286\n",
       "22  419.600006  415.549717\n",
       "23   97.449997   98.139025\n",
       "24   64.097145   63.847309"
      ]
     },
     "execution_count": 27,
     "metadata": {},
     "output_type": "execute_result"
    }
   ],
   "source": [
    "# Create a data frame for netflix data to store the predicted values and actual values of test data\n",
    "netflix_actual_predicted = pd.DataFrame({'Actual': netflix_y_test.flatten(), 'Predicted': predicted_netflix_close.flatten()})\n",
    "netflix_actual_predicted.head(25)"
   ]
  },
  {
   "cell_type": "code",
   "execution_count": 28,
   "id": "2935ad45",
   "metadata": {},
   "outputs": [
    {
     "name": "stdout",
     "output_type": "stream",
     "text": [
      "Mean Absolute Error:  0.9776020153946214\n",
      "Mean Squared Error:  3.767905464635426\n"
     ]
    }
   ],
   "source": [
    "# Calculate the mean absolute error for netflix data\n",
    "print('Mean Absolute Error: ', metrics.mean_absolute_error(netflix_y_test, predicted_netflix_close))\n",
    "\n",
    "# Calculate the mean squared error for netflix data\n",
    "print('Mean Squared Error: ', mean_squared_error(netflix_y_test, predicted_netflix_close))"
   ]
  },
  {
   "cell_type": "code",
   "execution_count": 29,
   "id": "bd4eb3c2",
   "metadata": {},
   "outputs": [
    {
     "data": {
      "text/plain": [
       "<AxesSubplot:>"
      ]
     },
     "execution_count": 29,
     "metadata": {},
     "output_type": "execute_result"
    },
    {
     "data": {
      "image/png": "[encoded data removed]",
      "text/plain": [
       "<Figure size 432x288 with 1 Axes>"
      ]
     },
     "metadata": {
      "needs_background": "light"
     },
     "output_type": "display_data"
    }
   ],
   "source": [
    "# Graph in bar graph form to compare actual versus predicted data\n",
    "# Graph in increments (graphing all 755 points does not supply a helpful visual)\n",
    "\n",
    "# Change type of Actual column from an object to a float64 for graphing purposes\n",
    "netflix_actual_predicted['Actual'] = pd.to_numeric(netflix_actual_predicted['Actual'])\n",
    "graph = netflix_actual_predicted.iloc[300:310]\n",
    "graph.plot(kind = 'bar')"
   ]
  },
  {
   "cell_type": "code",
   "execution_count": 30,
   "id": "c198a010",
   "metadata": {},
   "outputs": [
    {
     "data": {
      "text/plain": [
       "<AxesSubplot:>"
      ]
     },
     "execution_count": 30,
     "metadata": {},
     "output_type": "execute_result"
    },
    {
     "data": {
      "image/png": "[encoded data removed]",
      "text/plain": [
       "<Figure size 432x288 with 1 Axes>"
      ]
     },
     "metadata": {
      "needs_background": "light"
     },
     "output_type": "display_data"
    }
   ],
   "source": [
    "graph = netflix_actual_predicted.iloc[200:220]\n",
    "graph.plot(kind = 'bar')"
   ]
  },
  {
   "cell_type": "code",
   "execution_count": 31,
   "id": "ea53d76e",
   "metadata": {},
   "outputs": [
    {
     "data": {
      "text/plain": [
       "<AxesSubplot:>"
      ]
     },
     "execution_count": 31,
     "metadata": {},
     "output_type": "execute_result"
    },
    {
     "data": {
      "image/png": "[encoded data removed]",
      "text/plain": [
       "<Figure size 432x288 with 1 Axes>"
      ]
     },
     "metadata": {
      "needs_background": "light"
     },
     "output_type": "display_data"
    }
   ],
   "source": [
    "graph = netflix_actual_predicted.iloc[600:620]\n",
    "graph.plot(kind = 'bar')"
   ]
  },
  {
   "cell_type": "markdown",
   "id": "e32832d7",
   "metadata": {},
   "source": [
    "### Netflix Data with Volume"
   ]
  },
  {
   "cell_type": "code",
   "execution_count": 32,
   "id": "5b226c43",
   "metadata": {},
   "outputs": [],
   "source": [
    "# Split the netflix data up into open, high, low, volume, and close\n",
    "x = netflix[['Open', 'High', 'Low', 'Volume']].values\n",
    "y = netflix[['Close']].values"
   ]
  },
  {
   "cell_type": "code",
   "execution_count": 33,
   "id": "17fdbeab",
   "metadata": {},
   "outputs": [],
   "source": [
    "# Train the netflix data with volume\n",
    "netflix_x_train, netflix_x_test, netflix_y_train, netflix_y_test = train_test_split(x, y, test_size = 0.3, random_state = 1)"
   ]
  },
  {
   "cell_type": "code",
   "execution_count": 34,
   "id": "aed70efc",
   "metadata": {},
   "outputs": [],
   "source": [
    "# Create a model for netflix data with volume\n",
    "netflix_model = LinearRegression(fit_intercept=False)"
   ]
  },
  {
   "cell_type": "code",
   "execution_count": 35,
   "id": "1ec20b76",
   "metadata": {},
   "outputs": [
    {
     "data": {
      "text/plain": [
       "LinearRegression(fit_intercept=False)"
      ]
     },
     "execution_count": 35,
     "metadata": {},
     "output_type": "execute_result"
    }
   ],
   "source": [
    "# Fit the model for netflix data with volume\n",
    "netflix_model.fit(netflix_x_train, netflix_y_train)"
   ]
  },
  {
   "cell_type": "code",
   "execution_count": 36,
   "id": "32afc2d8",
   "metadata": {},
   "outputs": [],
   "source": [
    "# Get the predicted values for netflix data with volume\n",
    "predicted_netflix_close = netflix_model.predict(netflix_x_test)"
   ]
  },
  {
   "cell_type": "code",
   "execution_count": 37,
   "id": "9fec0610",
   "metadata": {},
   "outputs": [
    {
     "data": {
      "text/html": [
       "<div>\n",
       "<style scoped>\n",
       "    .dataframe tbody tr th:only-of-type {\n",
       "        vertical-align: middle;\n",
       "    }\n",
       "\n",
       "    .dataframe tbody tr th {\n",
       "        vertical-align: top;\n",
       "    }\n",
       "\n",
       "    .dataframe thead th {\n",
       "        text-align: right;\n",
       "    }\n",
       "</style>\n",
       "<table border=\"1\" class=\"dataframe\">\n",
       "  <thead>\n",
       "    <tr style=\"text-align: right;\">\n",
       "      <th></th>\n",
       "      <th>Actual</th>\n",
       "      <th>Predicted</th>\n",
       "    </tr>\n",
       "  </thead>\n",
       "  <tbody>\n",
       "    <tr>\n",
       "      <th>0</th>\n",
       "      <td>55.174286</td>\n",
       "      <td>54.931258</td>\n",
       "    </tr>\n",
       "    <tr>\n",
       "      <th>1</th>\n",
       "      <td>311.760010</td>\n",
       "      <td>309.930713</td>\n",
       "    </tr>\n",
       "    <tr>\n",
       "      <th>2</th>\n",
       "      <td>37.304287</td>\n",
       "      <td>36.917407</td>\n",
       "    </tr>\n",
       "    <tr>\n",
       "      <th>3</th>\n",
       "      <td>324.179993</td>\n",
       "      <td>324.569317</td>\n",
       "    </tr>\n",
       "    <tr>\n",
       "      <th>4</th>\n",
       "      <td>285.529999</td>\n",
       "      <td>284.929052</td>\n",
       "    </tr>\n",
       "    <tr>\n",
       "      <th>5</th>\n",
       "      <td>96.879997</td>\n",
       "      <td>103.301896</td>\n",
       "    </tr>\n",
       "    <tr>\n",
       "      <th>6</th>\n",
       "      <td>98.000000</td>\n",
       "      <td>96.721881</td>\n",
       "    </tr>\n",
       "    <tr>\n",
       "      <th>7</th>\n",
       "      <td>139.520004</td>\n",
       "      <td>139.973517</td>\n",
       "    </tr>\n",
       "    <tr>\n",
       "      <th>8</th>\n",
       "      <td>168.809998</td>\n",
       "      <td>168.604951</td>\n",
       "    </tr>\n",
       "    <tr>\n",
       "      <th>9</th>\n",
       "      <td>33.708572</td>\n",
       "      <td>33.229996</td>\n",
       "    </tr>\n",
       "    <tr>\n",
       "      <th>10</th>\n",
       "      <td>25.435715</td>\n",
       "      <td>25.412319</td>\n",
       "    </tr>\n",
       "    <tr>\n",
       "      <th>11</th>\n",
       "      <td>62.882858</td>\n",
       "      <td>62.563262</td>\n",
       "    </tr>\n",
       "    <tr>\n",
       "      <th>12</th>\n",
       "      <td>10.502857</td>\n",
       "      <td>10.420642</td>\n",
       "    </tr>\n",
       "    <tr>\n",
       "      <th>13</th>\n",
       "      <td>196.229996</td>\n",
       "      <td>197.007741</td>\n",
       "    </tr>\n",
       "    <tr>\n",
       "      <th>14</th>\n",
       "      <td>140.320007</td>\n",
       "      <td>140.680018</td>\n",
       "    </tr>\n",
       "    <tr>\n",
       "      <th>15</th>\n",
       "      <td>8.285714</td>\n",
       "      <td>8.200501</td>\n",
       "    </tr>\n",
       "    <tr>\n",
       "      <th>16</th>\n",
       "      <td>289.619995</td>\n",
       "      <td>289.231353</td>\n",
       "    </tr>\n",
       "    <tr>\n",
       "      <th>17</th>\n",
       "      <td>199.490005</td>\n",
       "      <td>198.737527</td>\n",
       "    </tr>\n",
       "    <tr>\n",
       "      <th>18</th>\n",
       "      <td>16.141430</td>\n",
       "      <td>16.208192</td>\n",
       "    </tr>\n",
       "    <tr>\n",
       "      <th>19</th>\n",
       "      <td>67.814285</td>\n",
       "      <td>67.971444</td>\n",
       "    </tr>\n",
       "    <tr>\n",
       "      <th>20</th>\n",
       "      <td>95.094284</td>\n",
       "      <td>94.823885</td>\n",
       "    </tr>\n",
       "    <tr>\n",
       "      <th>21</th>\n",
       "      <td>15.171429</td>\n",
       "      <td>15.516514</td>\n",
       "    </tr>\n",
       "    <tr>\n",
       "      <th>22</th>\n",
       "      <td>419.600006</td>\n",
       "      <td>415.544741</td>\n",
       "    </tr>\n",
       "    <tr>\n",
       "      <th>23</th>\n",
       "      <td>97.449997</td>\n",
       "      <td>98.140057</td>\n",
       "    </tr>\n",
       "    <tr>\n",
       "      <th>24</th>\n",
       "      <td>64.097145</td>\n",
       "      <td>63.852355</td>\n",
       "    </tr>\n",
       "  </tbody>\n",
       "</table>\n",
       "</div>"
      ],
      "text/plain": [
       "        Actual   Predicted\n",
       "0    55.174286   54.931258\n",
       "1   311.760010  309.930713\n",
       "2    37.304287   36.917407\n",
       "3   324.179993  324.569317\n",
       "4   285.529999  284.929052\n",
       "5    96.879997  103.301896\n",
       "6    98.000000   96.721881\n",
       "7   139.520004  139.973517\n",
       "8   168.809998  168.604951\n",
       "9    33.708572   33.229996\n",
       "10   25.435715   25.412319\n",
       "11   62.882858   62.563262\n",
       "12   10.502857   10.420642\n",
       "13  196.229996  197.007741\n",
       "14  140.320007  140.680018\n",
       "15    8.285714    8.200501\n",
       "16  289.619995  289.231353\n",
       "17  199.490005  198.737527\n",
       "18   16.141430   16.208192\n",
       "19   67.814285   67.971444\n",
       "20   95.094284   94.823885\n",
       "21   15.171429   15.516514\n",
       "22  419.600006  415.544741\n",
       "23   97.449997   98.140057\n",
       "24   64.097145   63.852355"
      ]
     },
     "execution_count": 37,
     "metadata": {},
     "output_type": "execute_result"
    }
   ],
   "source": [
    "# Create a data frame for netflix data with volume to store the predicted values and actual values of test data\n",
    "netflix_actual_predicted = pd.DataFrame({'Actual': netflix_y_test.flatten(), 'Predicted': predicted_netflix_close.flatten()})\n",
    "netflix_actual_predicted.head(25)"
   ]
  },
  {
   "cell_type": "code",
   "execution_count": 38,
   "id": "b897e090",
   "metadata": {},
   "outputs": [
    {
     "name": "stdout",
     "output_type": "stream",
     "text": [
      "Mean Absolute Error:  0.9780315629306067\n",
      "Mean Squared Error:  3.768519249115552\n"
     ]
    }
   ],
   "source": [
    "# Calculate the mean absolute error for netflix data\n",
    "print('Mean Absolute Error: ', metrics.mean_absolute_error(netflix_y_test, predicted_netflix_close))\n",
    "\n",
    "# Calculate the mean squared error for netflix data\n",
    "print('Mean Squared Error: ', mean_squared_error(netflix_y_test, predicted_netflix_close))"
   ]
  },
  {
   "cell_type": "markdown",
   "id": "3e80703b",
   "metadata": {},
   "source": [
    "## Tesla Data"
   ]
  },
  {
   "cell_type": "code",
   "execution_count": 39,
   "id": "43d81f41",
   "metadata": {},
   "outputs": [],
   "source": [
    "# Split the tesla data up into open, high, low and close\n",
    "x = tesla[['Open', 'High', 'Low']].values\n",
    "y = tesla[['Close']].values"
   ]
  },
  {
   "cell_type": "code",
   "execution_count": 40,
   "id": "215819af",
   "metadata": {},
   "outputs": [],
   "source": [
    "# Train the tesla data\n",
    "tesla_x_train, tesla_x_test, tesla_y_train, tesla_y_test = train_test_split(x, y, test_size = 0.3, random_state = 1)"
   ]
  },
  {
   "cell_type": "code",
   "execution_count": 41,
   "id": "7da66e5d",
   "metadata": {},
   "outputs": [],
   "source": [
    "# Create a model for tesla data \n",
    "tesla_model = LinearRegression(fit_intercept=False)"
   ]
  },
  {
   "cell_type": "code",
   "execution_count": 42,
   "id": "583d6e7a",
   "metadata": {},
   "outputs": [
    {
     "data": {
      "text/plain": [
       "LinearRegression(fit_intercept=False)"
      ]
     },
     "execution_count": 42,
     "metadata": {},
     "output_type": "execute_result"
    }
   ],
   "source": [
    "# Fit the model for tesla data\n",
    "tesla_model.fit(tesla_x_train, tesla_y_train)"
   ]
  },
  {
   "cell_type": "code",
   "execution_count": 43,
   "id": "5df62831",
   "metadata": {},
   "outputs": [],
   "source": [
    "# Get the predicted values for apple data\n",
    "predicted_tesla_close = tesla_model.predict(tesla_x_test)"
   ]
  },
  {
   "cell_type": "code",
   "execution_count": 44,
   "id": "ae6fa96e",
   "metadata": {},
   "outputs": [
    {
     "data": {
      "text/html": [
       "<div>\n",
       "<style scoped>\n",
       "    .dataframe tbody tr th:only-of-type {\n",
       "        vertical-align: middle;\n",
       "    }\n",
       "\n",
       "    .dataframe tbody tr th {\n",
       "        vertical-align: top;\n",
       "    }\n",
       "\n",
       "    .dataframe thead th {\n",
       "        text-align: right;\n",
       "    }\n",
       "</style>\n",
       "<table border=\"1\" class=\"dataframe\">\n",
       "  <thead>\n",
       "    <tr style=\"text-align: right;\">\n",
       "      <th></th>\n",
       "      <th>Actual</th>\n",
       "      <th>Predicted</th>\n",
       "    </tr>\n",
       "  </thead>\n",
       "  <tbody>\n",
       "    <tr>\n",
       "      <th>0</th>\n",
       "      <td>48.554001</td>\n",
       "      <td>48.295570</td>\n",
       "    </tr>\n",
       "    <tr>\n",
       "      <th>1</th>\n",
       "      <td>58.816002</td>\n",
       "      <td>58.354585</td>\n",
       "    </tr>\n",
       "    <tr>\n",
       "      <th>2</th>\n",
       "      <td>5.720000</td>\n",
       "      <td>5.899743</td>\n",
       "    </tr>\n",
       "    <tr>\n",
       "      <th>3</th>\n",
       "      <td>55.363998</td>\n",
       "      <td>55.281119</td>\n",
       "    </tr>\n",
       "    <tr>\n",
       "      <th>4</th>\n",
       "      <td>51.391998</td>\n",
       "      <td>51.261114</td>\n",
       "    </tr>\n",
       "    <tr>\n",
       "      <th>5</th>\n",
       "      <td>43.773998</td>\n",
       "      <td>44.426191</td>\n",
       "    </tr>\n",
       "    <tr>\n",
       "      <th>6</th>\n",
       "      <td>41.743999</td>\n",
       "      <td>41.434879</td>\n",
       "    </tr>\n",
       "    <tr>\n",
       "      <th>7</th>\n",
       "      <td>50.894001</td>\n",
       "      <td>50.770308</td>\n",
       "    </tr>\n",
       "    <tr>\n",
       "      <th>8</th>\n",
       "      <td>69.472000</td>\n",
       "      <td>69.356061</td>\n",
       "    </tr>\n",
       "    <tr>\n",
       "      <th>9</th>\n",
       "      <td>5.416000</td>\n",
       "      <td>5.408484</td>\n",
       "    </tr>\n",
       "    <tr>\n",
       "      <th>10</th>\n",
       "      <td>6.340000</td>\n",
       "      <td>6.358379</td>\n",
       "    </tr>\n",
       "    <tr>\n",
       "      <th>11</th>\n",
       "      <td>45.917999</td>\n",
       "      <td>45.771598</td>\n",
       "    </tr>\n",
       "    <tr>\n",
       "      <th>12</th>\n",
       "      <td>5.850000</td>\n",
       "      <td>5.820465</td>\n",
       "    </tr>\n",
       "    <tr>\n",
       "      <th>13</th>\n",
       "      <td>63.562000</td>\n",
       "      <td>63.047889</td>\n",
       "    </tr>\n",
       "    <tr>\n",
       "      <th>14</th>\n",
       "      <td>49.374001</td>\n",
       "      <td>49.606128</td>\n",
       "    </tr>\n",
       "    <tr>\n",
       "      <th>15</th>\n",
       "      <td>5.896000</td>\n",
       "      <td>5.854840</td>\n",
       "    </tr>\n",
       "    <tr>\n",
       "      <th>16</th>\n",
       "      <td>69.870003</td>\n",
       "      <td>69.996371</td>\n",
       "    </tr>\n",
       "    <tr>\n",
       "      <th>17</th>\n",
       "      <td>71.113998</td>\n",
       "      <td>71.048995</td>\n",
       "    </tr>\n",
       "    <tr>\n",
       "      <th>18</th>\n",
       "      <td>6.906000</td>\n",
       "      <td>6.896480</td>\n",
       "    </tr>\n",
       "    <tr>\n",
       "      <th>19</th>\n",
       "      <td>52.650002</td>\n",
       "      <td>52.265588</td>\n",
       "    </tr>\n",
       "    <tr>\n",
       "      <th>20</th>\n",
       "      <td>50.282001</td>\n",
       "      <td>50.342051</td>\n",
       "    </tr>\n",
       "    <tr>\n",
       "      <th>21</th>\n",
       "      <td>7.202000</td>\n",
       "      <td>7.195259</td>\n",
       "    </tr>\n",
       "    <tr>\n",
       "      <th>22</th>\n",
       "      <td>177.132004</td>\n",
       "      <td>175.085872</td>\n",
       "    </tr>\n",
       "    <tr>\n",
       "      <th>23</th>\n",
       "      <td>42.268002</td>\n",
       "      <td>42.330776</td>\n",
       "    </tr>\n",
       "    <tr>\n",
       "      <th>24</th>\n",
       "      <td>45.424000</td>\n",
       "      <td>45.470408</td>\n",
       "    </tr>\n",
       "  </tbody>\n",
       "</table>\n",
       "</div>"
      ],
      "text/plain": [
       "        Actual   Predicted\n",
       "0    48.554001   48.295570\n",
       "1    58.816002   58.354585\n",
       "2     5.720000    5.899743\n",
       "3    55.363998   55.281119\n",
       "4    51.391998   51.261114\n",
       "5    43.773998   44.426191\n",
       "6    41.743999   41.434879\n",
       "7    50.894001   50.770308\n",
       "8    69.472000   69.356061\n",
       "9     5.416000    5.408484\n",
       "10    6.340000    6.358379\n",
       "11   45.917999   45.771598\n",
       "12    5.850000    5.820465\n",
       "13   63.562000   63.047889\n",
       "14   49.374001   49.606128\n",
       "15    5.896000    5.854840\n",
       "16   69.870003   69.996371\n",
       "17   71.113998   71.048995\n",
       "18    6.906000    6.896480\n",
       "19   52.650002   52.265588\n",
       "20   50.282001   50.342051\n",
       "21    7.202000    7.195259\n",
       "22  177.132004  175.085872\n",
       "23   42.268002   42.330776\n",
       "24   45.424000   45.470408"
      ]
     },
     "execution_count": 44,
     "metadata": {},
     "output_type": "execute_result"
    }
   ],
   "source": [
    "# Create a data frame for tesla data to store the predicted values and actual values of test data\n",
    "tesla_actual_predicted = pd.DataFrame({'Actual': tesla_y_test.flatten(), 'Predicted': predicted_tesla_close.flatten()})\n",
    "tesla_actual_predicted.head(25)"
   ]
  },
  {
   "cell_type": "code",
   "execution_count": 46,
   "id": "247a6348",
   "metadata": {},
   "outputs": [
    {
     "name": "stdout",
     "output_type": "stream",
     "text": [
      "Mean Absolute Error:  0.3891807057951336\n",
      "Mean Squared Error:  1.685418171162194\n"
     ]
    }
   ],
   "source": [
    "# Calculate the mean absolute error for tesla data\n",
    "print('Mean Absolute Error: ', metrics.mean_absolute_error(tesla_y_test, predicted_tesla_close))\n",
    "\n",
    "# Calculate the mean squared error for tesla data\n",
    "print('Mean Squared Error: ', mean_squared_error(tesla_y_test, predicted_tesla_close))"
   ]
  },
  {
   "cell_type": "code",
   "execution_count": 47,
   "id": "967a444c",
   "metadata": {},
   "outputs": [
    {
     "data": {
      "text/plain": [
       "<AxesSubplot:>"
      ]
     },
     "execution_count": 47,
     "metadata": {},
     "output_type": "execute_result"
    },
    {
     "data": {
      "image/png": "[encoded data removed]",
      "text/plain": [
       "<Figure size 432x288 with 1 Axes>"
      ]
     },
     "metadata": {
      "needs_background": "light"
     },
     "output_type": "display_data"
    }
   ],
   "source": [
    "# Graph in bar graph form to compare actual versus predicted data\n",
    "# Graph in increments (graphing all 755 points does not supply a helpful visual)\n",
    "\n",
    "# Change type of Actual column from an object to a float64 for graphing purposes\n",
    "tesla_actual_predicted['Actual'] = pd.to_numeric(tesla_actual_predicted['Actual'])\n",
    "graph = tesla_actual_predicted.iloc[300:310]\n",
    "graph.plot(kind = 'bar')"
   ]
  },
  {
   "cell_type": "code",
   "execution_count": 48,
   "id": "4ce84973",
   "metadata": {},
   "outputs": [
    {
     "data": {
      "text/plain": [
       "<AxesSubplot:>"
      ]
     },
     "execution_count": 48,
     "metadata": {},
     "output_type": "execute_result"
    },
    {
     "data": {
      "image/png": "[encoded data removed]",
      "text/plain": [
       "<Figure size 432x288 with 1 Axes>"
      ]
     },
     "metadata": {
      "needs_background": "light"
     },
     "output_type": "display_data"
    }
   ],
   "source": [
    "graph = tesla_actual_predicted.iloc[200:220]\n",
    "graph.plot(kind = 'bar')"
   ]
  },
  {
   "cell_type": "code",
   "execution_count": 49,
   "id": "380eb0aa",
   "metadata": {
    "scrolled": true
   },
   "outputs": [
    {
     "data": {
      "text/plain": [
       "<AxesSubplot:>"
      ]
     },
     "execution_count": 49,
     "metadata": {},
     "output_type": "execute_result"
    },
    {
     "data": {
      "image/png": "[encoded data removed]",
      "text/plain": [
       "<Figure size 432x288 with 1 Axes>"
      ]
     },
     "metadata": {
      "needs_background": "light"
     },
     "output_type": "display_data"
    }
   ],
   "source": [
    "graph = tesla_actual_predicted.iloc[600:620]\n",
    "graph.plot(kind = 'bar')"
   ]
  },
  {
   "cell_type": "markdown",
   "id": "ab3a8d48",
   "metadata": {},
   "source": [
    "### Tesla Data with Volume"
   ]
  },
  {
   "cell_type": "code",
   "execution_count": 50,
   "id": "8afd37d0",
   "metadata": {},
   "outputs": [],
   "source": [
    "# Split the tesla data up into open, high, low, volume, and close\n",
    "x = tesla[['Open', 'High', 'Low', 'Volume']].values\n",
    "y = tesla[['Close']].values"
   ]
  },
  {
   "cell_type": "code",
   "execution_count": 51,
   "id": "359f48d7",
   "metadata": {},
   "outputs": [],
   "source": [
    "# Train the tesla data with volume\n",
    "tesla_x_train, tesla_x_test, tesla_y_train, tesla_y_test = train_test_split(x, y, test_size = 0.3, random_state = 1)"
   ]
  },
  {
   "cell_type": "code",
   "execution_count": 52,
   "id": "6ba5962a",
   "metadata": {},
   "outputs": [],
   "source": [
    "# Create a model for tesla data with volume\n",
    "tesla_model = LinearRegression(fit_intercept=False)"
   ]
  },
  {
   "cell_type": "code",
   "execution_count": 53,
   "id": "2892bbed",
   "metadata": {},
   "outputs": [
    {
     "data": {
      "text/plain": [
       "LinearRegression(fit_intercept=False)"
      ]
     },
     "execution_count": 53,
     "metadata": {},
     "output_type": "execute_result"
    }
   ],
   "source": [
    "# Fit the model for tesla data with volume\n",
    "tesla_model.fit(tesla_x_train, tesla_y_train)"
   ]
  },
  {
   "cell_type": "code",
   "execution_count": 54,
   "id": "2e9c508d",
   "metadata": {},
   "outputs": [],
   "source": [
    "# Get the predicted values for netflix data with volume\n",
    "predicted_tesla_close = tesla_model.predict(tesla_x_test)"
   ]
  },
  {
   "cell_type": "code",
   "execution_count": 55,
   "id": "76ec84a5",
   "metadata": {},
   "outputs": [
    {
     "data": {
      "text/html": [
       "<div>\n",
       "<style scoped>\n",
       "    .dataframe tbody tr th:only-of-type {\n",
       "        vertical-align: middle;\n",
       "    }\n",
       "\n",
       "    .dataframe tbody tr th {\n",
       "        vertical-align: top;\n",
       "    }\n",
       "\n",
       "    .dataframe thead th {\n",
       "        text-align: right;\n",
       "    }\n",
       "</style>\n",
       "<table border=\"1\" class=\"dataframe\">\n",
       "  <thead>\n",
       "    <tr style=\"text-align: right;\">\n",
       "      <th></th>\n",
       "      <th>Actual</th>\n",
       "      <th>Predicted</th>\n",
       "    </tr>\n",
       "  </thead>\n",
       "  <tbody>\n",
       "    <tr>\n",
       "      <th>0</th>\n",
       "      <td>48.554001</td>\n",
       "      <td>48.210040</td>\n",
       "    </tr>\n",
       "    <tr>\n",
       "      <th>1</th>\n",
       "      <td>58.816002</td>\n",
       "      <td>58.390849</td>\n",
       "    </tr>\n",
       "    <tr>\n",
       "      <th>2</th>\n",
       "      <td>5.720000</td>\n",
       "      <td>5.879134</td>\n",
       "    </tr>\n",
       "    <tr>\n",
       "      <th>3</th>\n",
       "      <td>55.363998</td>\n",
       "      <td>55.262522</td>\n",
       "    </tr>\n",
       "    <tr>\n",
       "      <th>4</th>\n",
       "      <td>51.391998</td>\n",
       "      <td>51.163339</td>\n",
       "    </tr>\n",
       "    <tr>\n",
       "      <th>5</th>\n",
       "      <td>43.773998</td>\n",
       "      <td>44.454933</td>\n",
       "    </tr>\n",
       "    <tr>\n",
       "      <th>6</th>\n",
       "      <td>41.743999</td>\n",
       "      <td>41.454673</td>\n",
       "    </tr>\n",
       "    <tr>\n",
       "      <th>7</th>\n",
       "      <td>50.894001</td>\n",
       "      <td>50.766391</td>\n",
       "    </tr>\n",
       "    <tr>\n",
       "      <th>8</th>\n",
       "      <td>69.472000</td>\n",
       "      <td>69.411251</td>\n",
       "    </tr>\n",
       "    <tr>\n",
       "      <th>9</th>\n",
       "      <td>5.416000</td>\n",
       "      <td>5.398036</td>\n",
       "    </tr>\n",
       "    <tr>\n",
       "      <th>10</th>\n",
       "      <td>6.340000</td>\n",
       "      <td>6.360533</td>\n",
       "    </tr>\n",
       "    <tr>\n",
       "      <th>11</th>\n",
       "      <td>45.917999</td>\n",
       "      <td>45.754627</td>\n",
       "    </tr>\n",
       "    <tr>\n",
       "      <th>12</th>\n",
       "      <td>5.850000</td>\n",
       "      <td>5.813120</td>\n",
       "    </tr>\n",
       "    <tr>\n",
       "      <th>13</th>\n",
       "      <td>63.562000</td>\n",
       "      <td>63.023513</td>\n",
       "    </tr>\n",
       "    <tr>\n",
       "      <th>14</th>\n",
       "      <td>49.374001</td>\n",
       "      <td>49.617658</td>\n",
       "    </tr>\n",
       "    <tr>\n",
       "      <th>15</th>\n",
       "      <td>5.896000</td>\n",
       "      <td>5.835461</td>\n",
       "    </tr>\n",
       "    <tr>\n",
       "      <th>16</th>\n",
       "      <td>69.870003</td>\n",
       "      <td>70.006664</td>\n",
       "    </tr>\n",
       "    <tr>\n",
       "      <th>17</th>\n",
       "      <td>71.113998</td>\n",
       "      <td>71.096607</td>\n",
       "    </tr>\n",
       "    <tr>\n",
       "      <th>18</th>\n",
       "      <td>6.906000</td>\n",
       "      <td>6.895174</td>\n",
       "    </tr>\n",
       "    <tr>\n",
       "      <th>19</th>\n",
       "      <td>52.650002</td>\n",
       "      <td>52.295249</td>\n",
       "    </tr>\n",
       "    <tr>\n",
       "      <th>20</th>\n",
       "      <td>50.282001</td>\n",
       "      <td>50.388926</td>\n",
       "    </tr>\n",
       "    <tr>\n",
       "      <th>21</th>\n",
       "      <td>7.202000</td>\n",
       "      <td>7.170385</td>\n",
       "    </tr>\n",
       "    <tr>\n",
       "      <th>22</th>\n",
       "      <td>177.132004</td>\n",
       "      <td>175.266004</td>\n",
       "    </tr>\n",
       "    <tr>\n",
       "      <th>23</th>\n",
       "      <td>42.268002</td>\n",
       "      <td>42.353271</td>\n",
       "    </tr>\n",
       "    <tr>\n",
       "      <th>24</th>\n",
       "      <td>45.424000</td>\n",
       "      <td>45.415128</td>\n",
       "    </tr>\n",
       "  </tbody>\n",
       "</table>\n",
       "</div>"
      ],
      "text/plain": [
       "        Actual   Predicted\n",
       "0    48.554001   48.210040\n",
       "1    58.816002   58.390849\n",
       "2     5.720000    5.879134\n",
       "3    55.363998   55.262522\n",
       "4    51.391998   51.163339\n",
       "5    43.773998   44.454933\n",
       "6    41.743999   41.454673\n",
       "7    50.894001   50.766391\n",
       "8    69.472000   69.411251\n",
       "9     5.416000    5.398036\n",
       "10    6.340000    6.360533\n",
       "11   45.917999   45.754627\n",
       "12    5.850000    5.813120\n",
       "13   63.562000   63.023513\n",
       "14   49.374001   49.617658\n",
       "15    5.896000    5.835461\n",
       "16   69.870003   70.006664\n",
       "17   71.113998   71.096607\n",
       "18    6.906000    6.895174\n",
       "19   52.650002   52.295249\n",
       "20   50.282001   50.388926\n",
       "21    7.202000    7.170385\n",
       "22  177.132004  175.266004\n",
       "23   42.268002   42.353271\n",
       "24   45.424000   45.415128"
      ]
     },
     "execution_count": 55,
     "metadata": {},
     "output_type": "execute_result"
    }
   ],
   "source": [
    "# Create a data frame for netflix data with volume to store the predicted values and actual values of test data\n",
    "tesla_actual_predicted = pd.DataFrame({'Actual': tesla_y_test.flatten(), 'Predicted': predicted_tesla_close.flatten()})\n",
    "tesla_actual_predicted.head(25)"
   ]
  },
  {
   "cell_type": "code",
   "execution_count": 56,
   "id": "b5cbfdea",
   "metadata": {},
   "outputs": [
    {
     "name": "stdout",
     "output_type": "stream",
     "text": [
      "Mean Absolute Error:  0.390635815191226\n",
      "Mean Squared Error:  1.751754171843353\n"
     ]
    }
   ],
   "source": [
    "# Calculate the mean absolute error for netflix data\n",
    "print('Mean Absolute Error: ', metrics.mean_absolute_error(tesla_y_test, predicted_tesla_close))\n",
    "\n",
    "# Calculate the mean squared error for tesla data\n",
    "print('Mean Squared Error: ', mean_squared_error(tesla_y_test, predicted_tesla_close))"
   ]
  },
  {
   "cell_type": "markdown",
   "id": "f5696e0f",
   "metadata": {},
   "source": [
    "#### Reading in Data with Randomization, 80/20 Split, 5-Fold Cross Validation"
   ]
  },
  {
   "cell_type": "code",
   "execution_count": 57,
   "id": "973f4def",
   "metadata": {},
   "outputs": [],
   "source": [
    "# Read in the data again\n",
    "# Read in the apple data\n",
    "path = os.getcwd() + '/Data/AAPL.csv'\n",
    "\n",
    "apple = pd.read_csv(path, header = None, names = ['Date', 'Open', 'High', 'Low', 'Close', 'Adj Close', 'Volume'])\n",
    "\n",
    "apple = apple.iloc[1: , :]\n",
    "\n",
    "# Read in the netflix data\n",
    "path = os.getcwd() + '/Data/NFLX.csv'\n",
    "\n",
    "netflix = pd.read_csv(path, header = None, names = ['Date', 'Open', 'High', 'Low', 'Close', 'Adj Close', 'Volume'])\n",
    "\n",
    "netflix = netflix.iloc[1: , :]\n",
    "\n",
    "# Read in the tesla data\n",
    "path = os.getcwd() + '/Data/TSLA.csv'\n",
    "\n",
    "tesla = pd.read_csv(path, header = None, names = ['Date', 'Open', 'High', 'Low', 'Close', 'Adj Close', 'Volume'])\n",
    "\n",
    "tesla = tesla.iloc[1: , :]\n"
   ]
  },
  {
   "cell_type": "code",
   "execution_count": 58,
   "id": "cd6f2cd2",
   "metadata": {},
   "outputs": [],
   "source": [
    "# Split the data randomly for training and test data\n",
    "apple = apple.sample(frac = 1)\n",
    "\n",
    "x = apple[['Open', 'High', 'Low']]\n",
    "y = apple[['Close']]\n"
   ]
  },
  {
   "cell_type": "code",
   "execution_count": 59,
   "id": "c68c8124",
   "metadata": {},
   "outputs": [
    {
     "name": "stdout",
     "output_type": "stream",
     "text": [
      "MAE for Each Fold: - [0.13895185252570358, 0.1394425644712696, 0.14246280077351706, 0.13529127399142035, 0.13414513449155324]\n",
      "Average MAE : 0.13805872525069277\n"
     ]
    }
   ],
   "source": [
    "# Use 5-Fold Validation\n",
    "fiveFold = KFold(n_splits=5, random_state = None)\n",
    "\n",
    "# Create a list to hold the accuracy scores\n",
    "MAE = []\n",
    "\n",
    "# Create a model for apple data \n",
    "apple_model = LinearRegression(fit_intercept=False)\n",
    "\n",
    "# Perform training and predicting for each 5-fold\n",
    "for apple_train_index, apple_test_index in fiveFold.split(x):\n",
    "    apple_x_train, apple_x_test = x.iloc[apple_train_index,:], x.iloc[apple_test_index, :]\n",
    "    apple_y_train, apple_y_test = y.iloc[apple_train_index,:], y.iloc[apple_test_index,:]\n",
    "    \n",
    "    # Fit the model\n",
    "    apple_model.fit(apple_x_train, apple_y_train)\n",
    "    \n",
    "    # Get the predicted values for apple data\n",
    "    predicted_apple_close = apple_model.predict(apple_x_test)\n",
    "    \n",
    "    score = metrics.mean_absolute_error(apple_y_test, predicted_apple_close)\n",
    "    MAE.append(score)\n",
    "    \n",
    "avgMAE = sum(MAE) / 5\n",
    "\n",
    "print(\"MAE for Each Fold: - {}\".format(MAE))\n",
    "print(\"Average MAE : {}\".format(avgMAE))\n",
    "    "
   ]
  },
  {
   "cell_type": "code",
   "execution_count": 60,
   "id": "3357ebf6",
   "metadata": {},
   "outputs": [],
   "source": [
    "# Split the data randomly for training and test data\n",
    "netflix = netflix.sample(frac = 1)\n",
    "\n",
    "x = netflix[['Open', 'High', 'Low']]\n",
    "y = netflix[['Close']]"
   ]
  },
  {
   "cell_type": "code",
   "execution_count": 62,
   "id": "53b70b9b",
   "metadata": {},
   "outputs": [
    {
     "name": "stdout",
     "output_type": "stream",
     "text": [
      "MAE for Each Fold: - [1.1204357190595315, 1.0478495855706382, 0.8751152494175963, 0.8785734522317097, 1.012672509268353]\n",
      "Average MAE : 0.9869293031095658\n"
     ]
    }
   ],
   "source": [
    "# Use 5-Fold Validation\n",
    "fiveFold = KFold(n_splits=5, random_state = None)\n",
    "\n",
    "# Create a list to hold the accuracy scores\n",
    "MAE = []\n",
    "\n",
    "# Create a model for apple data \n",
    "netflix_model = LinearRegression(fit_intercept=False)\n",
    "\n",
    "# Perform training and predicting for each 5-fold\n",
    "for netflix_train_index, netflix_test_index in fiveFold.split(x):\n",
    "    netflix_x_train, netflix_x_test = x.iloc[netflix_train_index,:], x.iloc[netflix_test_index, :]\n",
    "    netflix_y_train, netflix_y_test = y.iloc[netflix_train_index,:], y.iloc[netflix_test_index,:]\n",
    "    \n",
    "    # Fit the model\n",
    "    netflix_model.fit(netflix_x_train, netflix_y_train)\n",
    "    \n",
    "    # Get the predicted values for netflix data\n",
    "    predicted_netflix_close = netflix_model.predict(netflix_x_test)\n",
    "    \n",
    "    score = metrics.mean_absolute_error(netflix_y_test, predicted_netflix_close)\n",
    "    MAE.append(score)\n",
    "    \n",
    "avgMAE = sum(MAE) / 5\n",
    "\n",
    "print(\"MAE for Each Fold: - {}\".format(MAE))\n",
    "print(\"Average MAE : {}\".format(avgMAE))"
   ]
  },
  {
   "cell_type": "code",
   "execution_count": 63,
   "id": "631c7e12",
   "metadata": {},
   "outputs": [],
   "source": [
    "# Split the data randomly for training and test data\n",
    "tesla = tesla.sample(frac = 1)\n",
    "\n",
    "x = tesla[['Open', 'High', 'Low']]\n",
    "y = tesla[['Close']]"
   ]
  },
  {
   "cell_type": "code",
   "execution_count": 64,
   "id": "a8704e3b",
   "metadata": {},
   "outputs": [
    {
     "name": "stdout",
     "output_type": "stream",
     "text": [
      "MAE for Each Fold: - [0.39140605307340914, 0.4030325949943214, 0.388875680981334, 0.38884207810197835, 0.4105506208825124]\n",
      "Average MAE : 0.3965414056067111\n"
     ]
    }
   ],
   "source": [
    "# Use 5-Fold Validation\n",
    "fiveFold = KFold(n_splits=5, random_state = None)\n",
    "\n",
    "# Create a list to hold the accuracy scores\n",
    "MAE = []\n",
    "\n",
    "# Create a model for apple data \n",
    "tesla_model = LinearRegression(fit_intercept=False)\n",
    "\n",
    "# Perform training and predicting for each 5-fold\n",
    "for tesla_train_index, tesla_test_index in fiveFold.split(x):\n",
    "    tesla_x_train, tesla_x_test = x.iloc[tesla_train_index,:], x.iloc[tesla_test_index, :]\n",
    "    tesla_y_train, tesla_y_test = y.iloc[tesla_train_index,:], y.iloc[tesla_test_index,:]\n",
    "    \n",
    "    # Fit the model\n",
    "    tesla_model.fit(tesla_x_train, tesla_y_train)\n",
    "    \n",
    "    # Get the predicted values for netflix data\n",
    "    predicted_tesla_close = tesla_model.predict(tesla_x_test)\n",
    "    \n",
    "    score = metrics.mean_absolute_error(tesla_y_test, predicted_tesla_close)\n",
    "    MAE.append(score)\n",
    "    \n",
    "avgMAE = sum(MAE) / 5\n",
    "\n",
    "print(\"MAE for Each Fold: - {}\".format(MAE))\n",
    "print(\"Average MAE : {}\".format(avgMAE))"
   ]
  },
  {
   "cell_type": "markdown",
   "id": "cfbddc6a",
   "metadata": {},
   "source": [
    "### Decision Trees"
   ]
  },
  {
   "cell_type": "code",
   "execution_count": 65,
   "id": "e161c55a",
   "metadata": {},
   "outputs": [],
   "source": [
    "# Read in the data again\n",
    "# Read in the apple data\n",
    "path = os.getcwd() + '/Data/AAPL.csv'\n",
    "\n",
    "apple = pd.read_csv(path, header = None, names = ['Date', 'Open', 'High', 'Low', 'Close', 'Adj Close', 'Volume'])\n",
    "\n",
    "apple = apple.iloc[1: , :]\n",
    "\n",
    "# Read in the netflix data\n",
    "path = os.getcwd() + '/Data/NFLX.csv'\n",
    "\n",
    "netflix = pd.read_csv(path, header = None, names = ['Date', 'Open', 'High', 'Low', 'Close', 'Adj Close', 'Volume'])\n",
    "\n",
    "netflix = netflix.iloc[1: , :]\n",
    "\n",
    "# Read in the tesla data\n",
    "path = os.getcwd() + '/Data/TSLA.csv'\n",
    "\n",
    "tesla = pd.read_csv(path, header = None, names = ['Date', 'Open', 'High', 'Low', 'Close', 'Adj Close', 'Volume'])\n",
    "\n",
    "tesla = tesla.iloc[1: , :]"
   ]
  },
  {
   "cell_type": "code",
   "execution_count": 66,
   "id": "3e2a8645",
   "metadata": {},
   "outputs": [
    {
     "name": "stderr",
     "output_type": "stream",
     "text": [
      "<ipython-input-66-2a10ddb07ca4>:14: FutureWarning: In a future version of pandas all arguments of DataFrame.drop except for the argument 'labels' will be keyword-only\n",
      "  apple_x = np.array(apple.drop([\"Prediction\"], 1))[:-future]\n"
     ]
    }
   ],
   "source": [
    "# Using decision trees, predict the close price for 50 days into the future\n",
    "future = 50\n",
    "\n",
    "apple = apple[['Open', 'High', 'Low', 'Close', 'Adj Close', 'Volume']]\n",
    "\n",
    "actual_apple_close = np.array(apple[['Close']].tail(50))\n",
    "\n",
    "\n",
    "# Create a prediction column\n",
    "apple[\"Prediction\"] = apple[[\"Close\"]].shift(-future)\n",
    "\n",
    "\n",
    "# Remove the last 50 rows from the apple dataset\n",
    "apple_x = np.array(apple.drop([\"Prediction\"], 1))[:-future]\n",
    "\n",
    "\n",
    "# Create the target dataset\n",
    "apple_y = np.array(apple[\"Prediction\"])[:-future]\n",
    "\n"
   ]
  },
  {
   "cell_type": "code",
   "execution_count": 67,
   "id": "673240af",
   "metadata": {},
   "outputs": [
    {
     "name": "stdout",
     "output_type": "stream",
     "text": [
      "Mean Absolute Error:  2.9175997999999996\n"
     ]
    },
    {
     "name": "stderr",
     "output_type": "stream",
     "text": [
      "<ipython-input-67-e958fc5d458c>:8: FutureWarning: In a future version of pandas all arguments of DataFrame.drop except for the argument 'labels' will be keyword-only\n",
      "  future_prices = apple.drop([\"Prediction\"], 1)[:-future]\n"
     ]
    }
   ],
   "source": [
    "# Split the data 70/30\n",
    "apple_x_train, apple_x_test, apple_y_train, apple_y_test = train_test_split(apple_x, apple_y, test_size = .3)\n",
    "\n",
    "# Create the tree\n",
    "apple_tree = DecisionTreeRegressor().fit(apple_x_train, apple_y_train)\n",
    "\n",
    "# Get the future days to predict\n",
    "future_prices = apple.drop([\"Prediction\"], 1)[:-future]\n",
    "future_prices = future_prices.tail(future)\n",
    "future_prices = np.array(future_prices)\n",
    "\n",
    "# Get the prediction\n",
    "apple_tree_pred = apple_tree.predict(future_prices)\n",
    "\n",
    "# Get the MAE\n",
    "# Calculate the mean absolute error for netflix data\n",
    "print('Mean Absolute Error: ', metrics.mean_absolute_error(actual_apple_close, apple_tree_pred))\n",
    "\n"
   ]
  },
  {
   "cell_type": "code",
   "execution_count": 69,
   "id": "10f67ddc",
   "metadata": {},
   "outputs": [
    {
     "name": "stderr",
     "output_type": "stream",
     "text": [
      "<ipython-input-69-88f59a70555b>:13: FutureWarning: In a future version of pandas all arguments of DataFrame.drop except for the argument 'labels' will be keyword-only\n",
      "  netflix_x = np.array(netflix.drop([\"Prediction\"], 1))[:-future]\n"
     ]
    }
   ],
   "source": [
    "# Using decision trees, predict the close price for 50 days into the future\n",
    "future = 50\n",
    "\n",
    "netflix = netflix[['Open', 'High', 'Low', 'Close', 'Adj Close', 'Volume']]\n",
    "\n",
    "actual_netflix_close = np.array(netflix[['Close']].tail(50))\n",
    "\n",
    "# Create a prediction column\n",
    "netflix[\"Prediction\"] = netflix[[\"Close\"]].shift(-future)\n",
    "\n",
    "\n",
    "# Remove the last 50 rows from the netflix dataset\n",
    "netflix_x = np.array(netflix.drop([\"Prediction\"], 1))[:-future]\n",
    "\n",
    "\n",
    "# Create the target dataset\n",
    "netflix_y = np.array(netflix[\"Prediction\"])[:-future]\n"
   ]
  },
  {
   "cell_type": "code",
   "execution_count": 70,
   "id": "3cd6553f",
   "metadata": {},
   "outputs": [
    {
     "name": "stdout",
     "output_type": "stream",
     "text": [
      "Mean Absolute Error:  25.85620056\n"
     ]
    },
    {
     "name": "stderr",
     "output_type": "stream",
     "text": [
      "<ipython-input-70-f3ac7bb20e82>:8: FutureWarning: In a future version of pandas all arguments of DataFrame.drop except for the argument 'labels' will be keyword-only\n",
      "  future_prices = netflix.drop([\"Prediction\"], 1)[:-future]\n"
     ]
    }
   ],
   "source": [
    "# Split the data 70/30\n",
    "netflix_x_train, netflix_x_test, netflix_y_train, netflix_y_test = train_test_split(netflix_x, netflix_y, test_size = .3)\n",
    "\n",
    "# Create the tree\n",
    "netflix_tree = DecisionTreeRegressor().fit(netflix_x_train, netflix_y_train)\n",
    "\n",
    "# Get the future days to predict\n",
    "future_prices = netflix.drop([\"Prediction\"], 1)[:-future]\n",
    "future_prices = future_prices.tail(future)\n",
    "future_prices = np.array(future_prices)\n",
    "\n",
    "# Get the prediction\n",
    "netflix_tree_pred = netflix_tree.predict(future_prices)\n",
    "\n",
    "# Get the MAE\n",
    "# Calculate the mean absolute error for netflix data\n",
    "print('Mean Absolute Error: ', metrics.mean_absolute_error(actual_netflix_close, netflix_tree_pred))\n",
    "\n"
   ]
  },
  {
   "cell_type": "code",
   "execution_count": 71,
   "id": "81a04e65",
   "metadata": {},
   "outputs": [
    {
     "name": "stderr",
     "output_type": "stream",
     "text": [
      "<ipython-input-71-5e10530ff117>:13: FutureWarning: In a future version of pandas all arguments of DataFrame.drop except for the argument 'labels' will be keyword-only\n",
      "  tesla_x = np.array(tesla.drop([\"Prediction\"], 1))[:-future]\n"
     ]
    }
   ],
   "source": [
    "# Using decision trees, predict the close price for 50 days into the future\n",
    "future = 50\n",
    "\n",
    "tesla = tesla[['Open', 'High', 'Low', 'Close', 'Adj Close', 'Volume']]\n",
    "\n",
    "actual_tesla_close = np.array(tesla[['Close']].tail(50))\n",
    "\n",
    "# Create a prediction column\n",
    "tesla[\"Prediction\"] = tesla[[\"Close\"]].shift(-future)\n",
    "\n",
    "\n",
    "# Remove the last 50 rows from the netflix dataset\n",
    "tesla_x = np.array(tesla.drop([\"Prediction\"], 1))[:-future]\n",
    "\n",
    "\n",
    "# Create the target dataset\n",
    "tesla_y = np.array(tesla[\"Prediction\"])[:-future]"
   ]
  },
  {
   "cell_type": "code",
   "execution_count": 72,
   "id": "7fdb93f0",
   "metadata": {},
   "outputs": [
    {
     "name": "stdout",
     "output_type": "stream",
     "text": [
      "Mean Absolute Error:  21.789719639999998\n"
     ]
    },
    {
     "name": "stderr",
     "output_type": "stream",
     "text": [
      "<ipython-input-72-70d07d2d3976>:8: FutureWarning: In a future version of pandas all arguments of DataFrame.drop except for the argument 'labels' will be keyword-only\n",
      "  future_prices = tesla.drop([\"Prediction\"], 1)[:-future]\n"
     ]
    }
   ],
   "source": [
    "# Split the data 70/30\n",
    "tesla_x_train, tesla_x_test, tesla_y_train, tesla_y_test = train_test_split(tesla_x, tesla_y, test_size = .3)\n",
    "\n",
    "# Create the tree\n",
    "tesla_tree = DecisionTreeRegressor().fit(tesla_x_train, tesla_y_train)\n",
    "\n",
    "# Get the future days to predict\n",
    "future_prices = tesla.drop([\"Prediction\"], 1)[:-future]\n",
    "future_prices = future_prices.tail(future)\n",
    "future_prices = np.array(future_prices)\n",
    "\n",
    "# Get the prediction\n",
    "tesla_tree_pred = tesla_tree.predict(future_prices)\n",
    "\n",
    "# Get the MAE\n",
    "# Calculate the mean absolute error for netflix data\n",
    "print('Mean Absolute Error: ', metrics.mean_absolute_error(actual_tesla_close, tesla_tree_pred))"
   ]
  },
  {
   "cell_type": "markdown",
   "id": "086c0484",
   "metadata": {},
   "source": [
    "### Neural Networks to Predict Open Price of Stocks"
   ]
  },
  {
   "cell_type": "markdown",
   "id": "30c7ace6",
   "metadata": {},
   "source": [
    "#### Apple"
   ]
  },
  {
   "cell_type": "code",
   "execution_count": 35,
   "id": "e928fb41",
   "metadata": {},
   "outputs": [],
   "source": [
    "# Load apple data again\n",
    "path = os.getcwd() + '/Data/AAPL.csv'\n",
    "\n",
    "apple = pd.read_csv(path)\n",
    "\n",
    "apple = apple['Open'].values\n",
    "apple = apple.reshape(-1, 1)\n",
    "\n",
    "# Split data into training and testing sets\n",
    "apple_train = np.array(apple[:int(apple.shape[0]*0.8)])\n",
    "apple_test = np.array(apple[int(apple.shape[0]*0.8):])\n",
    "\n",
    "# Scale data between zero and one\n",
    "scaler = MinMaxScaler(feature_range=(0,1))\n",
    "apple_train = scaler.fit_transform(apple_train)\n",
    "apple_test = scaler.transform(apple_test)"
   ]
  },
  {
   "cell_type": "code",
   "execution_count": 38,
   "id": "a1a4aa8f",
   "metadata": {},
   "outputs": [],
   "source": [
    "# Function to create the datasets needed for the neural network\n",
    "def create_dataset(df):\n",
    "    x = []\n",
    "    y = []\n",
    "    for i in range(50, df.shape[0]):\n",
    "        x.append(df[i-50:i, 0])\n",
    "        y.append(df[i, 0])\n",
    "    x = np.array(x)\n",
    "    y = np.array(y)\n",
    "    return x,y"
   ]
  },
  {
   "cell_type": "code",
   "execution_count": 39,
   "id": "40b03324",
   "metadata": {},
   "outputs": [
    {
     "name": "stdout",
     "output_type": "stream",
     "text": [
      "Epoch 1/50\n",
      "62/62 [==============================] - 8s 62ms/step - loss: 0.0149\n",
      "Epoch 2/50\n",
      "62/62 [==============================] - 4s 63ms/step - loss: 0.0027\n",
      "Epoch 3/50\n",
      "62/62 [==============================] - 4s 62ms/step - loss: 0.0023\n",
      "Epoch 4/50\n",
      "62/62 [==============================] - 4s 62ms/step - loss: 0.0020\n",
      "Epoch 5/50\n",
      "62/62 [==============================] - 4s 63ms/step - loss: 0.0023\n",
      "Epoch 6/50\n",
      "62/62 [==============================] - 4s 62ms/step - loss: 0.0018\n",
      "Epoch 7/50\n",
      "62/62 [==============================] - 4s 63ms/step - loss: 0.0021\n",
      "Epoch 8/50\n",
      "62/62 [==============================] - 4s 63ms/step - loss: 0.0018\n",
      "Epoch 9/50\n",
      "62/62 [==============================] - 4s 63ms/step - loss: 0.0022\n",
      "Epoch 10/50\n",
      "62/62 [==============================] - 4s 62ms/step - loss: 0.0021\n",
      "Epoch 11/50\n",
      "62/62 [==============================] - 4s 63ms/step - loss: 0.0017\n",
      "Epoch 12/50\n",
      "62/62 [==============================] - 4s 63ms/step - loss: 0.0015\n",
      "Epoch 13/50\n",
      "62/62 [==============================] - 4s 63ms/step - loss: 0.0015\n",
      "Epoch 14/50\n",
      "62/62 [==============================] - 4s 63ms/step - loss: 0.0016\n",
      "Epoch 15/50\n",
      "62/62 [==============================] - 4s 63ms/step - loss: 0.0014\n",
      "Epoch 16/50\n",
      "62/62 [==============================] - 4s 63ms/step - loss: 0.0019\n",
      "Epoch 17/50\n",
      "62/62 [==============================] - 4s 63ms/step - loss: 0.0013\n",
      "Epoch 18/50\n",
      "62/62 [==============================] - 4s 62ms/step - loss: 0.0013\n",
      "Epoch 19/50\n",
      "62/62 [==============================] - 4s 63ms/step - loss: 0.0014\n",
      "Epoch 20/50\n",
      "62/62 [==============================] - 4s 63ms/step - loss: 0.0013\n",
      "Epoch 21/50\n",
      "62/62 [==============================] - 4s 63ms/step - loss: 0.0013\n",
      "Epoch 22/50\n",
      "62/62 [==============================] - 4s 63ms/step - loss: 0.0012\n",
      "Epoch 23/50\n",
      "62/62 [==============================] - 4s 62ms/step - loss: 0.0014\n",
      "Epoch 24/50\n",
      "62/62 [==============================] - 4s 62ms/step - loss: 0.0013\n",
      "Epoch 25/50\n",
      "62/62 [==============================] - 4s 62ms/step - loss: 0.0012\n",
      "Epoch 26/50\n",
      "62/62 [==============================] - 4s 62ms/step - loss: 0.0011\n",
      "Epoch 27/50\n",
      "62/62 [==============================] - 4s 62ms/step - loss: 0.0011\n",
      "Epoch 28/50\n",
      "62/62 [==============================] - 4s 63ms/step - loss: 0.0010\n",
      "Epoch 29/50\n",
      "62/62 [==============================] - 4s 63ms/step - loss: 0.0011\n",
      "Epoch 30/50\n",
      "62/62 [==============================] - 4s 63ms/step - loss: 9.7065e-04\n",
      "Epoch 31/50\n",
      "62/62 [==============================] - 4s 63ms/step - loss: 9.1812e-04\n",
      "Epoch 32/50\n",
      "62/62 [==============================] - 4s 63ms/step - loss: 9.4239e-04\n",
      "Epoch 33/50\n",
      "62/62 [==============================] - 4s 63ms/step - loss: 0.0011\n",
      "Epoch 34/50\n",
      "62/62 [==============================] - 4s 63ms/step - loss: 0.0012\n",
      "Epoch 35/50\n",
      "62/62 [==============================] - 4s 63ms/step - loss: 0.0011\n",
      "Epoch 36/50\n",
      "62/62 [==============================] - 4s 63ms/step - loss: 9.7538e-04\n",
      "Epoch 37/50\n",
      "62/62 [==============================] - 4s 63ms/step - loss: 8.5993e-04\n",
      "Epoch 38/50\n",
      "62/62 [==============================] - 4s 63ms/step - loss: 8.9726e-04\n",
      "Epoch 39/50\n",
      "62/62 [==============================] - 4s 63ms/step - loss: 8.4436e-04\n",
      "Epoch 40/50\n",
      "62/62 [==============================] - 4s 64ms/step - loss: 8.1974e-04\n",
      "Epoch 41/50\n",
      "62/62 [==============================] - 4s 64ms/step - loss: 0.0010\n",
      "Epoch 42/50\n",
      "62/62 [==============================] - 4s 63ms/step - loss: 0.0013\n",
      "Epoch 43/50\n",
      "62/62 [==============================] - 4s 63ms/step - loss: 8.4948e-04\n",
      "Epoch 44/50\n",
      "62/62 [==============================] - 4s 63ms/step - loss: 8.9906e-04\n",
      "Epoch 45/50\n",
      "62/62 [==============================] - 4s 63ms/step - loss: 7.8195e-04\n",
      "Epoch 46/50\n",
      "62/62 [==============================] - 4s 63ms/step - loss: 8.3727e-04\n",
      "Epoch 47/50\n",
      "62/62 [==============================] - 4s 62ms/step - loss: 8.0982e-04\n",
      "Epoch 48/50\n",
      "62/62 [==============================] - 4s 63ms/step - loss: 7.6818e-04\n",
      "Epoch 49/50\n",
      "62/62 [==============================] - 4s 63ms/step - loss: 8.4800e-04\n",
      "Epoch 50/50\n",
      "62/62 [==============================] - 4s 63ms/step - loss: 8.9015e-04\n"
     ]
    }
   ],
   "source": [
    "# Create training and testing data\n",
    "apple_x_train, apple_y_train = create_dataset(apple_train)\n",
    "apple_x_test, apple_y_test = create_dataset(apple_test)\n",
    "\n",
    "# Reshape data to make it a 3D array in order to use it in LSTM Layer\n",
    "apple_x_train = np.reshape(apple_x_train, (apple_x_train.shape[0], apple_x_train.shape[1], 1))\n",
    "apple_x_test = np.reshape(apple_x_test, (apple_x_test.shape[0], apple_x_test.shape[1], 1))\n",
    "\n",
    "# Build model\n",
    "apple_model = Sequential()\n",
    "apple_model.add(LSTM(units=96, return_sequences=True, input_shape=(apple_x_train.shape[1], 1)))\n",
    "apple_model.add(Dropout(0.2))\n",
    "apple_model.add(LSTM(units=96,return_sequences=True))\n",
    "apple_model.add(Dropout(0.2))\n",
    "apple_model.add(LSTM(units=96,return_sequences=True))\n",
    "apple_model.add(Dropout(0.2))\n",
    "apple_model.add(LSTM(units=96))\n",
    "apple_model.add(Dropout(0.2))\n",
    "apple_model.add(Dense(units=1))\n",
    "\n",
    "# Reshape for LSTM layer so it is 3 dimensions and not 2\n",
    "apple_x_train = np.reshape(apple_x_train, (apple_x_train.shape[0], apple_x_train.shape[1], 1))\n",
    "apple_x_test = np.reshape(apple_x_test, (apple_x_test.shape[0], apple_x_test.shape[1], 1))\n",
    "\n",
    "# Compile model\n",
    "apple_model.compile(loss='mean_squared_error', optimizer='adam')\n",
    "\n",
    "# Train and save model\n",
    "apple_model.fit(apple_x_train, apple_y_train, epochs=50, batch_size=32)\n",
    "apple_model.save('apple_stock_prediction.h5')"
   ]
  },
  {
   "cell_type": "code",
   "execution_count": 40,
   "id": "ed91a785",
   "metadata": {},
   "outputs": [
    {
     "data": {
      "text/plain": [
       "<matplotlib.legend.Legend at 0x7fb1db8aea90>"
      ]
     },
     "execution_count": 40,
     "metadata": {},
     "output_type": "execute_result"
    },
    {
     "data": {
      "image/png": "[encoded data removed]",
      "text/plain": [
       "<Figure size 1152x576 with 1 Axes>"
      ]
     },
     "metadata": {
      "needs_background": "light"
     },
     "output_type": "display_data"
    }
   ],
   "source": [
    "# Load model\n",
    "apple_model = load_model('apple_stock_prediction.h5')\n",
    "\n",
    "# Visualize data\n",
    "apple_predictions = apple_model.predict(apple_x_test)\n",
    "apple_predictions = scaler.inverse_transform(apple_predictions)\n",
    "apple_y_test_scaled = scaler.inverse_transform(apple_y_test.reshape(-1, 1))\n",
    "\n",
    "fig, ax = plt.subplots(figsize=(16,8))\n",
    "ax.set_facecolor('#000041')\n",
    "ax.plot(apple_y_test_scaled, color='red', label='Original price')\n",
    "plt.plot(apple_predictions, color='cyan', label='Predicted price')\n",
    "plt.legend()"
   ]
  },
  {
   "cell_type": "code",
   "execution_count": 47,
   "id": "4e79b690",
   "metadata": {},
   "outputs": [
    {
     "name": "stdout",
     "output_type": "stream",
     "text": [
      "Mean Absolute Error:  33.180386803702376\n"
     ]
    }
   ],
   "source": [
    "print('Mean Absolute Error: ', metrics.mean_absolute_error(apple_y_test_scaled, apple_predictions))"
   ]
  },
  {
   "cell_type": "markdown",
   "id": "ed91acdd",
   "metadata": {},
   "source": [
    "#### Netflix"
   ]
  },
  {
   "cell_type": "code",
   "execution_count": 41,
   "id": "80566a5e",
   "metadata": {},
   "outputs": [],
   "source": [
    "# Load netflix data again\n",
    "path = os.getcwd() + '/Data/NFLX.csv'\n",
    "\n",
    "netflix = pd.read_csv(path)\n",
    "\n",
    "netflix = netflix['Open'].values\n",
    "netflix = netflix.reshape(-1, 1)\n",
    "\n",
    "# Split data into training and testing sets\n",
    "netflix_train = np.array(netflix[:int(netflix.shape[0]*0.8)])\n",
    "netflix_test = np.array(netflix[int(netflix.shape[0]*0.8):])\n",
    "\n",
    "# Scale data between zero and one\n",
    "scaler = MinMaxScaler(feature_range=(0,1))\n",
    "netflix_train = scaler.fit_transform(netflix_train)\n",
    "netflix_test = scaler.transform(netflix_test)"
   ]
  },
  {
   "cell_type": "code",
   "execution_count": 42,
   "id": "d830e5d8",
   "metadata": {},
   "outputs": [
    {
     "name": "stdout",
     "output_type": "stream",
     "text": [
      "Epoch 1/50\n",
      "62/62 [==============================] - 8s 64ms/step - loss: 0.0053\n",
      "Epoch 2/50\n",
      "62/62 [==============================] - 4s 63ms/step - loss: 9.7849e-04\n",
      "Epoch 3/50\n",
      "62/62 [==============================] - 4s 63ms/step - loss: 9.7301e-04\n",
      "Epoch 4/50\n",
      "62/62 [==============================] - 4s 63ms/step - loss: 0.0013\n",
      "Epoch 5/50\n",
      "62/62 [==============================] - 4s 65ms/step - loss: 8.8869e-04\n",
      "Epoch 6/50\n",
      "62/62 [==============================] - 4s 63ms/step - loss: 0.0011\n",
      "Epoch 7/50\n",
      "62/62 [==============================] - 4s 64ms/step - loss: 0.0012\n",
      "Epoch 8/50\n",
      "62/62 [==============================] - 4s 64ms/step - loss: 8.8445e-04\n",
      "Epoch 9/50\n",
      "62/62 [==============================] - 4s 64ms/step - loss: 9.3725e-04\n",
      "Epoch 10/50\n",
      "62/62 [==============================] - 4s 64ms/step - loss: 8.6420e-04\n",
      "Epoch 11/50\n",
      "62/62 [==============================] - 4s 64ms/step - loss: 8.0976e-04\n",
      "Epoch 12/50\n",
      "62/62 [==============================] - 4s 64ms/step - loss: 7.3647e-04\n",
      "Epoch 13/50\n",
      "62/62 [==============================] - 4s 64ms/step - loss: 8.9315e-04\n",
      "Epoch 14/50\n",
      "62/62 [==============================] - 4s 63ms/step - loss: 7.4511e-04\n",
      "Epoch 15/50\n",
      "62/62 [==============================] - 4s 63ms/step - loss: 7.4397e-04\n",
      "Epoch 16/50\n",
      "62/62 [==============================] - 4s 64ms/step - loss: 7.3057e-04\n",
      "Epoch 17/50\n",
      "62/62 [==============================] - 4s 63ms/step - loss: 6.7449e-04\n",
      "Epoch 18/50\n",
      "62/62 [==============================] - 4s 64ms/step - loss: 6.2540e-04\n",
      "Epoch 19/50\n",
      "62/62 [==============================] - 4s 64ms/step - loss: 0.0011\n",
      "Epoch 20/50\n",
      "62/62 [==============================] - 4s 64ms/step - loss: 5.4958e-04\n",
      "Epoch 21/50\n",
      "62/62 [==============================] - 4s 63ms/step - loss: 6.0559e-04\n",
      "Epoch 22/50\n",
      "62/62 [==============================] - 4s 64ms/step - loss: 6.6919e-04\n",
      "Epoch 23/50\n",
      "62/62 [==============================] - 4s 63ms/step - loss: 5.3697e-04\n",
      "Epoch 24/50\n",
      "62/62 [==============================] - 4s 63ms/step - loss: 6.5596e-04\n",
      "Epoch 25/50\n",
      "62/62 [==============================] - 4s 63ms/step - loss: 6.7027e-04\n",
      "Epoch 26/50\n",
      "62/62 [==============================] - 4s 64ms/step - loss: 6.0580e-04\n",
      "Epoch 27/50\n",
      "62/62 [==============================] - 4s 64ms/step - loss: 4.6350e-04\n",
      "Epoch 28/50\n",
      "62/62 [==============================] - 4s 63ms/step - loss: 4.9059e-04\n",
      "Epoch 29/50\n",
      "62/62 [==============================] - 4s 63ms/step - loss: 5.4876e-04\n",
      "Epoch 30/50\n",
      "62/62 [==============================] - 4s 63ms/step - loss: 5.2192e-04\n",
      "Epoch 31/50\n",
      "62/62 [==============================] - 4s 63ms/step - loss: 6.3862e-04\n",
      "Epoch 32/50\n",
      "62/62 [==============================] - 4s 63ms/step - loss: 4.7299e-04\n",
      "Epoch 33/50\n",
      "62/62 [==============================] - 4s 63ms/step - loss: 4.7299e-04\n",
      "Epoch 34/50\n",
      "62/62 [==============================] - 4s 63ms/step - loss: 5.0175e-04\n",
      "Epoch 35/50\n",
      "62/62 [==============================] - 4s 63ms/step - loss: 4.5747e-04\n",
      "Epoch 36/50\n",
      "62/62 [==============================] - 4s 64ms/step - loss: 4.7928e-04\n",
      "Epoch 37/50\n",
      "62/62 [==============================] - 4s 63ms/step - loss: 5.8707e-04\n",
      "Epoch 38/50\n",
      "62/62 [==============================] - 4s 63ms/step - loss: 5.3967e-04\n",
      "Epoch 39/50\n",
      "62/62 [==============================] - 4s 63ms/step - loss: 5.5443e-04\n",
      "Epoch 40/50\n",
      "62/62 [==============================] - 4s 63ms/step - loss: 5.3232e-04\n",
      "Epoch 41/50\n",
      "62/62 [==============================] - 4s 63ms/step - loss: 4.7557e-04\n",
      "Epoch 42/50\n",
      "62/62 [==============================] - 4s 63ms/step - loss: 4.6609e-04\n",
      "Epoch 43/50\n",
      "62/62 [==============================] - 4s 63ms/step - loss: 4.2714e-04\n",
      "Epoch 44/50\n",
      "62/62 [==============================] - 4s 63ms/step - loss: 4.2406e-04\n",
      "Epoch 45/50\n",
      "62/62 [==============================] - 4s 63ms/step - loss: 4.7259e-04\n",
      "Epoch 46/50\n",
      "62/62 [==============================] - 4s 63ms/step - loss: 5.4411e-04\n",
      "Epoch 47/50\n",
      "62/62 [==============================] - 4s 63ms/step - loss: 4.3496e-04\n",
      "Epoch 48/50\n",
      "62/62 [==============================] - 4s 64ms/step - loss: 4.4008e-04\n",
      "Epoch 49/50\n",
      "62/62 [==============================] - 4s 63ms/step - loss: 3.6345e-04\n",
      "Epoch 50/50\n",
      "62/62 [==============================] - 4s 63ms/step - loss: 4.9080e-04\n"
     ]
    }
   ],
   "source": [
    "# Create training and testing data\n",
    "netflix_x_train, netflix_y_train = create_dataset(netflix_train)\n",
    "netflix_x_test, netflix_y_test = create_dataset(netflix_test)\n",
    "\n",
    "# Reshape data to make it a 3D array in order to use it in LSTM Layer\n",
    "netflix_x_train = np.reshape(netflix_x_train, (netflix_x_train.shape[0], netflix_x_train.shape[1], 1))\n",
    "netflix_x_test = np.reshape(netflix_x_test, (netflix_x_test.shape[0], netflix_x_test.shape[1], 1))\n",
    "\n",
    "# Build model\n",
    "netflix_model = Sequential()\n",
    "netflix_model.add(LSTM(units=96, return_sequences=True, input_shape=(netflix_x_train.shape[1], 1)))\n",
    "netflix_model.add(Dropout(0.2))\n",
    "netflix_model.add(LSTM(units=96,return_sequences=True))\n",
    "netflix_model.add(Dropout(0.2))\n",
    "netflix_model.add(LSTM(units=96,return_sequences=True))\n",
    "netflix_model.add(Dropout(0.2))\n",
    "netflix_model.add(LSTM(units=96))\n",
    "netflix_model.add(Dropout(0.2))\n",
    "netflix_model.add(Dense(units=1))\n",
    "\n",
    "# Reshape for LSTM layer so it is 3 dimensions and not 2\n",
    "netflix_x_train = np.reshape(netflix_x_train, (netflix_x_train.shape[0], netflix_x_train.shape[1], 1))\n",
    "netflix_x_test = np.reshape(netflix_x_test, (netflix_x_test.shape[0], netflix_x_test.shape[1], 1))\n",
    "\n",
    "# Compile model\n",
    "netflix_model.compile(loss='mean_squared_error', optimizer='adam')\n",
    "\n",
    "# Train and save model\n",
    "netflix_model.fit(netflix_x_train, netflix_y_train, epochs=50, batch_size=32)\n",
    "netflix_model.save('netflix_stock_prediction.h5')"
   ]
  },
  {
   "cell_type": "code",
   "execution_count": 43,
   "id": "811a9dd0",
   "metadata": {},
   "outputs": [
    {
     "data": {
      "text/plain": [
       "<matplotlib.legend.Legend at 0x7fb1e1067c70>"
      ]
     },
     "execution_count": 43,
     "metadata": {},
     "output_type": "execute_result"
    },
    {
     "data": {
      "image/png": "[encoded data removed]",
      "text/plain": [
       "<Figure size 1152x576 with 1 Axes>"
      ]
     },
     "metadata": {
      "needs_background": "light"
     },
     "output_type": "display_data"
    }
   ],
   "source": [
    "# Load model\n",
    "netflix_model = load_model('netflix_stock_prediction.h5')\n",
    "\n",
    "# Visualize data\n",
    "netflix_predictions = netflix_model.predict(netflix_x_test)\n",
    "netflix_predictions = scaler.inverse_transform(netflix_predictions)\n",
    "netflix_y_test_scaled = scaler.inverse_transform(netflix_y_test.reshape(-1, 1))\n",
    "\n",
    "fig, ax = plt.subplots(figsize=(16,8))\n",
    "ax.set_facecolor('#000041')\n",
    "ax.plot(netflix_y_test_scaled, color='red', label='Original price')\n",
    "plt.plot(netflix_predictions, color='cyan', label='Predicted price')\n",
    "plt.legend()"
   ]
  },
  {
   "cell_type": "code",
   "execution_count": 48,
   "id": "4011a4fe",
   "metadata": {},
   "outputs": [
    {
     "name": "stdout",
     "output_type": "stream",
     "text": [
      "Mean Absolute Error:  10.84644257911447\n"
     ]
    }
   ],
   "source": [
    "print('Mean Absolute Error: ', metrics.mean_absolute_error(netflix_y_test_scaled, netflix_predictions))"
   ]
  },
  {
   "cell_type": "markdown",
   "id": "6655078d",
   "metadata": {},
   "source": [
    "#### Tesla"
   ]
  },
  {
   "cell_type": "code",
   "execution_count": 44,
   "id": "958f96be",
   "metadata": {},
   "outputs": [],
   "source": [
    "# Load tesla data again\n",
    "path = os.getcwd() + '/Data/TSLA.csv'\n",
    "\n",
    "tesla = pd.read_csv(path)\n",
    "\n",
    "tesla = tesla['Open'].values\n",
    "tesla = tesla.reshape(-1, 1)\n",
    "\n",
    "# Split data into training and testing sets\n",
    "tesla_train = np.array(tesla[:int(tesla.shape[0]*0.8)])\n",
    "tesla_test = np.array(tesla[int(tesla.shape[0]*0.8):])\n",
    "\n",
    "# Scale data between zero and one\n",
    "scaler = MinMaxScaler(feature_range=(0,1))\n",
    "tesla_train = scaler.fit_transform(tesla_train)\n",
    "tesla_test = scaler.transform(tesla_test)"
   ]
  },
  {
   "cell_type": "code",
   "execution_count": 45,
   "id": "b76be9e4",
   "metadata": {},
   "outputs": [
    {
     "name": "stdout",
     "output_type": "stream",
     "text": [
      "Epoch 1/50\n",
      "62/62 [==============================] - 8s 64ms/step - loss: 0.0167\n",
      "Epoch 2/50\n",
      "62/62 [==============================] - 4s 63ms/step - loss: 0.0040\n",
      "Epoch 3/50\n",
      "62/62 [==============================] - 4s 63ms/step - loss: 0.0038\n",
      "Epoch 4/50\n",
      "62/62 [==============================] - 4s 63ms/step - loss: 0.0035\n",
      "Epoch 5/50\n",
      "62/62 [==============================] - 4s 63ms/step - loss: 0.0035\n",
      "Epoch 6/50\n",
      "62/62 [==============================] - 4s 64ms/step - loss: 0.0034\n",
      "Epoch 7/50\n",
      "62/62 [==============================] - 4s 64ms/step - loss: 0.0027\n",
      "Epoch 8/50\n",
      "62/62 [==============================] - 4s 64ms/step - loss: 0.0029\n",
      "Epoch 9/50\n",
      "62/62 [==============================] - 4s 64ms/step - loss: 0.0026\n",
      "Epoch 10/50\n",
      "62/62 [==============================] - 4s 63ms/step - loss: 0.0031\n",
      "Epoch 11/50\n",
      "62/62 [==============================] - 4s 63ms/step - loss: 0.0024\n",
      "Epoch 12/50\n",
      "62/62 [==============================] - 4s 63ms/step - loss: 0.0024\n",
      "Epoch 13/50\n",
      "62/62 [==============================] - 4s 64ms/step - loss: 0.0023\n",
      "Epoch 14/50\n",
      "62/62 [==============================] - 4s 64ms/step - loss: 0.0022\n",
      "Epoch 15/50\n",
      "62/62 [==============================] - 4s 63ms/step - loss: 0.0021\n",
      "Epoch 16/50\n",
      "62/62 [==============================] - 4s 63ms/step - loss: 0.0020\n",
      "Epoch 17/50\n",
      "62/62 [==============================] - 4s 63ms/step - loss: 0.0020\n",
      "Epoch 18/50\n",
      "62/62 [==============================] - 4s 63ms/step - loss: 0.0017\n",
      "Epoch 19/50\n",
      "62/62 [==============================] - 4s 63ms/step - loss: 0.0017\n",
      "Epoch 20/50\n",
      "62/62 [==============================] - 4s 63ms/step - loss: 0.0017\n",
      "Epoch 21/50\n",
      "62/62 [==============================] - 4s 63ms/step - loss: 0.0018\n",
      "Epoch 22/50\n",
      "62/62 [==============================] - 4s 64ms/step - loss: 0.0021\n",
      "Epoch 23/50\n",
      "62/62 [==============================] - 4s 64ms/step - loss: 0.0017\n",
      "Epoch 24/50\n",
      "62/62 [==============================] - 4s 63ms/step - loss: 0.0016\n",
      "Epoch 25/50\n",
      "62/62 [==============================] - 4s 64ms/step - loss: 0.0016\n",
      "Epoch 26/50\n",
      "62/62 [==============================] - 4s 62ms/step - loss: 0.0017\n",
      "Epoch 27/50\n",
      "62/62 [==============================] - 4s 63ms/step - loss: 0.0016\n",
      "Epoch 28/50\n",
      "62/62 [==============================] - 4s 64ms/step - loss: 0.0014\n",
      "Epoch 29/50\n",
      "62/62 [==============================] - 4s 64ms/step - loss: 0.0015\n",
      "Epoch 30/50\n",
      "62/62 [==============================] - 4s 64ms/step - loss: 0.0015\n",
      "Epoch 31/50\n",
      "62/62 [==============================] - 4s 64ms/step - loss: 0.0013\n",
      "Epoch 32/50\n",
      "62/62 [==============================] - 4s 64ms/step - loss: 0.0016\n",
      "Epoch 33/50\n",
      "62/62 [==============================] - 4s 65ms/step - loss: 0.0014\n",
      "Epoch 34/50\n",
      "62/62 [==============================] - 4s 65ms/step - loss: 0.0013\n",
      "Epoch 35/50\n",
      "62/62 [==============================] - 4s 65ms/step - loss: 0.0014\n",
      "Epoch 36/50\n",
      "62/62 [==============================] - 4s 64ms/step - loss: 0.0014\n",
      "Epoch 37/50\n",
      "62/62 [==============================] - 4s 65ms/step - loss: 0.0014\n",
      "Epoch 38/50\n",
      "62/62 [==============================] - 4s 64ms/step - loss: 0.0016\n",
      "Epoch 39/50\n",
      "62/62 [==============================] - 4s 63ms/step - loss: 0.0012\n",
      "Epoch 40/50\n",
      "62/62 [==============================] - 4s 63ms/step - loss: 0.0016\n",
      "Epoch 41/50\n",
      "62/62 [==============================] - 4s 62ms/step - loss: 0.0014\n",
      "Epoch 42/50\n",
      "62/62 [==============================] - 4s 63ms/step - loss: 0.0015\n",
      "Epoch 43/50\n",
      "62/62 [==============================] - 4s 63ms/step - loss: 0.0013\n",
      "Epoch 44/50\n",
      "62/62 [==============================] - 4s 63ms/step - loss: 0.0012\n",
      "Epoch 45/50\n",
      "62/62 [==============================] - 4s 63ms/step - loss: 0.0014\n",
      "Epoch 46/50\n",
      "62/62 [==============================] - 4s 63ms/step - loss: 0.0012\n",
      "Epoch 47/50\n",
      "62/62 [==============================] - 4s 63ms/step - loss: 0.0012\n",
      "Epoch 48/50\n",
      "62/62 [==============================] - 4s 63ms/step - loss: 0.0013\n",
      "Epoch 49/50\n",
      "62/62 [==============================] - 4s 64ms/step - loss: 0.0012\n",
      "Epoch 50/50\n",
      "62/62 [==============================] - 4s 64ms/step - loss: 0.0012\n"
     ]
    }
   ],
   "source": [
    "# Create training and testing data\n",
    "tesla_x_train, tesla_y_train = create_dataset(tesla_train)\n",
    "tesla_x_test, tesla_y_test = create_dataset(tesla_test)\n",
    "\n",
    "# Reshape data to make it a 3D array in order to use it in LSTM Layer\n",
    "tesla_x_train = np.reshape(tesla_x_train, (tesla_x_train.shape[0], tesla_x_train.shape[1], 1))\n",
    "tesla_x_test = np.reshape(tesla_x_test, (tesla_x_test.shape[0], tesla_x_test.shape[1], 1))\n",
    "\n",
    "# Build model\n",
    "tesla_model = Sequential()\n",
    "tesla_model.add(LSTM(units=96, return_sequences=True, input_shape=(netflix_x_train.shape[1], 1)))\n",
    "tesla_model.add(Dropout(0.2))\n",
    "tesla_model.add(LSTM(units=96,return_sequences=True))\n",
    "tesla_model.add(Dropout(0.2))\n",
    "tesla_model.add(LSTM(units=96,return_sequences=True))\n",
    "tesla_model.add(Dropout(0.2))\n",
    "tesla_model.add(LSTM(units=96))\n",
    "tesla_model.add(Dropout(0.2))\n",
    "tesla_model.add(Dense(units=1))\n",
    "\n",
    "# Reshape for LSTM layer so it is 3 dimensions and not 2\n",
    "tesla_x_train = np.reshape(tesla_x_train, (tesla_x_train.shape[0], tesla_x_train.shape[1], 1))\n",
    "tesla_x_test = np.reshape(tesla_x_test, (tesla_x_test.shape[0], tesla_x_test.shape[1], 1))\n",
    "\n",
    "# Compile model\n",
    "tesla_model.compile(loss='mean_squared_error', optimizer='adam')\n",
    "\n",
    "# Train and save model\n",
    "tesla_model.fit(tesla_x_train, tesla_y_train, epochs=50, batch_size=32)\n",
    "tesla_model.save('tesla_stock_prediction.h5')"
   ]
  },
  {
   "cell_type": "code",
   "execution_count": 46,
   "id": "4d112652",
   "metadata": {},
   "outputs": [
    {
     "data": {
      "text/plain": [
       "<matplotlib.legend.Legend at 0x7fb1da3418e0>"
      ]
     },
     "execution_count": 46,
     "metadata": {},
     "output_type": "execute_result"
    },
    {
     "data": {
      "image/png": "[encoded data removed]",
      "text/plain": [
       "<Figure size 1152x576 with 1 Axes>"
      ]
     },
     "metadata": {
      "needs_background": "light"
     },
     "output_type": "display_data"
    }
   ],
   "source": [
    "# Load model\n",
    "tesla_model = load_model('tesla_stock_prediction.h5')\n",
    "\n",
    "# Visualize data\n",
    "tesla_predictions = tesla_model.predict(tesla_x_test)\n",
    "tesla_predictions = scaler.inverse_transform(tesla_predictions)\n",
    "tesla_y_test_scaled = scaler.inverse_transform(tesla_y_test.reshape(-1, 1))\n",
    "\n",
    "fig, ax = plt.subplots(figsize=(16,8))\n",
    "ax.set_facecolor('#000041')\n",
    "ax.plot(tesla_y_test_scaled, color='red', label='Original price')\n",
    "plt.plot(tesla_predictions, color='cyan', label='Predicted price')\n",
    "plt.legend()"
   ]
  },
  {
   "cell_type": "code",
   "execution_count": 49,
   "id": "d49d72a1",
   "metadata": {},
   "outputs": [
    {
     "name": "stdout",
     "output_type": "stream",
     "text": [
      "Mean Absolute Error:  8.424095078900443\n"
     ]
    }
   ],
   "source": [
    "print('Mean Absolute Error: ', metrics.mean_absolute_error(tesla_y_test_scaled, tesla_predictions))"
   ]
  },
  {
   "cell_type": "code",
   "execution_count": null,
   "id": "2dedec2f",
   "metadata": {},
   "outputs": [],
   "source": []
  }
 ],
 "metadata": {
  "kernelspec": {
   "display_name": "Python 3",
   "language": "python",
   "name": "python3"
  },
  "language_info": {
   "codemirror_mode": {
    "name": "ipython",
    "version": 3
   },
   "file_extension": ".py",
   "mimetype": "text/x-python",
   "name": "python",
   "nbconvert_exporter": "python",
   "pygments_lexer": "ipython3",
   "version": "3.8.8"
  }
 },
 "nbformat": 4,
 "nbformat_minor": 5
}
