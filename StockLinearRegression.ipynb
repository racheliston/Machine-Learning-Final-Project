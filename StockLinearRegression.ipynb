{
 "cells": [
  {
   "cell_type": "code",
   "execution_count": 44,
   "id": "fd96949e",
   "metadata": {},
   "outputs": [],
   "source": [
    "# Importing Modules\n",
    "\n",
    "import os\n",
    "import numpy as np\n",
    "import pandas as pd\n",
    "import math\n",
    "import matplotlib.pyplot as plt\n",
    "\n",
    "from sklearn.model_selection import train_test_split\n",
    "from sklearn.linear_model import LinearRegression\n",
    "from sklearn import metrics"
   ]
  },
  {
   "cell_type": "code",
   "execution_count": 45,
   "id": "c22159cb",
   "metadata": {},
   "outputs": [
    {
     "data": {
      "text/html": [
       "<div>\n",
       "<style scoped>\n",
       "    .dataframe tbody tr th:only-of-type {\n",
       "        vertical-align: middle;\n",
       "    }\n",
       "\n",
       "    .dataframe tbody tr th {\n",
       "        vertical-align: top;\n",
       "    }\n",
       "\n",
       "    .dataframe thead th {\n",
       "        text-align: right;\n",
       "    }\n",
       "</style>\n",
       "<table border=\"1\" class=\"dataframe\">\n",
       "  <thead>\n",
       "    <tr style=\"text-align: right;\">\n",
       "      <th></th>\n",
       "      <th>Date</th>\n",
       "      <th>Open</th>\n",
       "      <th>High</th>\n",
       "      <th>Low</th>\n",
       "      <th>Close</th>\n",
       "      <th>Adj Close</th>\n",
       "      <th>Volume</th>\n",
       "    </tr>\n",
       "  </thead>\n",
       "  <tbody>\n",
       "    <tr>\n",
       "      <th>1</th>\n",
       "      <td>2010-07-20</td>\n",
       "      <td>4.370000</td>\n",
       "      <td>4.370000</td>\n",
       "      <td>4.010000</td>\n",
       "      <td>4.060000</td>\n",
       "      <td>4.060000</td>\n",
       "      <td>9126500</td>\n",
       "    </tr>\n",
       "    <tr>\n",
       "      <th>2</th>\n",
       "      <td>2010-07-21</td>\n",
       "      <td>4.132000</td>\n",
       "      <td>4.180000</td>\n",
       "      <td>3.900000</td>\n",
       "      <td>4.044000</td>\n",
       "      <td>4.044000</td>\n",
       "      <td>6262500</td>\n",
       "    </tr>\n",
       "    <tr>\n",
       "      <th>3</th>\n",
       "      <td>2010-07-22</td>\n",
       "      <td>4.100000</td>\n",
       "      <td>4.250000</td>\n",
       "      <td>4.074000</td>\n",
       "      <td>4.200000</td>\n",
       "      <td>4.200000</td>\n",
       "      <td>4789000</td>\n",
       "    </tr>\n",
       "    <tr>\n",
       "      <th>4</th>\n",
       "      <td>2010-07-23</td>\n",
       "      <td>4.238000</td>\n",
       "      <td>4.312000</td>\n",
       "      <td>4.212000</td>\n",
       "      <td>4.258000</td>\n",
       "      <td>4.258000</td>\n",
       "      <td>3268000</td>\n",
       "    </tr>\n",
       "    <tr>\n",
       "      <th>5</th>\n",
       "      <td>2010-07-26</td>\n",
       "      <td>4.300000</td>\n",
       "      <td>4.300000</td>\n",
       "      <td>4.060000</td>\n",
       "      <td>4.190000</td>\n",
       "      <td>4.190000</td>\n",
       "      <td>4611000</td>\n",
       "    </tr>\n",
       "  </tbody>\n",
       "</table>\n",
       "</div>"
      ],
      "text/plain": [
       "         Date      Open      High       Low     Close Adj Close   Volume\n",
       "1  2010-07-20  4.370000  4.370000  4.010000  4.060000  4.060000  9126500\n",
       "2  2010-07-21  4.132000  4.180000  3.900000  4.044000  4.044000  6262500\n",
       "3  2010-07-22  4.100000  4.250000  4.074000  4.200000  4.200000  4789000\n",
       "4  2010-07-23  4.238000  4.312000  4.212000  4.258000  4.258000  3268000\n",
       "5  2010-07-26  4.300000  4.300000  4.060000  4.190000  4.190000  4611000"
      ]
     },
     "execution_count": 45,
     "metadata": {},
     "output_type": "execute_result"
    }
   ],
   "source": [
    "# Read in the apple data\n",
    "path = os.getcwd() + '/Data/AAPL.csv'\n",
    "\n",
    "apple = pd.read_csv(path, header = None, names = ['Date', 'Open', 'High', 'Low', 'Close', 'Adj Close', 'Volume'])\n",
    "\n",
    "apple = apple.iloc[1: , :]\n",
    "\n",
    "\n",
    "# Read in the netflix data\n",
    "path = os.getcwd() + '/Data/NFLX.csv'\n",
    "\n",
    "netflix = pd.read_csv(path, header = None, names = ['Date', 'Open', 'High', 'Low', 'Close', 'Adj Close', 'Volume'])\n",
    "\n",
    "netflix = netflix.iloc[1: , :]\n",
    "\n",
    "# Read in the tesla data\n",
    "path = os.getcwd() + '/Data/TSLA.csv'\n",
    "\n",
    "tesla = pd.read_csv(path, header = None, names = ['Date', 'Open', 'High', 'Low', 'Close', 'Adj Close', 'Volume'])\n",
    "\n",
    "tesla = tesla.iloc[1: , :]\n",
    "\n",
    "tesla.head()\n"
   ]
  },
  {
   "cell_type": "code",
   "execution_count": 46,
   "id": "07b1b6c9",
   "metadata": {},
   "outputs": [],
   "source": [
    "# Split the data up into open, high, low and close\n",
    "x = apple[['Open', 'High', 'Low']].values\n",
    "y = apple[['Close']].values"
   ]
  },
  {
   "cell_type": "code",
   "execution_count": 47,
   "id": "1785913e",
   "metadata": {},
   "outputs": [],
   "source": [
    "# Train the apple data\n",
    "apple_x_train, apple_x_test, apple_y_train, apple_y_test = train_test_split(x, y, test_size = 0.3, random_state = 1)"
   ]
  },
  {
   "cell_type": "code",
   "execution_count": 48,
   "id": "efbee030",
   "metadata": {},
   "outputs": [],
   "source": [
    "# Create a model\n",
    "apple_model = LinearRegression(fit_intercept=False)"
   ]
  },
  {
   "cell_type": "code",
   "execution_count": 49,
   "id": "0c9fccd3",
   "metadata": {},
   "outputs": [
    {
     "data": {
      "text/plain": [
       "LinearRegression(fit_intercept=False)"
      ]
     },
     "execution_count": 49,
     "metadata": {},
     "output_type": "execute_result"
    }
   ],
   "source": [
    "# Fit the model\n",
    "apple_model.fit(apple_x_train, apple_y_train)"
   ]
  },
  {
   "cell_type": "code",
   "execution_count": 50,
   "id": "60f52877",
   "metadata": {},
   "outputs": [],
   "source": [
    "# Get the predicted values\n",
    "predicted_apple_close = apple_model.predict(apple_x_test)"
   ]
  },
  {
   "cell_type": "code",
   "execution_count": 51,
   "id": "0291fda5",
   "metadata": {},
   "outputs": [
    {
     "data": {
      "text/html": [
       "<div>\n",
       "<style scoped>\n",
       "    .dataframe tbody tr th:only-of-type {\n",
       "        vertical-align: middle;\n",
       "    }\n",
       "\n",
       "    .dataframe tbody tr th {\n",
       "        vertical-align: top;\n",
       "    }\n",
       "\n",
       "    .dataframe thead th {\n",
       "        text-align: right;\n",
       "    }\n",
       "</style>\n",
       "<table border=\"1\" class=\"dataframe\">\n",
       "  <thead>\n",
       "    <tr style=\"text-align: right;\">\n",
       "      <th></th>\n",
       "      <th>Actual</th>\n",
       "      <th>Predicted</th>\n",
       "    </tr>\n",
       "  </thead>\n",
       "  <tbody>\n",
       "    <tr>\n",
       "      <th>0</th>\n",
       "      <td>26.684999</td>\n",
       "      <td>26.610878</td>\n",
       "    </tr>\n",
       "    <tr>\n",
       "      <th>1</th>\n",
       "      <td>40.580002</td>\n",
       "      <td>40.414822</td>\n",
       "    </tr>\n",
       "    <tr>\n",
       "      <th>2</th>\n",
       "      <td>11.872857</td>\n",
       "      <td>11.860119</td>\n",
       "    </tr>\n",
       "    <tr>\n",
       "      <th>3</th>\n",
       "      <td>46.577499</td>\n",
       "      <td>46.714093</td>\n",
       "    </tr>\n",
       "    <tr>\n",
       "      <th>4</th>\n",
       "      <td>58.967499</td>\n",
       "      <td>59.333543</td>\n",
       "    </tr>\n",
       "    <tr>\n",
       "      <th>5</th>\n",
       "      <td>25.780001</td>\n",
       "      <td>26.015766</td>\n",
       "    </tr>\n",
       "    <tr>\n",
       "      <th>6</th>\n",
       "      <td>25.280001</td>\n",
       "      <td>25.179458</td>\n",
       "    </tr>\n",
       "    <tr>\n",
       "      <th>7</th>\n",
       "      <td>30.469999</td>\n",
       "      <td>30.417673</td>\n",
       "    </tr>\n",
       "    <tr>\n",
       "      <th>8</th>\n",
       "      <td>40.727501</td>\n",
       "      <td>40.618267</td>\n",
       "    </tr>\n",
       "    <tr>\n",
       "      <th>9</th>\n",
       "      <td>12.505357</td>\n",
       "      <td>12.440447</td>\n",
       "    </tr>\n",
       "    <tr>\n",
       "      <th>10</th>\n",
       "      <td>11.507500</td>\n",
       "      <td>11.439894</td>\n",
       "    </tr>\n",
       "    <tr>\n",
       "      <th>11</th>\n",
       "      <td>22.727501</td>\n",
       "      <td>22.920133</td>\n",
       "    </tr>\n",
       "    <tr>\n",
       "      <th>12</th>\n",
       "      <td>22.791786</td>\n",
       "      <td>22.824082</td>\n",
       "    </tr>\n",
       "    <tr>\n",
       "      <th>13</th>\n",
       "      <td>43.285000</td>\n",
       "      <td>43.286581</td>\n",
       "    </tr>\n",
       "    <tr>\n",
       "      <th>14</th>\n",
       "      <td>34.750000</td>\n",
       "      <td>34.881442</td>\n",
       "    </tr>\n",
       "    <tr>\n",
       "      <th>15</th>\n",
       "      <td>24.392143</td>\n",
       "      <td>24.354742</td>\n",
       "    </tr>\n",
       "    <tr>\n",
       "      <th>16</th>\n",
       "      <td>65.660004</td>\n",
       "      <td>65.842469</td>\n",
       "    </tr>\n",
       "    <tr>\n",
       "      <th>17</th>\n",
       "      <td>39.247501</td>\n",
       "      <td>39.227889</td>\n",
       "    </tr>\n",
       "    <tr>\n",
       "      <th>18</th>\n",
       "      <td>18.442499</td>\n",
       "      <td>18.320463</td>\n",
       "    </tr>\n",
       "    <tr>\n",
       "      <th>19</th>\n",
       "      <td>25.532499</td>\n",
       "      <td>25.507236</td>\n",
       "    </tr>\n",
       "    <tr>\n",
       "      <th>20</th>\n",
       "      <td>32.147499</td>\n",
       "      <td>32.360644</td>\n",
       "    </tr>\n",
       "    <tr>\n",
       "      <th>21</th>\n",
       "      <td>19.714287</td>\n",
       "      <td>19.637579</td>\n",
       "    </tr>\n",
       "    <tr>\n",
       "      <th>22</th>\n",
       "      <td>82.875000</td>\n",
       "      <td>82.522539</td>\n",
       "    </tr>\n",
       "    <tr>\n",
       "      <th>23</th>\n",
       "      <td>26.500000</td>\n",
       "      <td>26.531837</td>\n",
       "    </tr>\n",
       "    <tr>\n",
       "      <th>24</th>\n",
       "      <td>23.045000</td>\n",
       "      <td>22.891627</td>\n",
       "    </tr>\n",
       "  </tbody>\n",
       "</table>\n",
       "</div>"
      ],
      "text/plain": [
       "       Actual  Predicted\n",
       "0   26.684999  26.610878\n",
       "1   40.580002  40.414822\n",
       "2   11.872857  11.860119\n",
       "3   46.577499  46.714093\n",
       "4   58.967499  59.333543\n",
       "5   25.780001  26.015766\n",
       "6   25.280001  25.179458\n",
       "7   30.469999  30.417673\n",
       "8   40.727501  40.618267\n",
       "9   12.505357  12.440447\n",
       "10  11.507500  11.439894\n",
       "11  22.727501  22.920133\n",
       "12  22.791786  22.824082\n",
       "13  43.285000  43.286581\n",
       "14  34.750000  34.881442\n",
       "15  24.392143  24.354742\n",
       "16  65.660004  65.842469\n",
       "17  39.247501  39.227889\n",
       "18  18.442499  18.320463\n",
       "19  25.532499  25.507236\n",
       "20  32.147499  32.360644\n",
       "21  19.714287  19.637579\n",
       "22  82.875000  82.522539\n",
       "23  26.500000  26.531837\n",
       "24  23.045000  22.891627"
      ]
     },
     "execution_count": 51,
     "metadata": {},
     "output_type": "execute_result"
    }
   ],
   "source": [
    "# Create a data frame to store the predicted values and actual values of test data\n",
    "apple_actual_predicted = pd.DataFrame({'Actual': apple_y_test.flatten(), 'Predicted': predicted_apple_close.flatten()})\n",
    "apple_actual_predicted.head(25)"
   ]
  },
  {
   "cell_type": "code",
   "execution_count": 52,
   "id": "c9e63d07",
   "metadata": {},
   "outputs": [
    {
     "name": "stdout",
     "output_type": "stream",
     "text": [
      "Mean Absolute Error:  0.13594400392225686\n"
     ]
    }
   ],
   "source": [
    "# Calculate the mean absolute error\n",
    "print('Mean Absolute Error: ', metrics.mean_absolute_error(apple_y_test, predicted_apple_close))\n",
    "      "
   ]
  },
  {
   "cell_type": "code",
   "execution_count": 62,
   "id": "75088119",
   "metadata": {},
   "outputs": [
    {
     "ename": "TypeError",
     "evalue": "scatter() missing 1 required positional argument: 'y'",
     "output_type": "error",
     "traceback": [
      "\u001b[0;31m---------------------------------------------------------------------------\u001b[0m",
      "\u001b[0;31mTypeError\u001b[0m                                 Traceback (most recent call last)",
      "\u001b[0;32m/var/folders/nh/y3btn2wd0md5_z2c86fmt9980000gn/T/ipykernel_5664/3165179489.py\u001b[0m in \u001b[0;36m<module>\u001b[0;34m\u001b[0m\n\u001b[1;32m      3\u001b[0m \u001b[0max1\u001b[0m \u001b[0;34m=\u001b[0m \u001b[0mfig\u001b[0m\u001b[0;34m.\u001b[0m\u001b[0madd_subplot\u001b[0m\u001b[0;34m(\u001b[0m\u001b[0;36m111\u001b[0m\u001b[0;34m)\u001b[0m\u001b[0;34m\u001b[0m\u001b[0;34m\u001b[0m\u001b[0m\n\u001b[1;32m      4\u001b[0m \u001b[0;34m\u001b[0m\u001b[0m\n\u001b[0;32m----> 5\u001b[0;31m \u001b[0max1\u001b[0m\u001b[0;34m.\u001b[0m\u001b[0mscatter\u001b[0m\u001b[0;34m(\u001b[0m\u001b[0mapple_actual_predicted\u001b[0m\u001b[0;34m.\u001b[0m\u001b[0miloc\u001b[0m\u001b[0;34m[\u001b[0m\u001b[0;34m:\u001b[0m\u001b[0;34m,\u001b[0m \u001b[0;36m0\u001b[0m\u001b[0;34m]\u001b[0m\u001b[0;34m,\u001b[0m \u001b[0mmarker\u001b[0m \u001b[0;34m=\u001b[0m \u001b[0;34m\"+\"\u001b[0m\u001b[0;34m,\u001b[0m \u001b[0mc\u001b[0m \u001b[0;34m=\u001b[0m \u001b[0;34m\"blue\"\u001b[0m\u001b[0;34m)\u001b[0m\u001b[0;34m\u001b[0m\u001b[0;34m\u001b[0m\u001b[0m\n\u001b[0m\u001b[1;32m      6\u001b[0m \u001b[0max1\u001b[0m\u001b[0;34m.\u001b[0m\u001b[0mscatter\u001b[0m\u001b[0;34m(\u001b[0m\u001b[0mversicolorX\u001b[0m\u001b[0;34m,\u001b[0m \u001b[0mversicolorY\u001b[0m\u001b[0;34m,\u001b[0m \u001b[0mmarker\u001b[0m \u001b[0;34m=\u001b[0m \u001b[0;34m\"o\"\u001b[0m\u001b[0;34m,\u001b[0m \u001b[0mc\u001b[0m \u001b[0;34m=\u001b[0m \u001b[0;34m\"orange\"\u001b[0m\u001b[0;34m)\u001b[0m\u001b[0;34m\u001b[0m\u001b[0;34m\u001b[0m\u001b[0m\n\u001b[1;32m      7\u001b[0m \u001b[0mplt\u001b[0m\u001b[0;34m.\u001b[0m\u001b[0mshow\u001b[0m\u001b[0;34m(\u001b[0m\u001b[0;34m)\u001b[0m\u001b[0;34m\u001b[0m\u001b[0;34m\u001b[0m\u001b[0m\n",
      "\u001b[0;32m/Library/Frameworks/Python.framework/Versions/3.7/lib/python3.7/site-packages/matplotlib/__init__.py\u001b[0m in \u001b[0;36minner\u001b[0;34m(ax, data, *args, **kwargs)\u001b[0m\n\u001b[1;32m   1359\u001b[0m     \u001b[0;32mdef\u001b[0m \u001b[0minner\u001b[0m\u001b[0;34m(\u001b[0m\u001b[0max\u001b[0m\u001b[0;34m,\u001b[0m \u001b[0;34m*\u001b[0m\u001b[0margs\u001b[0m\u001b[0;34m,\u001b[0m \u001b[0mdata\u001b[0m\u001b[0;34m=\u001b[0m\u001b[0;32mNone\u001b[0m\u001b[0;34m,\u001b[0m \u001b[0;34m**\u001b[0m\u001b[0mkwargs\u001b[0m\u001b[0;34m)\u001b[0m\u001b[0;34m:\u001b[0m\u001b[0;34m\u001b[0m\u001b[0;34m\u001b[0m\u001b[0m\n\u001b[1;32m   1360\u001b[0m         \u001b[0;32mif\u001b[0m \u001b[0mdata\u001b[0m \u001b[0;32mis\u001b[0m \u001b[0;32mNone\u001b[0m\u001b[0;34m:\u001b[0m\u001b[0;34m\u001b[0m\u001b[0;34m\u001b[0m\u001b[0m\n\u001b[0;32m-> 1361\u001b[0;31m             \u001b[0;32mreturn\u001b[0m \u001b[0mfunc\u001b[0m\u001b[0;34m(\u001b[0m\u001b[0max\u001b[0m\u001b[0;34m,\u001b[0m \u001b[0;34m*\u001b[0m\u001b[0mmap\u001b[0m\u001b[0;34m(\u001b[0m\u001b[0msanitize_sequence\u001b[0m\u001b[0;34m,\u001b[0m \u001b[0margs\u001b[0m\u001b[0;34m)\u001b[0m\u001b[0;34m,\u001b[0m \u001b[0;34m**\u001b[0m\u001b[0mkwargs\u001b[0m\u001b[0;34m)\u001b[0m\u001b[0;34m\u001b[0m\u001b[0;34m\u001b[0m\u001b[0m\n\u001b[0m\u001b[1;32m   1362\u001b[0m \u001b[0;34m\u001b[0m\u001b[0m\n\u001b[1;32m   1363\u001b[0m         \u001b[0mbound\u001b[0m \u001b[0;34m=\u001b[0m \u001b[0mnew_sig\u001b[0m\u001b[0;34m.\u001b[0m\u001b[0mbind\u001b[0m\u001b[0;34m(\u001b[0m\u001b[0max\u001b[0m\u001b[0;34m,\u001b[0m \u001b[0;34m*\u001b[0m\u001b[0margs\u001b[0m\u001b[0;34m,\u001b[0m \u001b[0;34m**\u001b[0m\u001b[0mkwargs\u001b[0m\u001b[0;34m)\u001b[0m\u001b[0;34m\u001b[0m\u001b[0;34m\u001b[0m\u001b[0m\n",
      "\u001b[0;31mTypeError\u001b[0m: scatter() missing 1 required positional argument: 'y'"
     ]
    },
    {
     "data": {
      "image/png": "[encoded data removed]",
      "text/plain": [
       "<Figure size 432x288 with 1 Axes>"
      ]
     },
     "metadata": {
      "needs_background": "light"
     },
     "output_type": "display_data"
    }
   ],
   "source": [
    "# Graph the information\n",
    "fig = plt.figure()\n",
    "ax1 = fig.add_subplot(111)\n",
    "\n",
    "ax1.scatter(apple_actual_predicted.iloc[:, 0], marker = \"+\", c = \"blue\")\n",
    "ax1.scatter(versicolorX, versicolorY, marker = \"o\", c = \"orange\")\n",
    "plt.show()"
   ]
  },
  {
   "cell_type": "code",
   "execution_count": null,
   "id": "7ad3f371",
   "metadata": {},
   "outputs": [],
   "source": []
  }
 ],
 "metadata": {
  "kernelspec": {
   "display_name": "Python 3 (ipykernel)",
   "language": "python",
   "name": "python3"
  },
  "language_info": {
   "codemirror_mode": {
    "name": "ipython",
    "version": 3
   },
   "file_extension": ".py",
   "mimetype": "text/x-python",
   "name": "python",
   "nbconvert_exporter": "python",
   "pygments_lexer": "ipython3",
   "version": "3.7.2"
  }
 },
 "nbformat": 4,
 "nbformat_minor": 5
}
